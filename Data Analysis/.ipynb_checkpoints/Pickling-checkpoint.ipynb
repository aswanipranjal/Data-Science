{
 "cells": [
  {
   "cell_type": "markdown",
   "metadata": {},
   "source": [
    "## Pickling"
   ]
  },
  {
   "cell_type": "markdown",
   "metadata": {},
   "source": [
    "### Using Quandl datasets of housing price indices"
   ]
  },
  {
   "cell_type": "code",
   "execution_count": 1,
   "metadata": {},
   "outputs": [
    {
     "name": "stdout",
     "output_type": "stream",
     "text": [
      "FMAC/HPI_AL\n",
      "FMAC/HPI_AK\n",
      "FMAC/HPI_AZ\n",
      "FMAC/HPI_AR\n",
      "FMAC/HPI_CA\n",
      "FMAC/HPI_CO\n",
      "FMAC/HPI_CT\n",
      "FMAC/HPI_DE\n",
      "FMAC/HPI_FL\n",
      "FMAC/HPI_GA\n",
      "FMAC/HPI_HI\n",
      "FMAC/HPI_ID\n",
      "FMAC/HPI_IL\n",
      "FMAC/HPI_IN\n",
      "FMAC/HPI_IA\n",
      "FMAC/HPI_KS\n",
      "FMAC/HPI_KY\n",
      "FMAC/HPI_LA\n",
      "FMAC/HPI_ME\n",
      "FMAC/HPI_MD\n",
      "FMAC/HPI_MA\n",
      "FMAC/HPI_MI\n",
      "FMAC/HPI_MN\n",
      "FMAC/HPI_MS\n",
      "FMAC/HPI_MO\n",
      "FMAC/HPI_MT\n",
      "FMAC/HPI_NE\n",
      "FMAC/HPI_NV\n",
      "FMAC/HPI_NH\n",
      "FMAC/HPI_NJ\n",
      "FMAC/HPI_NM\n",
      "FMAC/HPI_NY\n",
      "FMAC/HPI_NC\n",
      "FMAC/HPI_ND\n",
      "FMAC/HPI_OH\n",
      "FMAC/HPI_OK\n",
      "FMAC/HPI_OR\n",
      "FMAC/HPI_PA\n",
      "FMAC/HPI_RI\n",
      "FMAC/HPI_SC\n",
      "FMAC/HPI_SD\n",
      "FMAC/HPI_TN\n",
      "FMAC/HPI_TX\n",
      "FMAC/HPI_UT\n",
      "FMAC/HPI_VT\n",
      "FMAC/HPI_VA\n",
      "FMAC/HPI_WA\n",
      "FMAC/HPI_WV\n",
      "FMAC/HPI_WI\n",
      "FMAC/HPI_WY\n"
     ]
    }
   ],
   "source": [
    "# For this, we need to generate the ticker symbols for the Quandl queries, which is done as follows\n",
    "import quandl\n",
    "import pandas as pd\n",
    "\n",
    "api_key = 'VDxfKkzAm8MFL1fZsSat'\n",
    "\n",
    "# The quandl module automatically assigns the index, \n",
    "# here the 'Date' column is assigned as the index\n",
    "# Read fifty state codes through pandas, parsing a table on wikipedia\n",
    "fifty_states = pd.read_html('https://simple.wikipedia.org/wiki/List_of_U.S._states')\n",
    "\n",
    "# The link contains multiple tables, so fifty_states contains a list of\n",
    "# dataframes. We need to figure out which is the one that we require\n",
    "for abbv in fifty_states[0][0][1:]:\n",
    "    print('FMAC/HPI_' + str(abbv))"
   ]
  },
  {
   "cell_type": "code",
   "execution_count": null,
   "metadata": {
    "collapsed": true
   },
   "outputs": [],
   "source": [
    "# Create empty dataframe to append to\n",
    "main_df = pd.DataFrame()\n",
    "\n",
    "for abbv in fifty_states[0][0][1:]:\n",
    "    query = 'FMAC/HPI_' + str(abbv)\n",
    "    df = quandl.get(query, authtoken=api_key)\n",
    "    \n",
    "    if main_df.empty:\n",
    "        main.df = df\n",
    "        \n",
    "    else:\n",
    "        main_df = main_df.join(df)\n",
    "\n",
    "print(main_df.head())"
   ]
  }
 ],
 "metadata": {
  "kernelspec": {
   "display_name": "Python 3",
   "language": "python",
   "name": "python3"
  },
  "language_info": {
   "codemirror_mode": {
    "name": "ipython",
    "version": 3
   },
   "file_extension": ".py",
   "mimetype": "text/x-python",
   "name": "python",
   "nbconvert_exporter": "python",
   "pygments_lexer": "ipython3",
   "version": "3.6.1"
  }
 },
 "nbformat": 4,
 "nbformat_minor": 2
}
