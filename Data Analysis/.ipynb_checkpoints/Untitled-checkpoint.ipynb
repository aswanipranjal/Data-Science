{
 "cells": [
  {
   "cell_type": "markdown",
   "metadata": {},
   "source": [
    "Joining and merging dataframes"
   ]
  },
  {
   "cell_type": "code",
   "execution_count": 1,
   "metadata": {
    "collapsed": true
   },
   "outputs": [],
   "source": [
    "import pandas as pd\n",
    "\n",
    "# toy dataframes\n",
    "df1 = pd.DataFrame({'Year':[2001, 2002, 2003, 2004], \n",
    "                    'Int_rate':[2, 3, 2, 2], \n",
    "                    'US_GDP_Thousands':[50, 55, 65, 55]})\n",
    "\n",
    "df2 = pd.DataFrame({'Year':[2001, 2003, 2004, 2005], \n",
    "                    'Int_rate':[7, 8, 9, 6], \n",
    "                    'Low_tier_HPI':[50, 52, 50, 53]})"
   ]
  },
  {
   "cell_type": "code",
   "execution_count": 2,
   "metadata": {},
   "outputs": [
    {
     "name": "stdout",
     "output_type": "stream",
     "text": [
      "      Int_rate_x  US_GDP_Thousands  Int_rate_y  Low_tier_HPI\n",
      "Year                                                        \n",
      "2001           2                50         7.0          50.0\n",
      "2002           3                55         NaN           NaN\n",
      "2003           2                65         8.0          52.0\n",
      "2004           2                55         9.0          50.0\n"
     ]
    }
   ],
   "source": [
    "# A left join considers the join according to the indices \n",
    "# of the first dataframe\n",
    "# This is how a left join works\n",
    "merged = pd.merge(df1, df2, on='Year', how='left')\n",
    "merged.set_index('Year', inplace=True)\n",
    "print(merged)"
   ]
  },
  {
   "cell_type": "code",
   "execution_count": 3,
   "metadata": {},
   "outputs": [
    {
     "name": "stdout",
     "output_type": "stream",
     "text": [
      "      Int_rate_x  US_GDP_Thousands  Int_rate_y  Low_tier_HPI\n",
      "Year                                                        \n",
      "2001           2                50         7.0          50.0\n",
      "2002           3                55         NaN           NaN\n",
      "2003           2                65         8.0          52.0\n",
      "2004           2                55         9.0          50.0\n"
     ]
    }
   ],
   "source": [
    "# A right join considers the join according to the indices\n",
    "# of the second dataframe\n",
    "merged = pd.merge(df1, df2, on='Year', how='right')\n",
    "merged.set_index('Year', inplace=True)\n",
    "print(merged)"
   ]
  },
  {
   "cell_type": "code",
   "execution_count": null,
   "metadata": {
    "collapsed": true
   },
   "outputs": [],
   "source": []
  }
 ],
 "metadata": {
  "kernelspec": {
   "display_name": "Python 3",
   "language": "python",
   "name": "python3"
  },
  "language_info": {
   "codemirror_mode": {
    "name": "ipython",
    "version": 3
   },
   "file_extension": ".py",
   "mimetype": "text/x-python",
   "name": "python",
   "nbconvert_exporter": "python",
   "pygments_lexer": "ipython3",
   "version": "3.6.1"
  }
 },
 "nbformat": 4,
 "nbformat_minor": 2
}
