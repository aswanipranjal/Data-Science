{
 "cells": [
  {
   "cell_type": "markdown",
   "metadata": {},
   "source": [
    "Joining and merging dataframes"
   ]
  },
  {
   "cell_type": "code",
   "execution_count": null,
   "metadata": {
    "collapsed": true
   },
   "outputs": [],
   "source": [
    "import pandas as pd\n",
    "\n",
    "# toy dataframes\n",
    "df1 = pd.DataFrame({'Year':[2001, 2002, 2003, 2004], \n",
    "                    'Int_rate':[2, 3, 2, 2], \n",
    "                    'US_GDP_Thousands':[50, 55, 65, 55]})\n",
    "\n",
    "df2 = pd.DataFrame({'Year':[2001, 2003, 2004, 2005], \n",
    "                    'Int_rate':[7, 8, 9, 6], \n",
    "                    'Low_tier_HPI':[50, 52, 50, 53]})"
   ]
  }
 ],
 "metadata": {
  "kernelspec": {
   "display_name": "Python 3",
   "language": "python",
   "name": "python3"
  },
  "language_info": {
   "codemirror_mode": {
    "name": "ipython",
    "version": 3
   },
   "file_extension": ".py",
   "mimetype": "text/x-python",
   "name": "python",
   "nbconvert_exporter": "python",
   "pygments_lexer": "ipython3",
   "version": "3.6.1"
  }
 },
 "nbformat": 4,
 "nbformat_minor": 2
}
