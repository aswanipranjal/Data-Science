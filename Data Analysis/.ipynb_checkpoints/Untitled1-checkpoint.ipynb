{
 "cells": [
  {
   "cell_type": "markdown",
   "metadata": {},
   "source": [
    "## Pickling"
   ]
  },
  {
   "cell_type": "markdown",
   "metadata": {},
   "source": [
    "### Using Quandl datasets of housing price indices"
   ]
  },
  {
   "cell_type": "code",
   "execution_count": null,
   "metadata": {
    "collapsed": true
   },
   "outputs": [],
   "source": [
    "# For this, we need to generate the ticker symbols for the Quandl queries, which is done as follows\n",
    "import quandl\n",
    "import pandas as pd\n",
    "\n",
    "api_key = 'VDxfKkzAm8MFL1fZsSat'\n",
    "\n",
    "# The quandl module automatically assigns the index, \n",
    "# here the 'Date' column is assigned as the index\n",
    "# Read fifty state codes through pandas, parsing a table on wikipedia\n",
    "fifty_states = pd.read_html('https://simple.wikipedia.org/wiki/List_of_U.S._states')\n",
    "\n",
    "# The link contains multiple tables, so fifty_states contains a list of\n",
    "# dataframes. We need to figure out which is the one that we require\n",
    "for abbv in fifty_states[0][0][1:]:\n",
    "    print('FMAC/HPI_' + str(abbv))"
   ]
  }
 ],
 "metadata": {
  "kernelspec": {
   "display_name": "Python 3",
   "language": "python",
   "name": "python3"
  },
  "language_info": {
   "codemirror_mode": {
    "name": "ipython",
    "version": 3
   },
   "file_extension": ".py",
   "mimetype": "text/x-python",
   "name": "python",
   "nbconvert_exporter": "python",
   "pygments_lexer": "ipython3",
   "version": "3.6.1"
  }
 },
 "nbformat": 4,
 "nbformat_minor": 2
}
