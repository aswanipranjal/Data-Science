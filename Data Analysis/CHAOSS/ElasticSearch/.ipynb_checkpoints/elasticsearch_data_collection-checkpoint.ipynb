{
 "cells": [
  {
   "cell_type": "code",
   "execution_count": null,
   "metadata": {},
   "outputs": [],
   "source": [
    "# !/usr/bin/env python3\n",
    "import subprocess\n",
    "from sys import argv\n",
    "\n",
    "token = argv[1]\n",
    "repos = ['perceval', 'arthur', 'grimoireelk', 'sortinghat', 'mordred', 'panels', 'training']\n",
    "\n",
    "for repo in repos:\n",
    "    # produce git and git_raw indices from git repo\n",
    "    subprocess.run(['p2o.py', '--enrich', '--index', 'git_raw', '--index-enrich', 'git', '-e', 'http://localhost:9200', '--no_inc', '--debug', 'git', 'https://github.com/grimoirelab/' + repo])\n",
    "    # produce github and github_raw indices from GitHub issues and prs\n",
    "    subprocess.run(['p2o.py', '--enrich', '--index', 'github_raw', '--index-enrich', 'github', '-e', 'http://localhost:9200', '--no_inc', '--debug', 'github', 'grimoirelab', repo, '-t', token, '--sleep-for-rate'])"
   ]
  }
 ],
 "metadata": {
  "kernelspec": {
   "display_name": "Python 3",
   "language": "python",
   "name": "python3"
  },
  "language_info": {
   "codemirror_mode": {
    "name": "ipython",
    "version": 3
   },
   "file_extension": ".py",
   "mimetype": "text/x-python",
   "name": "python",
   "nbconvert_exporter": "python",
   "pygments_lexer": "ipython3",
   "version": "3.6.4"
  }
 },
 "nbformat": 4,
 "nbformat_minor": 2
}
