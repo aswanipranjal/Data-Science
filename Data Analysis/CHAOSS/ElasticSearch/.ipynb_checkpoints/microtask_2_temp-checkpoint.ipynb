{
 "cells": [
  {
   "cell_type": "markdown",
   "metadata": {},
   "source": [
    "# Microtask 2\n",
    "---\n",
    "Produce a chart showing the distribution of time-to-close (using the corresponding field in the GrimoireLab enriched index for GitHub issues) for issues already closed, and opened during the last six months."
   ]
  },
  {
   "cell_type": "code",
   "execution_count": 1,
   "metadata": {},
   "outputs": [],
   "source": [
    "from datetime import datetime\n",
    "from elasticsearch import Elasticsearch\n",
    "from elasticsearch_dsl import Search\n",
    "\n",
    "import subprocess\n",
    "import pandas as pd\n",
    "\n",
    "import matplotlib.pyplot as pd\n",
    "%matplotlib inline"
   ]
  },
  {
   "cell_type": "markdown",
   "metadata": {},
   "source": [
    "Assuming we have a running instance of Elasticsearch locally at http://localhost:9200"
   ]
  },
  {
   "cell_type": "code",
   "execution_count": 2,
   "metadata": {},
   "outputs": [],
   "source": [
    "# elasticsearch instance\n",
    "es = Elasticsearch('http://localhost:9200', verify_certs=False)"
   ]
  },
  {
   "cell_type": "markdown",
   "metadata": {},
   "source": [
    "The [grimoirelab-perceval](https://github.com/chaoss/grimoirelab-perceval) repository will be used"
   ]
  },
  {
   "cell_type": "code",
   "execution_count": 3,
   "metadata": {},
   "outputs": [],
   "source": [
    "org = 'chaoss'\n",
    "repo = 'grimoirelab-perceval'\n",
    "token = ''"
   ]
  },
  {
   "cell_type": "markdown",
   "metadata": {},
   "source": [
    "Run the `p2o.py` subprocess to generate the indices."
   ]
  },
  {
   "cell_type": "code",
   "execution_count": 4,
   "metadata": {},
   "outputs": [
    {
     "data": {
      "text/plain": [
       "CompletedProcess(args=['p2o.py', '--enrich', '--index', 'perceval_github_raw', '--index-enrich', 'perceval_github', '-e', 'http://localhost:9200', '--no_inc', '--debug', 'github', 'chaoss', 'grimoirelab-perceval', '-t', '1be89fc7151192be77782ef93778861242a48925', '--sleep-for-rate'], returncode=0)"
      ]
     },
     "execution_count": 4,
     "metadata": {},
     "output_type": "execute_result"
    }
   ],
   "source": [
    "subprocess.run(['p2o.py', '--enrich', '--index', 'perceval_github_raw', '--index-enrich', 'perceval_github', '-e', 'http://localhost:9200', '--no_inc', '--debug', 'github', org, repo, '-t', token, '--sleep-for-rate'])"
   ]
  },
  {
   "cell_type": "markdown",
   "metadata": {},
   "source": [
    "Frame a query for the required information using the `elasticsearch_dsl` module."
   ]
  },
  {
   "cell_type": "code",
   "execution_count": 6,
   "metadata": {},
   "outputs": [],
   "source": [
    "s = Search(using=es, index='perceval_github')\n",
    "# filter by issues\n",
    "s = s.filter('terms', item_type=['issue'])\n",
    "# filter issues created in the last six months\n",
    "s = s.filter('range', created_at={'gte' : 'now-6M'})\n",
    "# get required fields\n",
    "s = s.source(['time_to_close_days', 'time_open_days', 'item_type', 'created_at', 'closed_at', 'author_name', 'id_in_repo'])\n",
    "# sort by creation date\n",
    "s = s.sort({'created_at': {'order': 'asc'}})\n",
    "# limit the number of results\n",
    "s = s[0:1000]"
   ]
  },
  {
   "cell_type": "code",
   "execution_count": null,
   "metadata": {},
   "outputs": [],
   "source": []
  }
 ],
 "metadata": {
  "kernelspec": {
   "display_name": "Python 3",
   "language": "python",
   "name": "python3"
  },
  "language_info": {
   "codemirror_mode": {
    "name": "ipython",
    "version": 3
   },
   "file_extension": ".py",
   "mimetype": "text/x-python",
   "name": "python",
   "nbconvert_exporter": "python",
   "pygments_lexer": "ipython3",
   "version": "3.6.4"
  }
 },
 "nbformat": 4,
 "nbformat_minor": 2
}
