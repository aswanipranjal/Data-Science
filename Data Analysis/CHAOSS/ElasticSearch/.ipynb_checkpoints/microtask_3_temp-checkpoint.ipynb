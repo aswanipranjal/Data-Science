{
 "cells": [
  {
   "cell_type": "markdown",
   "metadata": {},
   "source": [
    "# Microtask 3\n",
    "---\n",
    "Produce a listing of repositories, as a table and as a .csv file, with the number of commits authored, issues opened, and pull requests opened, during the last three months, ordered by total number (commits plus issues plus pull requests)."
   ]
  },
  {
   "cell_type": "code",
   "execution_count": 1,
   "metadata": {},
   "outputs": [],
   "source": [
    "from datetime import datetime\n",
    "from elasticsearch import Elasticsearch\n",
    "from elasticsearch_dsl import Search\n",
    "\n",
    "import subprocess\n",
    "import pandas as pd\n",
    "\n",
    "import matplotlib.pyplot as plt\n",
    "%matplotlib inline"
   ]
  },
  {
   "cell_type": "markdown",
   "metadata": {},
   "source": [
    "Assuming we have a running instance of Elasticsearch locally at http://localhost:9200"
   ]
  },
  {
   "cell_type": "code",
   "execution_count": 2,
   "metadata": {},
   "outputs": [],
   "source": [
    "# elasticsearch instance\n",
    "es = Elasticsearch('http://localhost:9200', verify_certs=False)"
   ]
  },
  {
   "cell_type": "code",
   "execution_count": 4,
   "metadata": {},
   "outputs": [
    {
     "ename": "NameError",
     "evalue": "name 'org' is not defined",
     "output_type": "error",
     "traceback": [
      "\u001b[0;31m---------------------------------------------------------------------------\u001b[0m",
      "\u001b[0;31mNameError\u001b[0m                                 Traceback (most recent call last)",
      "\u001b[0;32m<ipython-input-4-f89eb4e14050>\u001b[0m in \u001b[0;36m<module>\u001b[0;34m()\u001b[0m\n\u001b[1;32m      2\u001b[0m repos = {\n\u001b[1;32m      3\u001b[0m     \u001b[0;36m1\u001b[0m\u001b[0;34m:\u001b[0m\u001b[0;34m\u001b[0m\u001b[0m\n\u001b[0;32m----> 4\u001b[0;31m     {org: 'chaoss', \n\u001b[0m\u001b[1;32m      5\u001b[0m      \u001b[0mrepo\u001b[0m\u001b[0;34m:\u001b[0m \u001b[0;34m'grimoirelab-perceval'\u001b[0m\u001b[0;34m,\u001b[0m\u001b[0;34m\u001b[0m\u001b[0m\n\u001b[1;32m      6\u001b[0m      \u001b[0mindex_raw\u001b[0m\u001b[0;34m:\u001b[0m \u001b[0;34m'perceval_r'\u001b[0m\u001b[0;34m,\u001b[0m\u001b[0;34m\u001b[0m\u001b[0m\n",
      "\u001b[0;31mNameError\u001b[0m: name 'org' is not defined"
     ]
    }
   ],
   "source": [
    "# the following repositories will be used\n",
    "repos = {\n",
    "    1:\n",
    "    {'org': 'chaoss', \n",
    "     'repo': 'grimoirelab-perceval', \n",
    "     'index_raw': 'perceval_r', \n",
    "     'index_enriched': 'perceval', \n",
    "     'index_github_raw': 'perceval_g_r', \n",
    "     'index_github_enriched': 'perceval_g'},\n",
    "    2:\n",
    "    {'org': 'chaoss',\n",
    "     'repo': 'grimoirelab-kingarthur',\n",
    "     'index_raw': 'arthur_r',\n",
    "     'index_enriched': 'arthur',\n",
    "     'index_github_raw': 'arthur_g_r',\n",
    "     'index_github_enriched': 'arthur_g'},\n",
    "    3:\n",
    "    {'org': 'chaoss',\n",
    "     'repo': 'grimoirelab-sortinghat',\n",
    "     'index_raw': 'sortinghat_r',\n",
    "     'index_enriched': 'sortinghat',\n",
    "     'index_github_raw': 'sortinghat_g_r',\n",
    "     'index_github_enriched': 'sortinghat_g'},\n",
    "    4:\n",
    "    {'org': 'chaoss',\n",
    "     'repo': 'grimoirelab-mordred',\n",
    "     'index_raw': 'mordred_r',\n",
    "     'index_enriched': 'mordred',\n",
    "     'index_github_raw': 'mordred_g_r',\n",
    "     'index_github_enriched': 'mordred_g'},\n",
    "    5:\n",
    "    {'org': 'chaoss',\n",
    "     'repo': 'grimoirelab-manuscripts',\n",
    "     'index_raw': 'manuscripts_r',\n",
    "     'index_enriched': 'manuscripts',\n",
    "     'index_github_raw': 'manuscripts_g_r',\n",
    "     'index_github_enriched': 'manuscripts_g'}\n",
    "}"
   ]
  },
  {
   "cell_type": "code",
   "execution_count": null,
   "metadata": {},
   "outputs": [],
   "source": []
  }
 ],
 "metadata": {
  "kernelspec": {
   "display_name": "Python 3",
   "language": "python",
   "name": "python3"
  },
  "language_info": {
   "codemirror_mode": {
    "name": "ipython",
    "version": 3
   },
   "file_extension": ".py",
   "mimetype": "text/x-python",
   "name": "python",
   "nbconvert_exporter": "python",
   "pygments_lexer": "ipython3",
   "version": "3.6.4"
  }
 },
 "nbformat": 4,
 "nbformat_minor": 2
}
