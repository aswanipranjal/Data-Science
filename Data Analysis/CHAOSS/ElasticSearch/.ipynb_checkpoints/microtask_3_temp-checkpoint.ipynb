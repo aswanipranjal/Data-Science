{
 "cells": [
  {
   "cell_type": "markdown",
   "metadata": {},
   "source": [
    "# Microtask 3\n",
    "---\n",
    "Produce a listing of repositories, as a table and as a .csv file, with the number of commits authored, issues opened, and pull requests opened, during the last three months, ordered by total number (commits plus issues plus pull requests)."
   ]
  },
  {
   "cell_type": "code",
   "execution_count": 1,
   "metadata": {},
   "outputs": [],
   "source": [
    "from datetime import datetime\n",
    "from elasticsearch import Elasticsearch\n",
    "from elasticsearch_dsl import Search\n",
    "\n",
    "import subprocess\n",
    "import pandas as pd\n",
    "\n",
    "import matplotlib.pyplot as plt\n",
    "%matplotlib inline"
   ]
  },
  {
   "cell_type": "markdown",
   "metadata": {},
   "source": [
    "Assuming we have a running instance of Elasticsearch locally at http://localhost:9200"
   ]
  },
  {
   "cell_type": "code",
   "execution_count": 2,
   "metadata": {},
   "outputs": [],
   "source": [
    "# elasticsearch instance\n",
    "es = Elasticsearch('http://localhost:9200', verify_certs=False)"
   ]
  },
  {
   "cell_type": "code",
   "execution_count": 3,
   "metadata": {},
   "outputs": [],
   "source": [
    "# the following repositories will be used\n",
    "repos = [\n",
    "    {'org': 'chaoss', \n",
    "     'repo': 'grimoirelab-perceval', \n",
    "     'index_raw': 'perceval_r', \n",
    "     'index_enriched': 'perceval', \n",
    "     'index_github_raw': 'perceval_g_r', \n",
    "     'index_github_enriched': 'perceval_g'},\n",
    "    {'org': 'chaoss',\n",
    "     'repo': 'grimoirelab-kingarthur',\n",
    "     'index_raw': 'arthur_r',\n",
    "     'index_enriched': 'arthur',\n",
    "     'index_github_raw': 'arthur_g_r',\n",
    "     'index_github_enriched': 'arthur_g'},\n",
    "    {'org': 'chaoss',\n",
    "     'repo': 'grimoirelab-sortinghat',\n",
    "     'index_raw': 'sortinghat_r',\n",
    "     'index_enriched': 'sortinghat',\n",
    "     'index_github_raw': 'sortinghat_g_r',\n",
    "     'index_github_enriched': 'sortinghat_g'},\n",
    "    {'org': 'chaoss',\n",
    "     'repo': 'grimoirelab-mordred',\n",
    "     'index_raw': 'mordred_r',\n",
    "     'index_enriched': 'mordred',\n",
    "     'index_github_raw': 'mordred_g_r',\n",
    "     'index_github_enriched': 'mordred_g'},\n",
    "    {'org': 'chaoss',\n",
    "     'repo': 'grimoirelab-manuscripts',\n",
    "     'index_raw': 'manuscripts_r',\n",
    "     'index_enriched': 'manuscripts',\n",
    "     'index_github_raw': 'manuscripts_g_r',\n",
    "     'index_github_enriched': 'manuscripts_g'}\n",
    "]\n",
    "token = ''"
   ]
  },
  {
   "cell_type": "markdown",
   "metadata": {},
   "source": [
    "Run `p2o.py` to extract data from these repositories"
   ]
  },
  {
   "cell_type": "code",
   "execution_count": null,
   "metadata": {},
   "outputs": [],
   "source": [
    "for repo in repos:\n",
    "    print(f\"Fetching git indices for {repo['repo']}\")\n",
    "    subprocess.run(['p2o.py', '--enrich', '--index', repo['index_raw'], '--index-enrich', repo['index_enriched'], '-e', 'http://localhost:9200', '--no_inc', '--debug', 'git', 'https://github.com/' + repo['org'] + '/' + repo['repo'] + '.git'])\n",
    "    print(f\"Fetching GitHub indices for {repo['repo']}\")\n",
    "    subprocess.run(['p2o.py', '--enrich', '--index', repo['index_github_raw'], '--index-enrich', repo['index_github_enriched'], '-e', 'http://localhost:9200', '--no_inc', '--debug', 'github', repo['org'], repo['repo'], '-t', token, '--sleep-for-rate'])\n",
    "    print('\\n')"
   ]
  },
  {
   "cell_type": "code",
   "execution_count": 5,
   "metadata": {
    "scrolled": false
   },
   "outputs": [
    {
     "name": "stdout",
     "output_type": "stream",
     "text": [
      "grimoirelab-perceval\n",
      "grimoirelab-kingarthur\n",
      "grimoirelab-sortinghat\n",
      "grimoirelab-mordred\n",
      "grimoirelab-manuscripts\n"
     ]
    }
   ],
   "source": [
    "df_issues = []\n",
    "df_pulls = []\n",
    "df_commits = []\n",
    "for repo in repos:\n",
    "    print(repo['repo'])\n",
    "    # get number of issues and pull requests for each repository in `repos`\n",
    "    s = Search(using=es, index=repo['index_github_enriched'])\n",
    "    s = s.filter('range', created_at={'gte' : 'now-3M'})\n",
    "    s = s.source(['time_to_close_days', 'time_open_days', 'item_type', 'created_at', 'closed_at', 'author_name', 'id_in_repo'])\n",
    "    s = s.sort({'created_at': {'order': 'asc'}})\n",
    "    result = s.execute().to_dict()['hits']['hits']\n",
    "    github = pd.DataFrame([ix['_source'] for ix in result])\n",
    "    df_issues.append(len(github.where(github.item_type == 'issue').dropna()))\n",
    "    df_pulls.append(len(github.where(github.item_type == 'pull request').dropna()))\n",
    "    \n",
    "    # get number of commits for each repository in `repos`\n",
    "    s = Search(using=es, index=repo['index_enriched'])\n",
    "    s = s.source(['commits_date'])\n",
    "    s = s.filter('range', commit_date={'gte' : 'now-3M'})\n",
    "    df_commits.append(s.execute()['hits']['total'])"
   ]
  },
  {
   "cell_type": "code",
   "execution_count": 6,
   "metadata": {},
   "outputs": [],
   "source": [
    "names = [repo['repo'] for repo in repos]"
   ]
  },
  {
   "cell_type": "code",
   "execution_count": 7,
   "metadata": {},
   "outputs": [],
   "source": [
    "df = pd.DataFrame(list(zip(names, df_issues, df_pulls, df_commits)))"
   ]
  },
  {
   "cell_type": "code",
   "execution_count": 8,
   "metadata": {},
   "outputs": [],
   "source": [
    "df['total'] = df[1] + df[2] + df[3]"
   ]
  },
  {
   "cell_type": "code",
   "execution_count": 9,
   "metadata": {},
   "outputs": [
    {
     "data": {
      "text/html": [
       "<div>\n",
       "<style scoped>\n",
       "    .dataframe tbody tr th:only-of-type {\n",
       "        vertical-align: middle;\n",
       "    }\n",
       "\n",
       "    .dataframe tbody tr th {\n",
       "        vertical-align: top;\n",
       "    }\n",
       "\n",
       "    .dataframe thead th {\n",
       "        text-align: right;\n",
       "    }\n",
       "</style>\n",
       "<table border=\"1\" class=\"dataframe\">\n",
       "  <thead>\n",
       "    <tr style=\"text-align: right;\">\n",
       "      <th></th>\n",
       "      <th>name</th>\n",
       "      <th>issues</th>\n",
       "      <th>pull_requests</th>\n",
       "      <th>commits</th>\n",
       "      <th>total</th>\n",
       "    </tr>\n",
       "  </thead>\n",
       "  <tbody>\n",
       "    <tr>\n",
       "      <th>0</th>\n",
       "      <td>grimoirelab-perceval</td>\n",
       "      <td>3</td>\n",
       "      <td>7</td>\n",
       "      <td>261</td>\n",
       "      <td>271</td>\n",
       "    </tr>\n",
       "    <tr>\n",
       "      <th>3</th>\n",
       "      <td>grimoirelab-mordred</td>\n",
       "      <td>0</td>\n",
       "      <td>9</td>\n",
       "      <td>107</td>\n",
       "      <td>116</td>\n",
       "    </tr>\n",
       "    <tr>\n",
       "      <th>2</th>\n",
       "      <td>grimoirelab-sortinghat</td>\n",
       "      <td>3</td>\n",
       "      <td>6</td>\n",
       "      <td>52</td>\n",
       "      <td>61</td>\n",
       "    </tr>\n",
       "    <tr>\n",
       "      <th>1</th>\n",
       "      <td>grimoirelab-kingarthur</td>\n",
       "      <td>1</td>\n",
       "      <td>5</td>\n",
       "      <td>27</td>\n",
       "      <td>33</td>\n",
       "    </tr>\n",
       "    <tr>\n",
       "      <th>4</th>\n",
       "      <td>grimoirelab-manuscripts</td>\n",
       "      <td>1</td>\n",
       "      <td>2</td>\n",
       "      <td>7</td>\n",
       "      <td>10</td>\n",
       "    </tr>\n",
       "  </tbody>\n",
       "</table>\n",
       "</div>"
      ],
      "text/plain": [
       "                      name  issues  pull_requests  commits  total\n",
       "0     grimoirelab-perceval       3              7      261    271\n",
       "3      grimoirelab-mordred       0              9      107    116\n",
       "2   grimoirelab-sortinghat       3              6       52     61\n",
       "1   grimoirelab-kingarthur       1              5       27     33\n",
       "4  grimoirelab-manuscripts       1              2        7     10"
      ]
     },
     "execution_count": 9,
     "metadata": {},
     "output_type": "execute_result"
    }
   ],
   "source": [
    "df.rename(columns={0:'name', 1:'issues', 2:'pull_requests', 3:'commits'}).sort_values(by='total', ascending=False)"
   ]
  },
  {
   "cell_type": "code",
   "execution_count": 10,
   "metadata": {},
   "outputs": [],
   "source": [
    "df.to_csv('repo-list.csv')"
   ]
  }
 ],
 "metadata": {
  "kernelspec": {
   "display_name": "Python 3",
   "language": "python",
   "name": "python3"
  },
  "language_info": {
   "codemirror_mode": {
    "name": "ipython",
    "version": 3
   },
   "file_extension": ".py",
   "mimetype": "text/x-python",
   "name": "python",
   "nbconvert_exporter": "python",
   "pygments_lexer": "ipython3",
   "version": "3.6.4"
  }
 },
 "nbformat": 4,
 "nbformat_minor": 2
}
