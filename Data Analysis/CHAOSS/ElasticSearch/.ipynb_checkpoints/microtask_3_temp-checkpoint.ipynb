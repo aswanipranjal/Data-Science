{
 "cells": [
  {
   "cell_type": "markdown",
   "metadata": {},
   "source": [
    "# Microtask 3\n",
    "---\n",
    "Produce a listing of repositories, as a table and as a .csv file, with the number of commits authored, issues opened, and pull requests opened, during the last three months, ordered by total number (commits plus issues plus pull requests)."
   ]
  },
  {
   "cell_type": "code",
   "execution_count": 1,
   "metadata": {},
   "outputs": [],
   "source": [
    "from datetime import datetime\n",
    "from elasticsearch import Elasticsearch\n",
    "from elasticsearch_dsl import Search\n",
    "\n",
    "import subprocess\n",
    "import pandas as pd\n",
    "\n",
    "import matplotlib.pyplot as plt\n",
    "%matplotlib inline"
   ]
  },
  {
   "cell_type": "markdown",
   "metadata": {},
   "source": [
    "Assuming we have a running instance of Elasticsearch locally at http://localhost:9200"
   ]
  },
  {
   "cell_type": "code",
   "execution_count": 2,
   "metadata": {},
   "outputs": [],
   "source": [
    "# elasticsearch instance\n",
    "es = Elasticsearch('http://localhost:9200', verify_certs=False)"
   ]
  },
  {
   "cell_type": "code",
   "execution_count": 3,
   "metadata": {},
   "outputs": [],
   "source": [
    "# the following repositories will be used\n",
    "repos = [\n",
    "    {'org': 'chaoss', \n",
    "     'repo': 'grimoirelab-perceval', \n",
    "     'index_raw': 'perceval_r', \n",
    "     'index_enriched': 'perceval', \n",
    "     'index_github_raw': 'perceval_g_r', \n",
    "     'index_github_enriched': 'perceval_g'},\n",
    "    {'org': 'chaoss',\n",
    "     'repo': 'grimoirelab-kingarthur',\n",
    "     'index_raw': 'arthur_r',\n",
    "     'index_enriched': 'arthur',\n",
    "     'index_github_raw': 'arthur_g_r',\n",
    "     'index_github_enriched': 'arthur_g'},\n",
    "    {'org': 'chaoss',\n",
    "     'repo': 'grimoirelab-sortinghat',\n",
    "     'index_raw': 'sortinghat_r',\n",
    "     'index_enriched': 'sortinghat',\n",
    "     'index_github_raw': 'sortinghat_g_r',\n",
    "     'index_github_enriched': 'sortinghat_g'},\n",
    "    {'org': 'chaoss',\n",
    "     'repo': 'grimoirelab-mordred',\n",
    "     'index_raw': 'mordred_r',\n",
    "     'index_enriched': 'mordred',\n",
    "     'index_github_raw': 'mordred_g_r',\n",
    "     'index_github_enriched': 'mordred_g'},\n",
    "    {'org': 'chaoss',\n",
    "     'repo': 'grimoirelab-manuscripts',\n",
    "     'index_raw': 'manuscripts_r',\n",
    "     'index_enriched': 'manuscripts',\n",
    "     'index_github_raw': 'manuscripts_g_r',\n",
    "     'index_github_enriched': 'manuscripts_g'}\n",
    "]\n",
    "token = ''"
   ]
  },
  {
   "cell_type": "markdown",
   "metadata": {},
   "source": [
    "Run `p2o.py` to extract data from these repositories"
   ]
  },
  {
   "cell_type": "code",
   "execution_count": null,
   "metadata": {},
   "outputs": [],
   "source": [
    "for repo in repos:\n",
    "    print(f\"Fetching git indices for {repo['repo']}\")\n",
    "    subprocess.run(['p2o.py', '--enrich', '--index', repo['index_raw'], '--index-enrich', repo['index_enriched'], '-e', 'http://localhost:9200', '--no_inc', '--debug', 'git', 'https://github.com/' + repo['org'] + '/' + repo['repo'] + '.git'])\n",
    "    print(f\"Fetching GitHub indices for {repo['repo']}\")\n",
    "    subprocess.run(['p2o.py', '--enrich', '--index', repo['index_github_raw'], '--index-enrich', repo['index_github_enriched'], '-e', 'http://localhost:9200', '--no_inc', '--debug', 'github', repo['org'], repo['repo'], '-t', token, '--sleep-for-rate'])\n",
    "    print('\\n')"
   ]
  },
  {
   "cell_type": "markdown",
   "metadata": {},
   "source": [
    "Now we need to query the indices and find the number of issues, pull requests and commits in the last 3 months."
   ]
  },
  {
   "cell_type": "code",
   "execution_count": 5,
   "metadata": {
    "scrolled": false
   },
   "outputs": [
    {
     "name": "stdout",
     "output_type": "stream",
     "text": [
      "grimoirelab-perceval\n",
      "grimoirelab-kingarthur\n",
      "grimoirelab-sortinghat\n",
      "grimoirelab-mordred\n",
      "grimoirelab-manuscripts\n"
     ]
    }
   ],
   "source": [
    "df_issues = []\n",
    "df_pulls = []\n",
    "df_commits = []\n",
    "for repo in repos:\n",
    "    print(repo['repo'])\n",
    "    # get number of issues and pull requests for each repository in `repos`\n",
    "    s = Search(using=es, index=repo['index_github_enriched'])\n",
    "    # filter by time (less than 3 months)\n",
    "    s = s.filter('range', created_at={'gte' : 'now-3M'})\n",
    "    # we only need the `item_type` and `created_at`\n",
    "    s = s.source(['item_type', 'created_at'])\n",
    "    # sort by date of creation\n",
    "    s = s.sort({'created_at': {'order': 'asc'}})\n",
    "    # execute the query\n",
    "    result = s.execute().to_dict()['hits']['hits']\n",
    "    # create a DataFrame\n",
    "    github = pd.DataFrame([ix['_source'] for ix in result])\n",
    "    # append number of issues for each repository in `df_issues`\n",
    "    df_issues.append(len(github.where(github.item_type == 'issue').dropna()))\n",
    "    # append number of pull-requests for each repository in `df_pulls`\n",
    "    df_pulls.append(len(github.where(github.item_type == 'pull request').dropna()))\n",
    "    \n",
    "    # get number of commits for each repository in `repos`\n",
    "    s = Search(using=es, index=repo['index_enriched'])\n",
    "    # we only need the `commits_date` field\n",
    "    s = s.source(['commits_date'])\n",
    "    # filter by time (less than 3 months)\n",
    "    s = s.filter('range', commit_date={'gte' : 'now-3M'})\n",
    "    # append number of commits for each repository in `df_commits`\n",
    "    df_commits.append(s.execute()['hits']['total'])"
   ]
  },
  {
   "cell_type": "markdown",
   "metadata": {},
   "source": [
    "`names` stores the names of the repositories in consideration."
   ]
  },
  {
   "cell_type": "code",
   "execution_count": 6,
   "metadata": {},
   "outputs": [],
   "source": [
    "names = [repo['repo'] for repo in repos]"
   ]
  },
  {
   "cell_type": "markdown",
   "metadata": {},
   "source": [
    "Create a DataFrame `df` by zipping the required lists together."
   ]
  },
  {
   "cell_type": "code",
   "execution_count": 7,
   "metadata": {},
   "outputs": [],
   "source": [
    "df = pd.DataFrame(list(zip(names, df_issues, df_pulls, df_commits)))"
   ]
  },
  {
   "cell_type": "markdown",
   "metadata": {},
   "source": [
    "Calculate the `total` number."
   ]
  },
  {
   "cell_type": "code",
   "execution_count": 8,
   "metadata": {},
   "outputs": [],
   "source": [
    "df['total'] = df[1] + df[2] + df[3]"
   ]
  },
  {
   "cell_type": "markdown",
   "metadata": {},
   "source": [
    "Rename the columns appropriately."
   ]
  },
  {
   "cell_type": "code",
   "execution_count": 15,
   "metadata": {},
   "outputs": [
    {
     "data": {
      "text/html": [
       "<div>\n",
       "<style scoped>\n",
       "    .dataframe tbody tr th:only-of-type {\n",
       "        vertical-align: middle;\n",
       "    }\n",
       "\n",
       "    .dataframe tbody tr th {\n",
       "        vertical-align: top;\n",
       "    }\n",
       "\n",
       "    .dataframe thead th {\n",
       "        text-align: right;\n",
       "    }\n",
       "</style>\n",
       "<table border=\"1\" class=\"dataframe\">\n",
       "  <thead>\n",
       "    <tr style=\"text-align: right;\">\n",
       "      <th></th>\n",
       "      <th>name</th>\n",
       "      <th>issues</th>\n",
       "      <th>pull_requests</th>\n",
       "      <th>commits</th>\n",
       "      <th>total</th>\n",
       "    </tr>\n",
       "  </thead>\n",
       "  <tbody>\n",
       "    <tr>\n",
       "      <th>0</th>\n",
       "      <td>grimoirelab-perceval</td>\n",
       "      <td>3</td>\n",
       "      <td>7</td>\n",
       "      <td>260</td>\n",
       "      <td>270</td>\n",
       "    </tr>\n",
       "    <tr>\n",
       "      <th>3</th>\n",
       "      <td>grimoirelab-mordred</td>\n",
       "      <td>1</td>\n",
       "      <td>9</td>\n",
       "      <td>107</td>\n",
       "      <td>117</td>\n",
       "    </tr>\n",
       "    <tr>\n",
       "      <th>2</th>\n",
       "      <td>grimoirelab-sortinghat</td>\n",
       "      <td>4</td>\n",
       "      <td>6</td>\n",
       "      <td>52</td>\n",
       "      <td>62</td>\n",
       "    </tr>\n",
       "    <tr>\n",
       "      <th>1</th>\n",
       "      <td>grimoirelab-kingarthur</td>\n",
       "      <td>1</td>\n",
       "      <td>9</td>\n",
       "      <td>27</td>\n",
       "      <td>37</td>\n",
       "    </tr>\n",
       "    <tr>\n",
       "      <th>4</th>\n",
       "      <td>grimoirelab-manuscripts</td>\n",
       "      <td>7</td>\n",
       "      <td>3</td>\n",
       "      <td>7</td>\n",
       "      <td>17</td>\n",
       "    </tr>\n",
       "  </tbody>\n",
       "</table>\n",
       "</div>"
      ],
      "text/plain": [
       "                      name  issues  pull_requests  commits  total\n",
       "0     grimoirelab-perceval       3              7      260    270\n",
       "3      grimoirelab-mordred       1              9      107    117\n",
       "2   grimoirelab-sortinghat       4              6       52     62\n",
       "1   grimoirelab-kingarthur       1              9       27     37\n",
       "4  grimoirelab-manuscripts       7              3        7     17"
      ]
     },
     "execution_count": 15,
     "metadata": {},
     "output_type": "execute_result"
    }
   ],
   "source": [
    "df.rename(columns={0:'name', 1:'issues', 2:'pull_requests', 3:'commits'}, inplace=True)\n",
    "df.sort_values(by='total', ascending=False)"
   ]
  },
  {
   "cell_type": "markdown",
   "metadata": {},
   "source": [
    "Let's plot the data-frame."
   ]
  },
  {
   "cell_type": "code",
   "execution_count": 16,
   "metadata": {},
   "outputs": [
    {
     "data": {
      "image/png": "[encoded data removed]",
      "text/plain": [
       "<matplotlib.figure.Figure at 0x7fdba44a9898>"
      ]
     },
     "metadata": {},
     "output_type": "display_data"
    }
   ],
   "source": [
    "ax = df.plot(x=df.name, kind='bar', figsize=(20, 10))\n",
    "ax.set_title('Issues, pull-requests and commits for the last 3 months')\n",
    "ax.set_xlabel('Name of repository')\n",
    "ax.set_ylabel('Number')\n",
    "plt.show()"
   ]
  },
  {
   "cell_type": "markdown",
   "metadata": {},
   "source": [
    "Convert to `.csv` file."
   ]
  },
  {
   "cell_type": "code",
   "execution_count": 17,
   "metadata": {},
   "outputs": [],
   "source": [
    "df.to_csv('repo-list.csv')"
   ]
  }
 ],
 "metadata": {
  "kernelspec": {
   "display_name": "Python 3",
   "language": "python",
   "name": "python3"
  },
  "language_info": {
   "codemirror_mode": {
    "name": "ipython",
    "version": 3
   },
   "file_extension": ".py",
   "mimetype": "text/x-python",
   "name": "python",
   "nbconvert_exporter": "python",
   "pygments_lexer": "ipython3",
   "version": "3.6.4"
  }
 },
 "nbformat": 4,
 "nbformat_minor": 2
}
