{
 "cells": [
  {
   "cell_type": "code",
   "execution_count": 1,
   "metadata": {},
   "outputs": [],
   "source": [
    "from datetime import datetime\n",
    "\n",
    "from elasticsearch import Elasticsearch\n",
    "from elasticsearch_dsl import Search\n",
    "\n",
    "import pandas as pd"
   ]
  },
  {
   "cell_type": "code",
   "execution_count": 2,
   "metadata": {},
   "outputs": [],
   "source": [
    "# object for accessing the ElasticSearch instance\n",
    "es = Elasticsearch('http://localhost:9200', verify_certs=False)"
   ]
  },
  {
   "cell_type": "code",
   "execution_count": 3,
   "metadata": {},
   "outputs": [
    {
     "data": {
      "text/plain": [
       "CompletedProcess(args=['p2o.py', '--enrich', '--index', 'ix_perceval_raw', '--index-enrich', 'ix_perceval', '-e', 'http://localhost:9200', '--no_inc', '--debug', 'git', 'https://github.com/grimoirelab/perceval'], returncode=0)"
      ]
     },
     "execution_count": 3,
     "metadata": {},
     "output_type": "execute_result"
    }
   ],
   "source": [
    "# run p2o.py to generate indices\n",
    "import subprocess\n",
    "subprocess.run(['p2o.py', '--enrich', '--index', 'ix_perceval_raw', '--index-enrich', 'ix_perceval', '-e', 'http://localhost:9200', '--no_inc', '--debug', 'git', 'https://github.com/grimoirelab/perceval'])"
   ]
  },
  {
   "cell_type": "code",
   "execution_count": 4,
   "metadata": {},
   "outputs": [],
   "source": [
    "s = Search(using=es, index='ix_perceval')\n",
    "s.aggs.bucket('by_authors', 'terms', field='author_name', size=10000).metric('first_commit', 'min', field='author_date')\n",
    "s = s.sort('author_date')\n",
    "result = s.execute()"
   ]
  },
  {
   "cell_type": "code",
   "execution_count": 5,
   "metadata": {},
   "outputs": [],
   "source": [
    "buckets_result = result['aggregations']['by_authors']['buckets']\n",
    "buckets = []"
   ]
  },
  {
   "cell_type": "code",
   "execution_count": 6,
   "metadata": {},
   "outputs": [],
   "source": [
    "for bucket in buckets_result:\n",
    "    # divide by milliseconds\n",
    "    first_commit = bucket['first_commit']['value']/1000\n",
    "    buckets.append({'first_commit':datetime.utcfromtimestamp(first_commit), 'author':bucket['key']})"
   ]
  },
  {
   "cell_type": "code",
   "execution_count": 8,
   "metadata": {},
   "outputs": [
    {
     "data": {
      "text/html": [
       "<div>\n",
       "<style scoped>\n",
       "    .dataframe tbody tr th:only-of-type {\n",
       "        vertical-align: middle;\n",
       "    }\n",
       "\n",
       "    .dataframe tbody tr th {\n",
       "        vertical-align: top;\n",
       "    }\n",
       "\n",
       "    .dataframe thead th {\n",
       "        text-align: right;\n",
       "    }\n",
       "</style>\n",
       "<table border=\"1\" class=\"dataframe\">\n",
       "  <thead>\n",
       "    <tr style=\"text-align: right;\">\n",
       "      <th></th>\n",
       "      <th>author</th>\n",
       "      <th>first_commit</th>\n",
       "    </tr>\n",
       "  </thead>\n",
       "  <tbody>\n",
       "    <tr>\n",
       "      <th>0</th>\n",
       "      <td>Santiago Dueñas</td>\n",
       "      <td>2015-08-18 18:08:27</td>\n",
       "    </tr>\n",
       "    <tr>\n",
       "      <th>1</th>\n",
       "      <td>Valerio Cosentino</td>\n",
       "      <td>2017-09-14 12:14:04</td>\n",
       "    </tr>\n",
       "    <tr>\n",
       "      <th>2</th>\n",
       "      <td>Alberto Martín</td>\n",
       "      <td>2016-02-09 15:56:45</td>\n",
       "    </tr>\n",
       "    <tr>\n",
       "      <th>3</th>\n",
       "      <td>Alvaro del Castillo</td>\n",
       "      <td>2015-12-04 18:46:14</td>\n",
       "    </tr>\n",
       "    <tr>\n",
       "      <th>4</th>\n",
       "      <td>Jesus M. Gonzalez-Barahona</td>\n",
       "      <td>2015-12-31 19:16:25</td>\n",
       "    </tr>\n",
       "    <tr>\n",
       "      <th>5</th>\n",
       "      <td>valerio cosentino</td>\n",
       "      <td>2017-09-07 14:46:30</td>\n",
       "    </tr>\n",
       "    <tr>\n",
       "      <th>6</th>\n",
       "      <td>quan</td>\n",
       "      <td>2016-04-01 12:16:29</td>\n",
       "    </tr>\n",
       "    <tr>\n",
       "      <th>7</th>\n",
       "      <td>Miguel Ángel Fernández</td>\n",
       "      <td>2018-02-12 12:56:11</td>\n",
       "    </tr>\n",
       "    <tr>\n",
       "      <th>8</th>\n",
       "      <td>camillem</td>\n",
       "      <td>2016-03-28 11:08:04</td>\n",
       "    </tr>\n",
       "    <tr>\n",
       "      <th>9</th>\n",
       "      <td>valerio</td>\n",
       "      <td>2017-10-10 16:27:29</td>\n",
       "    </tr>\n",
       "    <tr>\n",
       "      <th>10</th>\n",
       "      <td>David Esler</td>\n",
       "      <td>2017-10-17 22:46:36</td>\n",
       "    </tr>\n",
       "    <tr>\n",
       "      <th>11</th>\n",
       "      <td>David Pose Fernández</td>\n",
       "      <td>2017-11-03 08:23:54</td>\n",
       "    </tr>\n",
       "    <tr>\n",
       "      <th>12</th>\n",
       "      <td>Israel Herraiz</td>\n",
       "      <td>2018-01-09 15:40:57</td>\n",
       "    </tr>\n",
       "    <tr>\n",
       "      <th>13</th>\n",
       "      <td>J. Manrique Lopez de la Fuente</td>\n",
       "      <td>2016-03-05 08:04:02</td>\n",
       "    </tr>\n",
       "    <tr>\n",
       "      <th>14</th>\n",
       "      <td>Luis Cañas Díaz</td>\n",
       "      <td>2016-09-26 12:30:22</td>\n",
       "    </tr>\n",
       "    <tr>\n",
       "      <th>15</th>\n",
       "      <td>Stephan Barth</td>\n",
       "      <td>2017-01-09 16:52:56</td>\n",
       "    </tr>\n",
       "    <tr>\n",
       "      <th>16</th>\n",
       "      <td>david</td>\n",
       "      <td>2017-12-07 18:54:53</td>\n",
       "    </tr>\n",
       "  </tbody>\n",
       "</table>\n",
       "</div>"
      ],
      "text/plain": [
       "                            author        first_commit\n",
       "0                  Santiago Dueñas 2015-08-18 18:08:27\n",
       "1                Valerio Cosentino 2017-09-14 12:14:04\n",
       "2                   Alberto Martín 2016-02-09 15:56:45\n",
       "3              Alvaro del Castillo 2015-12-04 18:46:14\n",
       "4       Jesus M. Gonzalez-Barahona 2015-12-31 19:16:25\n",
       "5                valerio cosentino 2017-09-07 14:46:30\n",
       "6                             quan 2016-04-01 12:16:29\n",
       "7           Miguel Ángel Fernández 2018-02-12 12:56:11\n",
       "8                         camillem 2016-03-28 11:08:04\n",
       "9                          valerio 2017-10-10 16:27:29\n",
       "10                     David Esler 2017-10-17 22:46:36\n",
       "11            David Pose Fernández 2017-11-03 08:23:54\n",
       "12                  Israel Herraiz 2018-01-09 15:40:57\n",
       "13  J. Manrique Lopez de la Fuente 2016-03-05 08:04:02\n",
       "14                 Luis Cañas Díaz 2016-09-26 12:30:22\n",
       "15                   Stephan Barth 2017-01-09 16:52:56\n",
       "16                           david 2017-12-07 18:54:53"
      ]
     },
     "execution_count": 8,
     "metadata": {},
     "output_type": "execute_result"
    }
   ],
   "source": [
    "# create dataframe\n",
    "authors = pd.DataFrame.from_records(buckets)\n",
    "authors"
   ]
  },
  {
   "cell_type": "code",
   "execution_count": 9,
   "metadata": {},
   "outputs": [],
   "source": [
    "# sort values by date of first commit\n",
    "authors.sort_values(by='first_commit', ascending=False, inplace=True)"
   ]
  },
  {
   "cell_type": "code",
   "execution_count": 10,
   "metadata": {},
   "outputs": [
    {
     "data": {
      "text/html": [
       "<div>\n",
       "<style scoped>\n",
       "    .dataframe tbody tr th:only-of-type {\n",
       "        vertical-align: middle;\n",
       "    }\n",
       "\n",
       "    .dataframe tbody tr th {\n",
       "        vertical-align: top;\n",
       "    }\n",
       "\n",
       "    .dataframe thead th {\n",
       "        text-align: right;\n",
       "    }\n",
       "</style>\n",
       "<table border=\"1\" class=\"dataframe\">\n",
       "  <thead>\n",
       "    <tr style=\"text-align: right;\">\n",
       "      <th></th>\n",
       "      <th>author</th>\n",
       "      <th>first_commit</th>\n",
       "    </tr>\n",
       "  </thead>\n",
       "  <tbody>\n",
       "    <tr>\n",
       "      <th>7</th>\n",
       "      <td>Miguel Ángel Fernández</td>\n",
       "      <td>2018-02-12 12:56:11</td>\n",
       "    </tr>\n",
       "    <tr>\n",
       "      <th>12</th>\n",
       "      <td>Israel Herraiz</td>\n",
       "      <td>2018-01-09 15:40:57</td>\n",
       "    </tr>\n",
       "    <tr>\n",
       "      <th>16</th>\n",
       "      <td>david</td>\n",
       "      <td>2017-12-07 18:54:53</td>\n",
       "    </tr>\n",
       "    <tr>\n",
       "      <th>11</th>\n",
       "      <td>David Pose Fernández</td>\n",
       "      <td>2017-11-03 08:23:54</td>\n",
       "    </tr>\n",
       "    <tr>\n",
       "      <th>10</th>\n",
       "      <td>David Esler</td>\n",
       "      <td>2017-10-17 22:46:36</td>\n",
       "    </tr>\n",
       "    <tr>\n",
       "      <th>9</th>\n",
       "      <td>valerio</td>\n",
       "      <td>2017-10-10 16:27:29</td>\n",
       "    </tr>\n",
       "    <tr>\n",
       "      <th>1</th>\n",
       "      <td>Valerio Cosentino</td>\n",
       "      <td>2017-09-14 12:14:04</td>\n",
       "    </tr>\n",
       "    <tr>\n",
       "      <th>5</th>\n",
       "      <td>valerio cosentino</td>\n",
       "      <td>2017-09-07 14:46:30</td>\n",
       "    </tr>\n",
       "    <tr>\n",
       "      <th>15</th>\n",
       "      <td>Stephan Barth</td>\n",
       "      <td>2017-01-09 16:52:56</td>\n",
       "    </tr>\n",
       "    <tr>\n",
       "      <th>14</th>\n",
       "      <td>Luis Cañas Díaz</td>\n",
       "      <td>2016-09-26 12:30:22</td>\n",
       "    </tr>\n",
       "    <tr>\n",
       "      <th>6</th>\n",
       "      <td>quan</td>\n",
       "      <td>2016-04-01 12:16:29</td>\n",
       "    </tr>\n",
       "    <tr>\n",
       "      <th>8</th>\n",
       "      <td>camillem</td>\n",
       "      <td>2016-03-28 11:08:04</td>\n",
       "    </tr>\n",
       "    <tr>\n",
       "      <th>13</th>\n",
       "      <td>J. Manrique Lopez de la Fuente</td>\n",
       "      <td>2016-03-05 08:04:02</td>\n",
       "    </tr>\n",
       "    <tr>\n",
       "      <th>2</th>\n",
       "      <td>Alberto Martín</td>\n",
       "      <td>2016-02-09 15:56:45</td>\n",
       "    </tr>\n",
       "    <tr>\n",
       "      <th>4</th>\n",
       "      <td>Jesus M. Gonzalez-Barahona</td>\n",
       "      <td>2015-12-31 19:16:25</td>\n",
       "    </tr>\n",
       "    <tr>\n",
       "      <th>3</th>\n",
       "      <td>Alvaro del Castillo</td>\n",
       "      <td>2015-12-04 18:46:14</td>\n",
       "    </tr>\n",
       "    <tr>\n",
       "      <th>0</th>\n",
       "      <td>Santiago Dueñas</td>\n",
       "      <td>2015-08-18 18:08:27</td>\n",
       "    </tr>\n",
       "  </tbody>\n",
       "</table>\n",
       "</div>"
      ],
      "text/plain": [
       "                            author        first_commit\n",
       "7           Miguel Ángel Fernández 2018-02-12 12:56:11\n",
       "12                  Israel Herraiz 2018-01-09 15:40:57\n",
       "16                           david 2017-12-07 18:54:53\n",
       "11            David Pose Fernández 2017-11-03 08:23:54\n",
       "10                     David Esler 2017-10-17 22:46:36\n",
       "9                          valerio 2017-10-10 16:27:29\n",
       "1                Valerio Cosentino 2017-09-14 12:14:04\n",
       "5                valerio cosentino 2017-09-07 14:46:30\n",
       "15                   Stephan Barth 2017-01-09 16:52:56\n",
       "14                 Luis Cañas Díaz 2016-09-26 12:30:22\n",
       "6                             quan 2016-04-01 12:16:29\n",
       "8                         camillem 2016-03-28 11:08:04\n",
       "13  J. Manrique Lopez de la Fuente 2016-03-05 08:04:02\n",
       "2                   Alberto Martín 2016-02-09 15:56:45\n",
       "4       Jesus M. Gonzalez-Barahona 2015-12-31 19:16:25\n",
       "3              Alvaro del Castillo 2015-12-04 18:46:14\n",
       "0                  Santiago Dueñas 2015-08-18 18:08:27"
      ]
     },
     "execution_count": 10,
     "metadata": {},
     "output_type": "execute_result"
    }
   ],
   "source": [
    "# print the dataframe\n",
    "authors"
   ]
  },
  {
   "cell_type": "code",
   "execution_count": 11,
   "metadata": {},
   "outputs": [],
   "source": [
    "# find number of new authors per month\n",
    "by_month = authors['first_commit'].groupby([authors.first_commit.dt.year, authors.first_commit.dt.month]).agg('count')"
   ]
  },
  {
   "cell_type": "code",
   "execution_count": 12,
   "metadata": {},
   "outputs": [
    {
     "data": {
      "text/plain": [
       "first_commit  first_commit\n",
       "2015          8               1\n",
       "              12              2\n",
       "2016          2               1\n",
       "              3               2\n",
       "              4               1\n",
       "              9               1\n",
       "2017          1               1\n",
       "              9               2\n",
       "              10              2\n",
       "              11              1\n",
       "              12              1\n",
       "2018          1               1\n",
       "              2               1\n",
       "Name: first_commit, dtype: int64"
      ]
     },
     "execution_count": 12,
     "metadata": {},
     "output_type": "execute_result"
    }
   ],
   "source": [
    "by_month"
   ]
  },
  {
   "cell_type": "code",
   "execution_count": null,
   "metadata": {},
   "outputs": [],
   "source": []
  }
 ],
 "metadata": {
  "kernelspec": {
   "display_name": "Python 3",
   "language": "python",
   "name": "python3"
  },
  "language_info": {
   "codemirror_mode": {
    "name": "ipython",
    "version": 3
   },
   "file_extension": ".py",
   "mimetype": "text/x-python",
   "name": "python",
   "nbconvert_exporter": "python",
   "pygments_lexer": "ipython3",
   "version": "3.6.4"
  }
 },
 "nbformat": 4,
 "nbformat_minor": 2
}
