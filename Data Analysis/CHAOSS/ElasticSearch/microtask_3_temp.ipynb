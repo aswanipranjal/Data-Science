{
 "cells": [
  {
   "cell_type": "markdown",
   "metadata": {},
   "source": [
    "# Microtask 3\n",
    "---\n",
    "Produce a listing of repositories, as a table and as a .csv file, with the number of commits authored, issues opened, and pull requests opened, during the last three months, ordered by total number (commits plus issues plus pull requests)."
   ]
  },
  {
   "cell_type": "code",
   "execution_count": 1,
   "metadata": {},
   "outputs": [],
   "source": [
    "from datetime import datetime\n",
    "from elasticsearch import Elasticsearch\n",
    "from elasticsearch_dsl import Search\n",
    "\n",
    "import subprocess\n",
    "import pandas as pd\n",
    "\n",
    "import matplotlib.pyplot as plt\n",
    "%matplotlib inline"
   ]
  },
  {
   "cell_type": "markdown",
   "metadata": {},
   "source": [
    "Assuming we have a running instance of Elasticsearch locally at http://localhost:9200"
   ]
  },
  {
   "cell_type": "code",
   "execution_count": 2,
   "metadata": {},
   "outputs": [],
   "source": [
    "# elasticsearch instance\n",
    "es = Elasticsearch('http://localhost:9200', verify_certs=False)"
   ]
  },
  {
   "cell_type": "code",
   "execution_count": 7,
   "metadata": {},
   "outputs": [],
   "source": [
    "# the following repositories will be used\n",
    "repos = [\n",
    "    {'org': 'chaoss', \n",
    "     'repo': 'grimoirelab-perceval', \n",
    "     'index_raw': 'perceval_r', \n",
    "     'index_enriched': 'perceval', \n",
    "     'index_github_raw': 'perceval_g_r', \n",
    "     'index_github_enriched': 'perceval_g'},\n",
    "    {'org': 'chaoss',\n",
    "     'repo': 'grimoirelab-kingarthur',\n",
    "     'index_raw': 'arthur_r',\n",
    "     'index_enriched': 'arthur',\n",
    "     'index_github_raw': 'arthur_g_r',\n",
    "     'index_github_enriched': 'arthur_g'},\n",
    "    {'org': 'chaoss',\n",
    "     'repo': 'grimoirelab-sortinghat',\n",
    "     'index_raw': 'sortinghat_r',\n",
    "     'index_enriched': 'sortinghat',\n",
    "     'index_github_raw': 'sortinghat_g_r',\n",
    "     'index_github_enriched': 'sortinghat_g'},\n",
    "    {'org': 'chaoss',\n",
    "     'repo': 'grimoirelab-mordred',\n",
    "     'index_raw': 'mordred_r',\n",
    "     'index_enriched': 'mordred',\n",
    "     'index_github_raw': 'mordred_g_r',\n",
    "     'index_github_enriched': 'mordred_g'},\n",
    "    {'org': 'chaoss',\n",
    "     'repo': 'grimoirelab-manuscripts',\n",
    "     'index_raw': 'manuscripts_r',\n",
    "     'index_enriched': 'manuscripts',\n",
    "     'index_github_raw': 'manuscripts_g_r',\n",
    "     'index_github_enriched': 'manuscripts_g'}\n",
    "]\n",
    "token = ''"
   ]
  },
  {
   "cell_type": "markdown",
   "metadata": {},
   "source": [
    "Run `p2o.py` to extract data from these repositories"
   ]
  },
  {
   "cell_type": "code",
   "execution_count": 8,
   "metadata": {},
   "outputs": [
    {
     "name": "stdout",
     "output_type": "stream",
     "text": [
      "Fetching git indices for grimoirelab-perceval\n",
      "Fetching GitHub indices for grimoirelab-perceval\n",
      "\n",
      "\n",
      "Fetching git indices for grimoirelab-kingarthur\n",
      "Fetching GitHub indices for grimoirelab-kingarthur\n",
      "\n",
      "\n",
      "Fetching git indices for grimoirelab-sortinghat\n",
      "Fetching GitHub indices for grimoirelab-sortinghat\n",
      "\n",
      "\n",
      "Fetching git indices for grimoirelab-mordred\n",
      "Fetching GitHub indices for grimoirelab-mordred\n",
      "\n",
      "\n",
      "Fetching git indices for grimoirelab-manuscripts\n",
      "Fetching GitHub indices for grimoirelab-manuscripts\n",
      "\n",
      "\n"
     ]
    }
   ],
   "source": [
    "for repo in repos:\n",
    "    print(f\"Fetching git indices for {repo['repo']}\")\n",
    "    subprocess.run(['p2o.py', '--enrich', '--index', repo['index_raw'], '--index-enrich', repo['index_enriched'], '-e', 'http://localhost:9200', '--no_inc', '--debug', 'git', 'https://github.com/' + repo['org'] + '/' + repo['repo'] + '.git'])\n",
    "    print(f\"Fetching GitHub indices for {repo['repo']}\")\n",
    "    subprocess.run(['p2o.py', '--enrich', '--index', repo['index_github_raw'], '--index-enrich', repo['index_github_enriched'], '-e', 'http://localhost:9200', '--no_inc', '--debug', 'github', repo['org'], repo['repo'], '-t', token, '--sleep-for-rate'])\n",
    "    print('\\n')"
   ]
  },
  {
   "cell_type": "code",
   "execution_count": null,
   "metadata": {},
   "outputs": [],
   "source": []
  }
 ],
 "metadata": {
  "kernelspec": {
   "display_name": "Python 3",
   "language": "python",
   "name": "python3"
  },
  "language_info": {
   "codemirror_mode": {
    "name": "ipython",
    "version": 3
   },
   "file_extension": ".py",
   "mimetype": "text/x-python",
   "name": "python",
   "nbconvert_exporter": "python",
   "pygments_lexer": "ipython3",
   "version": "3.6.4"
  }
 },
 "nbformat": 4,
 "nbformat_minor": 2
}
