{
 "cells": [
  {
   "cell_type": "markdown",
   "metadata": {},
   "source": [
    "## Pickling"
   ]
  },
  {
   "cell_type": "markdown",
   "metadata": {},
   "source": [
    "### Using Quandl datasets of housing price indices"
   ]
  },
  {
   "cell_type": "code",
   "execution_count": 1,
   "metadata": {},
   "outputs": [
    {
     "name": "stdout",
     "output_type": "stream",
     "text": [
      "FMAC/HPI_AL\n",
      "FMAC/HPI_AK\n",
      "FMAC/HPI_AZ\n",
      "FMAC/HPI_AR\n",
      "FMAC/HPI_CA\n",
      "FMAC/HPI_CO\n",
      "FMAC/HPI_CT\n",
      "FMAC/HPI_DE\n",
      "FMAC/HPI_FL\n",
      "FMAC/HPI_GA\n",
      "FMAC/HPI_HI\n",
      "FMAC/HPI_ID\n",
      "FMAC/HPI_IL\n",
      "FMAC/HPI_IN\n",
      "FMAC/HPI_IA\n",
      "FMAC/HPI_KS\n",
      "FMAC/HPI_KY\n",
      "FMAC/HPI_LA\n",
      "FMAC/HPI_ME\n",
      "FMAC/HPI_MD\n",
      "FMAC/HPI_MA\n",
      "FMAC/HPI_MI\n",
      "FMAC/HPI_MN\n",
      "FMAC/HPI_MS\n",
      "FMAC/HPI_MO\n",
      "FMAC/HPI_MT\n",
      "FMAC/HPI_NE\n",
      "FMAC/HPI_NV\n",
      "FMAC/HPI_NH\n",
      "FMAC/HPI_NJ\n",
      "FMAC/HPI_NM\n",
      "FMAC/HPI_NY\n",
      "FMAC/HPI_NC\n",
      "FMAC/HPI_ND\n",
      "FMAC/HPI_OH\n",
      "FMAC/HPI_OK\n",
      "FMAC/HPI_OR\n",
      "FMAC/HPI_PA\n",
      "FMAC/HPI_RI\n",
      "FMAC/HPI_SC\n",
      "FMAC/HPI_SD\n",
      "FMAC/HPI_TN\n",
      "FMAC/HPI_TX\n",
      "FMAC/HPI_UT\n",
      "FMAC/HPI_VT\n",
      "FMAC/HPI_VA\n",
      "FMAC/HPI_WA\n",
      "FMAC/HPI_WV\n",
      "FMAC/HPI_WI\n",
      "FMAC/HPI_WY\n"
     ]
    }
   ],
   "source": [
    "# For this, we need to generate the ticker symbols for the Quandl queries, which is done as follows\n",
    "import quandl\n",
    "import pandas as pd\n",
    "\n",
    "api_key = 'VDxfKkzAm8MFL1fZsSat'\n",
    "\n",
    "# The quandl module automatically assigns the index, \n",
    "# here the 'Date' column is assigned as the index\n",
    "# Read fifty state codes through pandas, parsing a table on wikipedia\n",
    "fifty_states = pd.read_html('https://simple.wikipedia.org/wiki/List_of_U.S._states')\n",
    "\n",
    "# The link contains multiple tables, so fifty_states contains a list of\n",
    "# dataframes. We need to figure out which is the one that we require\n",
    "for abbv in fifty_states[0][0][1:]:\n",
    "    print('FMAC/HPI_' + str(abbv))"
   ]
  },
  {
   "cell_type": "code",
   "execution_count": 4,
   "metadata": {},
   "outputs": [
    {
     "name": "stdout",
     "output_type": "stream",
     "text": [
      "                Value\n",
      "Date                 \n",
      "1975-01-31  34.385997\n",
      "1975-02-28  34.910701\n",
      "1975-03-31  35.446987\n",
      "1975-04-30  36.002154\n",
      "1975-05-31  36.599658\n"
     ]
    }
   ],
   "source": [
    "# To check if we can retrieve dataframes from Quandl\n",
    "df = quandl.get('FMAC/HPI_AK', authtoken=api_key)\n",
    "print(df.head())"
   ]
  },
  {
   "cell_type": "code",
   "execution_count": 6,
   "metadata": {},
   "outputs": [
    {
     "ename": "ValueError",
     "evalue": "columns overlap but no suffix specified: Index(['Value'], dtype='object')",
     "output_type": "error",
     "traceback": [
      "\u001b[1;31m---------------------------------------------------------------------------\u001b[0m",
      "\u001b[1;31mValueError\u001b[0m                                Traceback (most recent call last)",
      "\u001b[1;32m<ipython-input-6-9ae2677466bd>\u001b[0m in \u001b[0;36m<module>\u001b[1;34m()\u001b[0m\n\u001b[0;32m     10\u001b[0m \u001b[1;33m\u001b[0m\u001b[0m\n\u001b[0;32m     11\u001b[0m     \u001b[1;32melse\u001b[0m\u001b[1;33m:\u001b[0m\u001b[1;33m\u001b[0m\u001b[0m\n\u001b[1;32m---> 12\u001b[1;33m         \u001b[0mmain_df\u001b[0m \u001b[1;33m=\u001b[0m \u001b[0mmain_df\u001b[0m\u001b[1;33m.\u001b[0m\u001b[0mjoin\u001b[0m\u001b[1;33m(\u001b[0m\u001b[0mdf\u001b[0m\u001b[1;33m)\u001b[0m\u001b[1;33m\u001b[0m\u001b[0m\n\u001b[0m\u001b[0;32m     13\u001b[0m \u001b[1;33m\u001b[0m\u001b[0m\n\u001b[0;32m     14\u001b[0m \u001b[0mprint\u001b[0m\u001b[1;33m(\u001b[0m\u001b[0mmain_df\u001b[0m\u001b[1;33m.\u001b[0m\u001b[0mhead\u001b[0m\u001b[1;33m(\u001b[0m\u001b[1;33m)\u001b[0m\u001b[1;33m)\u001b[0m\u001b[1;33m\u001b[0m\u001b[0m\n",
      "\u001b[1;32mC:\\Users\\Aman Deep Singh\\Anaconda3\\lib\\site-packages\\pandas\\core\\frame.py\u001b[0m in \u001b[0;36mjoin\u001b[1;34m(self, other, on, how, lsuffix, rsuffix, sort)\u001b[0m\n\u001b[0;32m   4765\u001b[0m         \u001b[1;31m# For SparseDataFrame's benefit\u001b[0m\u001b[1;33m\u001b[0m\u001b[1;33m\u001b[0m\u001b[0m\n\u001b[0;32m   4766\u001b[0m         return self._join_compat(other, on=on, how=how, lsuffix=lsuffix,\n\u001b[1;32m-> 4767\u001b[1;33m                                  rsuffix=rsuffix, sort=sort)\n\u001b[0m\u001b[0;32m   4768\u001b[0m \u001b[1;33m\u001b[0m\u001b[0m\n\u001b[0;32m   4769\u001b[0m     def _join_compat(self, other, on=None, how='left', lsuffix='', rsuffix='',\n",
      "\u001b[1;32mC:\\Users\\Aman Deep Singh\\Anaconda3\\lib\\site-packages\\pandas\\core\\frame.py\u001b[0m in \u001b[0;36m_join_compat\u001b[1;34m(self, other, on, how, lsuffix, rsuffix, sort)\u001b[0m\n\u001b[0;32m   4780\u001b[0m             return merge(self, other, left_on=on, how=how,\n\u001b[0;32m   4781\u001b[0m                          \u001b[0mleft_index\u001b[0m\u001b[1;33m=\u001b[0m\u001b[0mon\u001b[0m \u001b[1;32mis\u001b[0m \u001b[1;32mNone\u001b[0m\u001b[1;33m,\u001b[0m \u001b[0mright_index\u001b[0m\u001b[1;33m=\u001b[0m\u001b[1;32mTrue\u001b[0m\u001b[1;33m,\u001b[0m\u001b[1;33m\u001b[0m\u001b[0m\n\u001b[1;32m-> 4782\u001b[1;33m                          suffixes=(lsuffix, rsuffix), sort=sort)\n\u001b[0m\u001b[0;32m   4783\u001b[0m         \u001b[1;32melse\u001b[0m\u001b[1;33m:\u001b[0m\u001b[1;33m\u001b[0m\u001b[0m\n\u001b[0;32m   4784\u001b[0m             \u001b[1;32mif\u001b[0m \u001b[0mon\u001b[0m \u001b[1;32mis\u001b[0m \u001b[1;32mnot\u001b[0m \u001b[1;32mNone\u001b[0m\u001b[1;33m:\u001b[0m\u001b[1;33m\u001b[0m\u001b[0m\n",
      "\u001b[1;32mC:\\Users\\Aman Deep Singh\\Anaconda3\\lib\\site-packages\\pandas\\core\\reshape\\merge.py\u001b[0m in \u001b[0;36mmerge\u001b[1;34m(left, right, how, on, left_on, right_on, left_index, right_index, sort, suffixes, copy, indicator)\u001b[0m\n\u001b[0;32m     52\u001b[0m                          \u001b[0mright_index\u001b[0m\u001b[1;33m=\u001b[0m\u001b[0mright_index\u001b[0m\u001b[1;33m,\u001b[0m \u001b[0msort\u001b[0m\u001b[1;33m=\u001b[0m\u001b[0msort\u001b[0m\u001b[1;33m,\u001b[0m \u001b[0msuffixes\u001b[0m\u001b[1;33m=\u001b[0m\u001b[0msuffixes\u001b[0m\u001b[1;33m,\u001b[0m\u001b[1;33m\u001b[0m\u001b[0m\n\u001b[0;32m     53\u001b[0m                          copy=copy, indicator=indicator)\n\u001b[1;32m---> 54\u001b[1;33m     \u001b[1;32mreturn\u001b[0m \u001b[0mop\u001b[0m\u001b[1;33m.\u001b[0m\u001b[0mget_result\u001b[0m\u001b[1;33m(\u001b[0m\u001b[1;33m)\u001b[0m\u001b[1;33m\u001b[0m\u001b[0m\n\u001b[0m\u001b[0;32m     55\u001b[0m \u001b[1;33m\u001b[0m\u001b[0m\n\u001b[0;32m     56\u001b[0m \u001b[1;33m\u001b[0m\u001b[0m\n",
      "\u001b[1;32mC:\\Users\\Aman Deep Singh\\Anaconda3\\lib\\site-packages\\pandas\\core\\reshape\\merge.py\u001b[0m in \u001b[0;36mget_result\u001b[1;34m(self)\u001b[0m\n\u001b[0;32m    573\u001b[0m \u001b[1;33m\u001b[0m\u001b[0m\n\u001b[0;32m    574\u001b[0m         llabels, rlabels = items_overlap_with_suffix(ldata.items, lsuf,\n\u001b[1;32m--> 575\u001b[1;33m                                                      rdata.items, rsuf)\n\u001b[0m\u001b[0;32m    576\u001b[0m \u001b[1;33m\u001b[0m\u001b[0m\n\u001b[0;32m    577\u001b[0m         \u001b[0mlindexers\u001b[0m \u001b[1;33m=\u001b[0m \u001b[1;33m{\u001b[0m\u001b[1;36m1\u001b[0m\u001b[1;33m:\u001b[0m \u001b[0mleft_indexer\u001b[0m\u001b[1;33m}\u001b[0m \u001b[1;32mif\u001b[0m \u001b[0mleft_indexer\u001b[0m \u001b[1;32mis\u001b[0m \u001b[1;32mnot\u001b[0m \u001b[1;32mNone\u001b[0m \u001b[1;32melse\u001b[0m \u001b[1;33m{\u001b[0m\u001b[1;33m}\u001b[0m\u001b[1;33m\u001b[0m\u001b[0m\n",
      "\u001b[1;32mC:\\Users\\Aman Deep Singh\\Anaconda3\\lib\\site-packages\\pandas\\core\\internals.py\u001b[0m in \u001b[0;36mitems_overlap_with_suffix\u001b[1;34m(left, lsuffix, right, rsuffix)\u001b[0m\n\u001b[0;32m   4699\u001b[0m         \u001b[1;32mif\u001b[0m \u001b[1;32mnot\u001b[0m \u001b[0mlsuffix\u001b[0m \u001b[1;32mand\u001b[0m \u001b[1;32mnot\u001b[0m \u001b[0mrsuffix\u001b[0m\u001b[1;33m:\u001b[0m\u001b[1;33m\u001b[0m\u001b[0m\n\u001b[0;32m   4700\u001b[0m             raise ValueError('columns overlap but no suffix specified: %s' %\n\u001b[1;32m-> 4701\u001b[1;33m                              to_rename)\n\u001b[0m\u001b[0;32m   4702\u001b[0m \u001b[1;33m\u001b[0m\u001b[0m\n\u001b[0;32m   4703\u001b[0m         \u001b[1;32mdef\u001b[0m \u001b[0mlrenamer\u001b[0m\u001b[1;33m(\u001b[0m\u001b[0mx\u001b[0m\u001b[1;33m)\u001b[0m\u001b[1;33m:\u001b[0m\u001b[1;33m\u001b[0m\u001b[0m\n",
      "\u001b[1;31mValueError\u001b[0m: columns overlap but no suffix specified: Index(['Value'], dtype='object')"
     ]
    }
   ],
   "source": [
    "# Create empty dataframe to append to\n",
    "main_df = pd.DataFrame()\n",
    "\n",
    "for abbv in fifty_states[0][0][1:]:\n",
    "    query = 'FMAC/HPI_' + str(abbv)\n",
    "    df = quandl.get(query, authtoken=api_key)\n",
    "    \n",
    "    if main_df.empty:\n",
    "        main_df = df\n",
    "        \n",
    "    else:\n",
    "        main_df = main_df.join(df)\n",
    "\n",
    "print(main_df.head())"
   ]
  },
  {
   "cell_type": "code",
   "execution_count": null,
   "metadata": {
    "collapsed": true
   },
   "outputs": [],
   "source": []
  }
 ],
 "metadata": {
  "kernelspec": {
   "display_name": "Python 3",
   "language": "python",
   "name": "python3"
  },
  "language_info": {
   "codemirror_mode": {
    "name": "ipython",
    "version": 3
   },
   "file_extension": ".py",
   "mimetype": "text/x-python",
   "name": "python",
   "nbconvert_exporter": "python",
   "pygments_lexer": "ipython3",
   "version": "3.6.1"
  }
 },
 "nbformat": 4,
 "nbformat_minor": 2
}
