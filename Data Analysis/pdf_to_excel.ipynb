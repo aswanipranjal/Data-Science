{
 "cells": [
  {
   "cell_type": "code",
   "execution_count": 1,
   "metadata": {
    "collapsed": true
   },
   "outputs": [],
   "source": [
    "import pandas as pd\n",
    "import pdfquery"
   ]
  },
  {
   "cell_type": "code",
   "execution_count": 28,
   "metadata": {
    "collapsed": true
   },
   "outputs": [],
   "source": [
    "pdf = pdfquery.PDFQuery('test.pdf')\n",
    "pdf.load(0)"
   ]
  },
  {
   "cell_type": "code",
   "execution_count": 64,
   "metadata": {},
   "outputs": [
    {
     "data": {
      "text/plain": [
       "'Supratik Kundu'"
      ]
     },
     "execution_count": 64,
     "metadata": {},
     "output_type": "execute_result"
    }
   ],
   "source": [
    "label = pdf.pq('LTTextLineHorizontal:contains(\"Personal Details\")')\n",
    "left_corner = float(label.attr('x0'))\n",
    "bottom_corner = float(label.attr('y0'))\n",
    "name = pdf.pq('LTTextLineHorizontal:in_bbox(\"%s, %s, %s, %s\")'%(left_corner, bottom_corner-20, left_corner+250, bottom_corner)).text()\n",
    "name"
   ]
  },
  {
   "cell_type": "code",
   "execution_count": 89,
   "metadata": {},
   "outputs": [
    {
     "data": {
      "text/plain": [
       "'Mining Engineering'"
      ]
     },
     "execution_count": 89,
     "metadata": {},
     "output_type": "execute_result"
    }
   ],
   "source": [
    "pdf.load(1)\n",
    "label1 = pdf.pq('LTTextLineHorizontal:contains(\"Admission Details\")')\n",
    "label1.text()\n",
    "# left_corner = float(label.attr('x0'))\n",
    "# bottom_corner = float(label.attr('y0'))\n",
    "# name = pdf.pq('LTTextLineHorizontal:in_bbox(\"%s, %s, %s, %s\")'%(left_corner, bottom_corner-20, left_corner+250, bottom_corner-600)).text()\n",
    "# department = pdf.pq('LTTextHorizontal:in_bbox(\"%s, %s, %s, %s\")'%(left_corner, bottom_corner-900, left_corner+250, bottom_corner-30)).text()\n",
    "# departmentq('LTTextHorizontal:in_bbox(\"%s, %s, %s, %s\")'%(left_corner, bottom_corner-30, left_corner+250, bottom_corner)).text()\n",
    "# name\n",
    "lc = float(label1.attr('x0'))\n",
    "bc = float(label1.attr('y0'))\n",
    "department = pdf.pq('LTTextLineHorizontal:in_bbox(\"%s, %s, %s, %s\")'%(left_corner, bottom_corner+22, left_corner+250, bottom_corner+50)).text()\n",
    "branch = pdf.pq('LTTextLineHorizontal:in_bbox(\"%s, %s, %s, %s\")'%(left_corner, bottom_corner, left_corner+250, bottom_corner+30)).text()\n",
    "department"
   ]
  },
  {
   "cell_type": "code",
   "execution_count": 90,
   "metadata": {},
   "outputs": [
    {
     "data": {
      "text/plain": [
       "'Mining Engineering+Mining Engineering'"
      ]
     },
     "execution_count": 90,
     "metadata": {},
     "output_type": "execute_result"
    }
   ],
   "source": [
    "branch"
   ]
  },
  {
   "cell_type": "code",
   "execution_count": 95,
   "metadata": {},
   "outputs": [
    {
     "data": {
      "text/plain": [
       "'Dual Degree'"
      ]
     },
     "execution_count": 95,
     "metadata": {},
     "output_type": "execute_result"
    }
   ],
   "source": [
    "course = pdf.pq('LTTextLineHorizontal:in_bbox(\"%s, %s, %s, %s\")'%(left_corner+400, bottom_corner, left_corner+600, bottom_corner+50)).text()\n",
    "course"
   ]
  },
  {
   "cell_type": "code",
   "execution_count": 110,
   "metadata": {},
   "outputs": [
    {
     "data": {
      "text/plain": [
       "'7277442759'"
      ]
     },
     "execution_count": 110,
     "metadata": {},
     "output_type": "execute_result"
    }
   ],
   "source": [
    "email = pdf.pq('LTTextLineHorizontal:in_bbox(\"%s, %s, %s, %s\")'%(left_corner+100, bottom_corner-250, left_corner+250, bottom_corner-100)).text()\n",
    "email, mob =email.split(' ')\n",
    "mob"
   ]
  },
  {
   "cell_type": "code",
   "execution_count": 111,
   "metadata": {},
   "outputs": [
    {
     "data": {
      "text/plain": [
       "'21sunny2121@gmail.com'"
      ]
     },
     "execution_count": 111,
     "metadata": {},
     "output_type": "execute_result"
    }
   ],
   "source": [
    "email"
   ]
  },
  {
   "cell_type": "code",
   "execution_count": 146,
   "metadata": {
    "collapsed": true
   },
   "outputs": [],
   "source": [
    "def scrape():\n",
    "#     pdf = pdfquery.PDFQuery('C:\\\\Users\\\\Aman Deep Singh\\\\Documents\\\\Python\\\\Data Science\\\\Data Analysis\\\\2016 batch\\Student_profile_2012JE0400.pdf')\n",
    "    \n",
    "    data = dict()\n",
    "    pdf.load(0)\n",
    "    label = pdf.pq('LTTextLineHorizontal:contains(\"Personal Details\")')\n",
    "    left_corner = float(label.attr('x0'))\n",
    "    bottom_corner = float(label.attr('y0'))\n",
    "    name = pdf.pq('LTTextLineHorizontal:in_bbox(\"%s, %s, %s, %s\")'%(left_corner, bottom_corner-20, left_corner+250, bottom_corner)).text()\n",
    "    data['name'] = name;\n",
    "    pdf.load(1)\n",
    "    label1 = pdf.pq('LTTextLineHorizontal:contains(\"Admission Details\")')\n",
    "    label1.text()\n",
    "    lc = float(label1.attr('x0'))\n",
    "    bc = float(label1.attr('y0'))\n",
    "    department = pdf.pq('LTTextLineHorizontal:in_bbox(\"%s, %s, %s, %s\")'%(left_corner, bottom_corner+22, left_corner+250, bottom_corner+50)).text()\n",
    "    branch = pdf.pq('LTTextLineHorizontal:in_bbox(\"%s, %s, %s, %s\")'%(left_corner, bottom_corner, left_corner+250, bottom_corner+30)).text()\n",
    "    data['department'] = department\n",
    "    data['branch'] = branch\n",
    "    course = pdf.pq('LTTextLineHorizontal:in_bbox(\"%s, %s, %s, %s\")'%(left_corner+400, bottom_corner, left_corner+600, bottom_corner+50)).text()\n",
    "    data['course'] = course\n",
    "    email = pdf.pq('LTTextLineHorizontal:in_bbox(\"%s, %s, %s, %s\")'%(left_corner+100, bottom_corner-250, left_corner+250, bottom_corner-180)).text()\n",
    "#     email, mob =email.split(' ')\n",
    "#     data['email'] = email\n",
    "#     data['mobile'] = mob\n",
    "    print(email)\n",
    "    print(data)"
   ]
  },
  {
   "cell_type": "code",
   "execution_count": 147,
   "metadata": {},
   "outputs": [
    {
     "name": "stdout",
     "output_type": "stream",
     "text": [
      "manjayraja@gmail.com 9835401671\n",
      "{'name': 'Manjay Raja', 'department': 'NA', 'branch': 'NA UnderGraduate', 'course': 'NA 8'}\n"
     ]
    }
   ],
   "source": [
    "scrape()"
   ]
  },
  {
   "cell_type": "code",
   "execution_count": null,
   "metadata": {
    "collapsed": true
   },
   "outputs": [],
   "source": []
  }
 ],
 "metadata": {
  "kernelspec": {
   "display_name": "Python 3",
   "language": "python",
   "name": "python3"
  },
  "language_info": {
   "codemirror_mode": {
    "name": "ipython",
    "version": 3
   },
   "file_extension": ".py",
   "mimetype": "text/x-python",
   "name": "python",
   "nbconvert_exporter": "python",
   "pygments_lexer": "ipython3",
   "version": "3.6.1"
  }
 },
 "nbformat": 4,
 "nbformat_minor": 2
}
