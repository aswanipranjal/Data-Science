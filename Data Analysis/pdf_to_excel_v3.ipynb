{
 "cells": [
  {
   "cell_type": "code",
   "execution_count": null,
   "metadata": {
    "collapsed": true
   },
   "outputs": [],
   "source": [
    "import pdfquery\n",
    "pdf = pdfquery.PDFQuery('out1.pdf')\n",
    "pdf.load(2)"
   ]
  },
  {
   "cell_type": "code",
   "execution_count": null,
   "metadata": {},
   "outputs": [],
   "source": [
    "label = pdf.pq('LTTextLineHorizontal:contains(\"Personal Details\")')\n",
    "left_corner = float(label.attr('x0'))\n",
    "bottom_corner = float(label.attr('y0'))\n",
    "name = pdf.pq('LTTextLineHorizontal:overlaps_bbox(\"%s, %s, %s, %s\")'%(left_corner+150, bottom_corner-20, left_corner+180, bottom_corner)).text()\n",
    "name"
   ]
  },
  {
   "cell_type": "code",
   "execution_count": null,
   "metadata": {},
   "outputs": [],
   "source": [
    "pdf.load(5)\n",
    "label = pdf.pq('LTTextLineHorizontal:contains(\"Editable Details\")')\n",
    "label.text()\n",
    "lc = float(label.attr('x0'))\n",
    "bc = float(label.attr('y0'))\n",
    "email = pdf.pq('LTTextLineHorizontal:overlaps_bbox(\"%s, %s, %s, %s\")'%(lc+100, bc-20, lc+260, bc)).text()\n",
    "email"
   ]
  },
  {
   "cell_type": "code",
   "execution_count": null,
   "metadata": {},
   "outputs": [],
   "source": [
    "mobile = email = pdf.pq('LTTextLineHorizontal:in_bbox(\"%s, %s, %s, %s\")'%(lc+20, bc-40, lc+300, bc-20)).text()\n",
    "mobile"
   ]
  },
  {
   "cell_type": "code",
   "execution_count": null,
   "metadata": {},
   "outputs": [],
   "source": [
    "label = pdf.pq('LTTextLineHorizontal:contains(\"Bank Details\")')\n",
    "label.text()\n",
    "lc = float(label.attr('x0'))\n",
    "bc = float(label.attr('y0'))\n",
    "branch = pdf.pq('LTTextLineHorizontal:in_bbox(\"%s, %s, %s, %s\")'%(lc+20, bc+20, lc+250, bc+70)).text()\n",
    "branch"
   ]
  },
  {
   "cell_type": "code",
   "execution_count": null,
   "metadata": {},
   "outputs": [],
   "source": [
    "import pdfquery\n",
    "import pandas as pd\n",
    "df = pd.DataFrame()\n",
    "data = dict()\n",
    "data['Name'] = []\n",
    "data['Email'] = []\n",
    "data['Mobile'] = []\n",
    "data['Branch'] = []\n",
    "pdf = pdfquery.PDFQuery('out1.pdf')\n",
    "def scrape(pg):\n",
    "    pdf.load(pg)\n",
    "    label = pdf.pq('LTTextLineHorizontal:contains(\"Personal Details\")')\n",
    "    left_corner = float(label.attr('x0'))\n",
    "    bottom_corner = float(label.attr('y0'))\n",
    "    name = pdf.pq('LTTextLineHorizontal:overlaps_bbox(\"%s, %s, %s, %s\")'%(left_corner+150, bottom_corner-20, left_corner+180, bottom_corner)).text()\n",
    "#     name\n",
    "    data['Name'].append(name)\n",
    "    pdf.load(pg+1)\n",
    "    label = pdf.pq('LTTextLineHorizontal:contains(\"Editable Details\")')\n",
    "    label.text()\n",
    "    lc = float(label.attr('x0'))\n",
    "    bc = float(label.attr('y0'))\n",
    "    email = pdf.pq('LTTextLineHorizontal:overlaps_bbox(\"%s, %s, %s, %s\")'%(lc+100, bc-20, lc+260, bc)).text()\n",
    "    data['Email'].append(email)\n",
    "    mobile = email = pdf.pq('LTTextLineHorizontal:in_bbox(\"%s, %s, %s, %s\")'%(lc+20, bc-40, lc+300, bc-20)).text()\n",
    "    data['Mobile'].append(mobile)\n",
    "    label = pdf.pq('LTTextLineHorizontal:contains(\"Bank Details\")')\n",
    "#     label.text()\n",
    "    lc = float(label.attr('x0'))\n",
    "    bc = float(label.attr('y0'))\n",
    "    branch = pdf.pq('LTTextLineHorizontal:overlaps_bbox(\"%s, %s, %s, %s\")'%(lc+100, bc+20, lc+250, bc+50)).text()\n",
    "    data['Branch'].append(branch)\n",
    "#     print(data)\n",
    "    \n",
    "for i in range(0, 1681, 2):\n",
    "    print(i)\n",
    "    scrape(i)\n",
    "    \n",
    "# data"
   ]
  },
  {
   "cell_type": "code",
   "execution_count": 3,
   "metadata": {
    "collapsed": true
   },
   "outputs": [],
   "source": [
    "df = pd.DataFrame(data)"
   ]
  },
  {
   "cell_type": "code",
   "execution_count": null,
   "metadata": {},
   "outputs": [],
   "source": [
    "print(len(data['Name']))\n",
    "print(len(data['Email']))\n",
    "print(len(data['Mobile']))\n",
    "print(len(data['Branch']))\n",
    "print(data['Name'])[-1]"
   ]
  },
  {
   "cell_type": "code",
   "execution_count": null,
   "metadata": {
    "collapsed": true
   },
   "outputs": [],
   "source": [
    "data['Name'] = data['Name'][:-1]"
   ]
  },
  {
   "cell_type": "code",
   "execution_count": null,
   "metadata": {},
   "outputs": [],
   "source": [
    "print(len(data['Name']))\n",
    "print(len(data['Email']))\n",
    "print(len(data['Mobile']))\n",
    "print(len(data['Branch']))"
   ]
  },
  {
   "cell_type": "code",
   "execution_count": null,
   "metadata": {},
   "outputs": [],
   "source": [
    "df = pd.DataFrame(data)"
   ]
  },
  {
   "cell_type": "code",
   "execution_count": 4,
   "metadata": {},
   "outputs": [
    {
     "data": {
      "text/html": [
       "<div>\n",
       "<style>\n",
       "    .dataframe thead tr:only-child th {\n",
       "        text-align: right;\n",
       "    }\n",
       "\n",
       "    .dataframe thead th {\n",
       "        text-align: left;\n",
       "    }\n",
       "\n",
       "    .dataframe tbody tr th {\n",
       "        vertical-align: top;\n",
       "    }\n",
       "</style>\n",
       "<table border=\"1\" class=\"dataframe\">\n",
       "  <thead>\n",
       "    <tr style=\"text-align: right;\">\n",
       "      <th></th>\n",
       "      <th>Branch</th>\n",
       "      <th>Email</th>\n",
       "      <th>Mobile</th>\n",
       "      <th>Name</th>\n",
       "    </tr>\n",
       "  </thead>\n",
       "  <tbody>\n",
       "    <tr>\n",
       "      <th>0</th>\n",
       "      <td>Computer Science and Engineering</td>\n",
       "      <td>chetan.sharma871996@gmail.com Parent Email</td>\n",
       "      <td>9826378759</td>\n",
       "      <td>Chetan Sharma</td>\n",
       "    </tr>\n",
       "    <tr>\n",
       "      <th>1</th>\n",
       "      <td>Electrical Engineering</td>\n",
       "      <td>kkrajneesh57@gmail.com</td>\n",
       "      <td>7079704255</td>\n",
       "      <td>Rajneesh Kumar</td>\n",
       "    </tr>\n",
       "    <tr>\n",
       "      <th>2</th>\n",
       "      <td>Computer Science and Engineering</td>\n",
       "      <td>puru922@gmail.com</td>\n",
       "      <td>8936894101</td>\n",
       "      <td>Purushottam Kumar</td>\n",
       "    </tr>\n",
       "    <tr>\n",
       "      <th>3</th>\n",
       "      <td>Computer Science and Engineering</td>\n",
       "      <td>kvaibhav3101@gmail.com</td>\n",
       "      <td>8969645175</td>\n",
       "      <td>Vaibhav Kumar</td>\n",
       "    </tr>\n",
       "  </tbody>\n",
       "</table>\n",
       "</div>"
      ],
      "text/plain": [
       "                             Branch  \\\n",
       "0  Computer Science and Engineering   \n",
       "1            Electrical Engineering   \n",
       "2  Computer Science and Engineering   \n",
       "3  Computer Science and Engineering   \n",
       "\n",
       "                                        Email      Mobile               Name  \n",
       "0  chetan.sharma871996@gmail.com Parent Email  9826378759      Chetan Sharma  \n",
       "1                      kkrajneesh57@gmail.com  7079704255     Rajneesh Kumar  \n",
       "2                           puru922@gmail.com  8936894101  Purushottam Kumar  \n",
       "3                      kvaibhav3101@gmail.com  8969645175      Vaibhav Kumar  "
      ]
     },
     "execution_count": 4,
     "metadata": {},
     "output_type": "execute_result"
    }
   ],
   "source": [
    "df"
   ]
  },
  {
   "cell_type": "code",
   "execution_count": null,
   "metadata": {
    "collapsed": true
   },
   "outputs": [],
   "source": [
    "df_copy = pd.DataFrame.copy(df)"
   ]
  },
  {
   "cell_type": "code",
   "execution_count": null,
   "metadata": {
    "collapsed": true
   },
   "outputs": [],
   "source": [
    "scrape(863)"
   ]
  },
  {
   "cell_type": "code",
   "execution_count": null,
   "metadata": {},
   "outputs": [],
   "source": [
    "data"
   ]
  },
  {
   "cell_type": "code",
   "execution_count": null,
   "metadata": {},
   "outputs": [],
   "source": [
    "for i in range(865, 1937, 2):\n",
    "    scrape(i)\n",
    "    print(i)"
   ]
  },
  {
   "cell_type": "code",
   "execution_count": null,
   "metadata": {},
   "outputs": [],
   "source": [
    "print(len(data['Name']))\n",
    "print(len(data['Email']))\n",
    "print(len(data['Mobile']))\n",
    "print(len(data['Branch']))"
   ]
  },
  {
   "cell_type": "code",
   "execution_count": null,
   "metadata": {},
   "outputs": [],
   "source": [
    "data['Name'][-1]"
   ]
  },
  {
   "cell_type": "code",
   "execution_count": null,
   "metadata": {},
   "outputs": [],
   "source": [
    "data['Email'][-1]"
   ]
  },
  {
   "cell_type": "code",
   "execution_count": null,
   "metadata": {},
   "outputs": [],
   "source": [
    "data['Mobile'][-1]"
   ]
  },
  {
   "cell_type": "code",
   "execution_count": null,
   "metadata": {},
   "outputs": [],
   "source": [
    "data.dtypes"
   ]
  },
  {
   "cell_type": "code",
   "execution_count": null,
   "metadata": {},
   "outputs": [],
   "source": [
    "type(data['Mobile'][0])"
   ]
  },
  {
   "cell_type": "code",
   "execution_count": null,
   "metadata": {
    "collapsed": true
   },
   "outputs": [],
   "source": [
    "data['Mobile'][-1] = '8084192158'"
   ]
  },
  {
   "cell_type": "code",
   "execution_count": null,
   "metadata": {},
   "outputs": [],
   "source": [
    "print(len(data['Name']))\n",
    "print(len(data['Email']))\n",
    "print(len(data['Mobile']))\n",
    "print(len(data['Branch']))"
   ]
  },
  {
   "cell_type": "code",
   "execution_count": null,
   "metadata": {},
   "outputs": [],
   "source": [
    "data['Mobile'][-2]"
   ]
  },
  {
   "cell_type": "code",
   "execution_count": null,
   "metadata": {
    "collapsed": true
   },
   "outputs": [],
   "source": [
    "scrape(1906)"
   ]
  },
  {
   "cell_type": "code",
   "execution_count": null,
   "metadata": {},
   "outputs": [],
   "source": [
    "data['Name'][-1]"
   ]
  },
  {
   "cell_type": "code",
   "execution_count": null,
   "metadata": {},
   "outputs": [],
   "source": [
    "data['Email'][-1]"
   ]
  },
  {
   "cell_type": "code",
   "execution_count": null,
   "metadata": {},
   "outputs": [],
   "source": [
    "data['Mobile'][-1]"
   ]
  },
  {
   "cell_type": "code",
   "execution_count": null,
   "metadata": {},
   "outputs": [],
   "source": [
    "df = pd.DataFrame(data)\n",
    "df"
   ]
  },
  {
   "cell_type": "code",
   "execution_count": null,
   "metadata": {
    "collapsed": true
   },
   "outputs": [],
   "source": [
    "df_copy2 = pd.DataFrame.copy(df)"
   ]
  },
  {
   "cell_type": "code",
   "execution_count": null,
   "metadata": {},
   "outputs": [],
   "source": [
    "for i in range(1908, 1937, 2):\n",
    "    scrape(i)\n",
    "    print(i)"
   ]
  },
  {
   "cell_type": "code",
   "execution_count": null,
   "metadata": {},
   "outputs": [],
   "source": [
    "print(len(data['Name']))\n",
    "print(len(data['Email']))\n",
    "print(len(data['Mobile']))\n",
    "print(len(data['Branch']))"
   ]
  },
  {
   "cell_type": "code",
   "execution_count": null,
   "metadata": {},
   "outputs": [],
   "source": [
    "data['Name'][-1]"
   ]
  },
  {
   "cell_type": "code",
   "execution_count": null,
   "metadata": {},
   "outputs": [],
   "source": [
    "data['Mobile'][-1]"
   ]
  },
  {
   "cell_type": "code",
   "execution_count": null,
   "metadata": {
    "collapsed": true
   },
   "outputs": [],
   "source": [
    "df = pd.DataFrame(data)"
   ]
  },
  {
   "cell_type": "code",
   "execution_count": null,
   "metadata": {},
   "outputs": [],
   "source": [
    "df"
   ]
  },
  {
   "cell_type": "code",
   "execution_count": null,
   "metadata": {},
   "outputs": [],
   "source": [
    "cols = df.columns.tolist()\n",
    "cols = cols[-1:] + cols[:-1]\n",
    "cols"
   ]
  },
  {
   "cell_type": "code",
   "execution_count": null,
   "metadata": {},
   "outputs": [],
   "source": [
    "df = df[cols]\n",
    "df"
   ]
  },
  {
   "cell_type": "code",
   "execution_count": null,
   "metadata": {
    "collapsed": true
   },
   "outputs": [],
   "source": [
    "df_copy3 = pd.DataFrame.copy(df)"
   ]
  },
  {
   "cell_type": "code",
   "execution_count": null,
   "metadata": {},
   "outputs": [],
   "source": [
    "df_copy3.shape"
   ]
  },
  {
   "cell_type": "code",
   "execution_count": null,
   "metadata": {
    "collapsed": true
   },
   "outputs": [],
   "source": [
    "df.Email = df.Email.str.replace(\"Parent Email\", \"\")"
   ]
  },
  {
   "cell_type": "code",
   "execution_count": null,
   "metadata": {},
   "outputs": [],
   "source": [
    "df.head()"
   ]
  },
  {
   "cell_type": "code",
   "execution_count": null,
   "metadata": {
    "collapsed": true
   },
   "outputs": [],
   "source": [
    "df.drop('Branch', axis=1, inplace=True)"
   ]
  },
  {
   "cell_type": "code",
   "execution_count": null,
   "metadata": {
    "collapsed": true
   },
   "outputs": [],
   "source": [
    "writer = pd.ExcelWriter('16JE_merged_v2.xlsx', engine='xlsxwriter')\n",
    "df.to_excel(writer, sheet_name='Sheet 1')\n",
    "writer.save()"
   ]
  },
  {
   "cell_type": "code",
   "execution_count": null,
   "metadata": {
    "collapsed": true
   },
   "outputs": [],
   "source": []
  }
 ],
 "metadata": {
  "kernelspec": {
   "display_name": "Python 3",
   "language": "python",
   "name": "python3"
  },
  "language_info": {
   "codemirror_mode": {
    "name": "ipython",
    "version": 3
   },
   "file_extension": ".py",
   "mimetype": "text/x-python",
   "name": "python",
   "nbconvert_exporter": "python",
   "pygments_lexer": "ipython3",
   "version": "3.6.1"
  }
 },
 "nbformat": 4,
 "nbformat_minor": 2
}
