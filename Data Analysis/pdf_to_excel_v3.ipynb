{
 "cells": [
  {
   "cell_type": "code",
   "execution_count": 35,
   "metadata": {
    "collapsed": true
   },
   "outputs": [],
   "source": [
    "import pdfquery\n",
    "pdf = pdfquery.PDFQuery('3chem.pdf')\n",
    "pdf.load(2)"
   ]
  },
  {
   "cell_type": "code",
   "execution_count": 2,
   "metadata": {},
   "outputs": [
    {
     "data": {
      "text/plain": [
       "'Prakhar Agarwal'"
      ]
     },
     "execution_count": 2,
     "metadata": {},
     "output_type": "execute_result"
    }
   ],
   "source": [
    "label = pdf.pq('LTTextLineHorizontal:contains(\"Personal Details\")')\n",
    "left_corner = float(label.attr('x0'))\n",
    "bottom_corner = float(label.attr('y0'))\n",
    "name = pdf.pq('LTTextLineHorizontal:overlaps_bbox(\"%s, %s, %s, %s\")'%(left_corner+150, bottom_corner-20, left_corner+180, bottom_corner)).text()\n",
    "name"
   ]
  },
  {
   "cell_type": "code",
   "execution_count": 3,
   "metadata": {},
   "outputs": [
    {
     "data": {
      "text/plain": [
       "'hrishikeshhamind@gmail.com'"
      ]
     },
     "execution_count": 3,
     "metadata": {},
     "output_type": "execute_result"
    }
   ],
   "source": [
    "pdf.load(5)\n",
    "label = pdf.pq('LTTextLineHorizontal:contains(\"Editable Details\")')\n",
    "label.text()\n",
    "lc = float(label.attr('x0'))\n",
    "bc = float(label.attr('y0'))\n",
    "email = pdf.pq('LTTextLineHorizontal:overlaps_bbox(\"%s, %s, %s, %s\")'%(lc+100, bc-20, lc+260, bc)).text()\n",
    "email"
   ]
  },
  {
   "cell_type": "code",
   "execution_count": 4,
   "metadata": {},
   "outputs": [
    {
     "data": {
      "text/plain": [
       "'9097064934'"
      ]
     },
     "execution_count": 4,
     "metadata": {},
     "output_type": "execute_result"
    }
   ],
   "source": [
    "mobile = email = pdf.pq('LTTextLineHorizontal:in_bbox(\"%s, %s, %s, %s\")'%(lc+20, bc-40, lc+300, bc-20)).text()\n",
    "mobile"
   ]
  },
  {
   "cell_type": "code",
   "execution_count": 5,
   "metadata": {},
   "outputs": [
    {
     "data": {
      "text/plain": [
       "'Applied Geology Applied Geology'"
      ]
     },
     "execution_count": 5,
     "metadata": {},
     "output_type": "execute_result"
    }
   ],
   "source": [
    "label = pdf.pq('LTTextLineHorizontal:contains(\"Bank Details\")')\n",
    "label.text()\n",
    "lc = float(label.attr('x0'))\n",
    "bc = float(label.attr('y0'))\n",
    "branch = pdf.pq('LTTextLineHorizontal:in_bbox(\"%s, %s, %s, %s\")'%(lc+20, bc+20, lc+250, bc+70)).text()\n",
    "branch"
   ]
  },
  {
   "cell_type": "code",
   "execution_count": 108,
   "metadata": {},
   "outputs": [
    {
     "name": "stdout",
     "output_type": "stream",
     "text": [
      "0\n",
      "2\n",
      "4\n",
      "6\n",
      "8\n",
      "10\n",
      "12\n",
      "14\n",
      "16\n",
      "18\n",
      "20\n",
      "22\n",
      "24\n",
      "26\n",
      "28\n",
      "30\n",
      "32\n",
      "34\n",
      "36\n",
      "38\n",
      "40\n",
      "42\n"
     ]
    },
    {
     "ename": "StopIteration",
     "evalue": "",
     "output_type": "error",
     "traceback": [
      "\u001b[1;31m---------------------------------------------------------------------------\u001b[0m",
      "\u001b[1;31mStopIteration\u001b[0m                             Traceback (most recent call last)",
      "\u001b[1;32m<ipython-input-108-a1a4891fa2e4>\u001b[0m in \u001b[0;36m<module>\u001b[1;34m()\u001b[0m\n\u001b[0;32m     35\u001b[0m \u001b[1;32mfor\u001b[0m \u001b[0mi\u001b[0m \u001b[1;32min\u001b[0m \u001b[0mrange\u001b[0m\u001b[1;33m(\u001b[0m\u001b[1;36m0\u001b[0m\u001b[1;33m,\u001b[0m \u001b[1;36m43\u001b[0m\u001b[1;33m,\u001b[0m \u001b[1;36m2\u001b[0m\u001b[1;33m)\u001b[0m\u001b[1;33m:\u001b[0m\u001b[1;33m\u001b[0m\u001b[0m\n\u001b[0;32m     36\u001b[0m     \u001b[0mprint\u001b[0m\u001b[1;33m(\u001b[0m\u001b[0mi\u001b[0m\u001b[1;33m)\u001b[0m\u001b[1;33m\u001b[0m\u001b[0m\n\u001b[1;32m---> 37\u001b[1;33m     \u001b[0mscrape\u001b[0m\u001b[1;33m(\u001b[0m\u001b[0mi\u001b[0m\u001b[1;33m)\u001b[0m\u001b[1;33m\u001b[0m\u001b[0m\n\u001b[0m\u001b[0;32m     38\u001b[0m \u001b[1;33m\u001b[0m\u001b[0m\n\u001b[0;32m     39\u001b[0m \u001b[1;31m# data\u001b[0m\u001b[1;33m\u001b[0m\u001b[1;33m\u001b[0m\u001b[0m\n",
      "\u001b[1;32m<ipython-input-108-a1a4891fa2e4>\u001b[0m in \u001b[0;36mscrape\u001b[1;34m(pg)\u001b[0m\n\u001b[0;32m      9\u001b[0m \u001b[0mpdf\u001b[0m \u001b[1;33m=\u001b[0m \u001b[0mpdfquery\u001b[0m\u001b[1;33m.\u001b[0m\u001b[0mPDFQuery\u001b[0m\u001b[1;33m(\u001b[0m\u001b[1;34m'3env.pdf'\u001b[0m\u001b[1;33m)\u001b[0m\u001b[1;33m\u001b[0m\u001b[0m\n\u001b[0;32m     10\u001b[0m \u001b[1;32mdef\u001b[0m \u001b[0mscrape\u001b[0m\u001b[1;33m(\u001b[0m\u001b[0mpg\u001b[0m\u001b[1;33m)\u001b[0m\u001b[1;33m:\u001b[0m\u001b[1;33m\u001b[0m\u001b[0m\n\u001b[1;32m---> 11\u001b[1;33m     \u001b[0mpdf\u001b[0m\u001b[1;33m.\u001b[0m\u001b[0mload\u001b[0m\u001b[1;33m(\u001b[0m\u001b[0mpg\u001b[0m\u001b[1;33m)\u001b[0m\u001b[1;33m\u001b[0m\u001b[0m\n\u001b[0m\u001b[0;32m     12\u001b[0m     \u001b[0mlabel\u001b[0m \u001b[1;33m=\u001b[0m \u001b[0mpdf\u001b[0m\u001b[1;33m.\u001b[0m\u001b[0mpq\u001b[0m\u001b[1;33m(\u001b[0m\u001b[1;34m'LTTextLineHorizontal:contains(\"Personal Details\")'\u001b[0m\u001b[1;33m)\u001b[0m\u001b[1;33m\u001b[0m\u001b[0m\n\u001b[0;32m     13\u001b[0m     \u001b[0mleft_corner\u001b[0m \u001b[1;33m=\u001b[0m \u001b[0mfloat\u001b[0m\u001b[1;33m(\u001b[0m\u001b[0mlabel\u001b[0m\u001b[1;33m.\u001b[0m\u001b[0mattr\u001b[0m\u001b[1;33m(\u001b[0m\u001b[1;34m'x0'\u001b[0m\u001b[1;33m)\u001b[0m\u001b[1;33m)\u001b[0m\u001b[1;33m\u001b[0m\u001b[0m\n",
      "\u001b[1;32mC:\\Users\\Aman Deep Singh\\Anaconda3\\lib\\site-packages\\pdfquery\\pdfquery.py\u001b[0m in \u001b[0;36mload\u001b[1;34m(self, *page_numbers)\u001b[0m\n\u001b[0;32m    383\u001b[0m         \u001b[1;33m[\u001b[0m\u001b[1;33m<\u001b[0m\u001b[0mLTPage\u001b[0m\u001b[1;33m>\u001b[0m\u001b[1;33m,\u001b[0m \u001b[1;33m<\u001b[0m\u001b[0mLTPage\u001b[0m\u001b[1;33m>\u001b[0m\u001b[1;33m]\u001b[0m\u001b[1;33m\u001b[0m\u001b[0m\n\u001b[0;32m    384\u001b[0m         \"\"\"\n\u001b[1;32m--> 385\u001b[1;33m         \u001b[0mself\u001b[0m\u001b[1;33m.\u001b[0m\u001b[0mtree\u001b[0m \u001b[1;33m=\u001b[0m \u001b[0mself\u001b[0m\u001b[1;33m.\u001b[0m\u001b[0mget_tree\u001b[0m\u001b[1;33m(\u001b[0m\u001b[1;33m*\u001b[0m\u001b[0m_flatten\u001b[0m\u001b[1;33m(\u001b[0m\u001b[0mpage_numbers\u001b[0m\u001b[1;33m)\u001b[0m\u001b[1;33m)\u001b[0m\u001b[1;33m\u001b[0m\u001b[0m\n\u001b[0m\u001b[0;32m    386\u001b[0m         \u001b[0mself\u001b[0m\u001b[1;33m.\u001b[0m\u001b[0mpq\u001b[0m \u001b[1;33m=\u001b[0m \u001b[0mself\u001b[0m\u001b[1;33m.\u001b[0m\u001b[0mget_pyquery\u001b[0m\u001b[1;33m(\u001b[0m\u001b[0mself\u001b[0m\u001b[1;33m.\u001b[0m\u001b[0mtree\u001b[0m\u001b[1;33m)\u001b[0m\u001b[1;33m\u001b[0m\u001b[0m\n\u001b[0;32m    387\u001b[0m \u001b[1;33m\u001b[0m\u001b[0m\n",
      "\u001b[1;32mC:\\Users\\Aman Deep Singh\\Anaconda3\\lib\\site-packages\\pdfquery\\pdfquery.py\u001b[0m in \u001b[0;36mget_tree\u001b[1;34m(self, *page_numbers)\u001b[0m\n\u001b[0;32m    482\u001b[0m                 \u001b[1;32mif\u001b[0m \u001b[0mpage_numbers\u001b[0m\u001b[1;33m:\u001b[0m\u001b[1;33m\u001b[0m\u001b[0m\n\u001b[0;32m    483\u001b[0m                     pages = [[n, self.get_layout(self.get_page(n))] for n in\n\u001b[1;32m--> 484\u001b[1;33m                              _flatten(page_numbers)]\n\u001b[0m\u001b[0;32m    485\u001b[0m                 \u001b[1;32melse\u001b[0m\u001b[1;33m:\u001b[0m\u001b[1;33m\u001b[0m\u001b[0m\n\u001b[0;32m    486\u001b[0m                     \u001b[0mpages\u001b[0m \u001b[1;33m=\u001b[0m \u001b[0menumerate\u001b[0m\u001b[1;33m(\u001b[0m\u001b[0mself\u001b[0m\u001b[1;33m.\u001b[0m\u001b[0mget_layouts\u001b[0m\u001b[1;33m(\u001b[0m\u001b[1;33m)\u001b[0m\u001b[1;33m)\u001b[0m\u001b[1;33m\u001b[0m\u001b[0m\n",
      "\u001b[1;32mC:\\Users\\Aman Deep Singh\\Anaconda3\\lib\\site-packages\\pdfquery\\pdfquery.py\u001b[0m in \u001b[0;36m<listcomp>\u001b[1;34m(.0)\u001b[0m\n\u001b[0;32m    481\u001b[0m             \u001b[1;32mif\u001b[0m \u001b[1;32mnot\u001b[0m\u001b[1;33m(\u001b[0m\u001b[0mlen\u001b[0m\u001b[1;33m(\u001b[0m\u001b[0mpage_numbers\u001b[0m\u001b[1;33m)\u001b[0m \u001b[1;33m==\u001b[0m \u001b[1;36m1\u001b[0m \u001b[1;32mand\u001b[0m \u001b[0mpage_numbers\u001b[0m\u001b[1;33m[\u001b[0m\u001b[1;36m0\u001b[0m\u001b[1;33m]\u001b[0m \u001b[1;32mis\u001b[0m \u001b[1;32mNone\u001b[0m\u001b[1;33m)\u001b[0m\u001b[1;33m:\u001b[0m\u001b[1;33m\u001b[0m\u001b[0m\n\u001b[0;32m    482\u001b[0m                 \u001b[1;32mif\u001b[0m \u001b[0mpage_numbers\u001b[0m\u001b[1;33m:\u001b[0m\u001b[1;33m\u001b[0m\u001b[0m\n\u001b[1;32m--> 483\u001b[1;33m                     pages = [[n, self.get_layout(self.get_page(n))] for n in\n\u001b[0m\u001b[0;32m    484\u001b[0m                              _flatten(page_numbers)]\n\u001b[0;32m    485\u001b[0m                 \u001b[1;32melse\u001b[0m\u001b[1;33m:\u001b[0m\u001b[1;33m\u001b[0m\u001b[0m\n",
      "\u001b[1;32mC:\\Users\\Aman Deep Singh\\Anaconda3\\lib\\site-packages\\pdfquery\\pdfquery.py\u001b[0m in \u001b[0;36mget_page\u001b[1;34m(self, page_number)\u001b[0m\n\u001b[0;32m    593\u001b[0m     \u001b[1;32mdef\u001b[0m \u001b[0mget_page\u001b[0m\u001b[1;33m(\u001b[0m\u001b[0mself\u001b[0m\u001b[1;33m,\u001b[0m \u001b[0mpage_number\u001b[0m\u001b[1;33m)\u001b[0m\u001b[1;33m:\u001b[0m\u001b[1;33m\u001b[0m\u001b[0m\n\u001b[0;32m    594\u001b[0m         \u001b[1;34m\"\"\" Get PDFPage object -- 0-indexed.\"\"\"\u001b[0m\u001b[1;33m\u001b[0m\u001b[0m\n\u001b[1;32m--> 595\u001b[1;33m         \u001b[1;32mreturn\u001b[0m \u001b[0mself\u001b[0m\u001b[1;33m.\u001b[0m\u001b[0m_cached_pages\u001b[0m\u001b[1;33m(\u001b[0m\u001b[0mtarget_page\u001b[0m\u001b[1;33m=\u001b[0m\u001b[0mpage_number\u001b[0m\u001b[1;33m)\u001b[0m\u001b[1;33m\u001b[0m\u001b[0m\n\u001b[0m\u001b[0;32m    596\u001b[0m \u001b[1;33m\u001b[0m\u001b[0m\n\u001b[0;32m    597\u001b[0m     \u001b[1;32mdef\u001b[0m \u001b[0mget_layout\u001b[0m\u001b[1;33m(\u001b[0m\u001b[0mself\u001b[0m\u001b[1;33m,\u001b[0m \u001b[0mpage\u001b[0m\u001b[1;33m)\u001b[0m\u001b[1;33m:\u001b[0m\u001b[1;33m\u001b[0m\u001b[0m\n",
      "\u001b[1;32mC:\\Users\\Aman Deep Singh\\Anaconda3\\lib\\site-packages\\pdfquery\\pdfquery.py\u001b[0m in \u001b[0;36m_cached_pages\u001b[1;34m(self, target_page)\u001b[0m\n\u001b[0;32m    625\u001b[0m         \u001b[1;32mif\u001b[0m \u001b[0mtarget_page\u001b[0m \u001b[1;33m>=\u001b[0m \u001b[1;36m0\u001b[0m\u001b[1;33m:\u001b[0m\u001b[1;33m\u001b[0m\u001b[0m\n\u001b[0;32m    626\u001b[0m             \u001b[1;32mwhile\u001b[0m \u001b[0mlen\u001b[0m\u001b[1;33m(\u001b[0m\u001b[0mself\u001b[0m\u001b[1;33m.\u001b[0m\u001b[0m_pages\u001b[0m\u001b[1;33m)\u001b[0m \u001b[1;33m<=\u001b[0m \u001b[0mtarget_page\u001b[0m\u001b[1;33m:\u001b[0m\u001b[1;33m\u001b[0m\u001b[0m\n\u001b[1;32m--> 627\u001b[1;33m                 \u001b[0mnext_page\u001b[0m \u001b[1;33m=\u001b[0m \u001b[0mnext\u001b[0m\u001b[1;33m(\u001b[0m\u001b[0mself\u001b[0m\u001b[1;33m.\u001b[0m\u001b[0m_pages_iter\u001b[0m\u001b[1;33m)\u001b[0m\u001b[1;33m\u001b[0m\u001b[0m\n\u001b[0m\u001b[0;32m    628\u001b[0m                 \u001b[1;32mif\u001b[0m \u001b[1;32mnot\u001b[0m \u001b[0mnext_page\u001b[0m\u001b[1;33m:\u001b[0m\u001b[1;33m\u001b[0m\u001b[0m\n\u001b[0;32m    629\u001b[0m                     \u001b[1;32mreturn\u001b[0m \u001b[1;32mNone\u001b[0m\u001b[1;33m\u001b[0m\u001b[0m\n",
      "\u001b[1;31mStopIteration\u001b[0m: "
     ]
    }
   ],
   "source": [
    "import pdfquery\n",
    "import pandas as pd\n",
    "df = pd.DataFrame()\n",
    "data = dict()\n",
    "data['Name'] = []\n",
    "data['Email'] = []\n",
    "data['Mobile'] = []\n",
    "data['Branch'] = []\n",
    "pdf = pdfquery.PDFQuery('3env.pdf')\n",
    "def scrape(pg):\n",
    "    pdf.load(pg)\n",
    "    label = pdf.pq('LTTextLineHorizontal:contains(\"Personal Details\")')\n",
    "    left_corner = float(label.attr('x0'))\n",
    "    bottom_corner = float(label.attr('y0'))\n",
    "    name = pdf.pq('LTTextLineHorizontal:overlaps_bbox(\"%s, %s, %s, %s\")'%(left_corner+150, bottom_corner-20, left_corner+180, bottom_corner)).text()\n",
    "#     name\n",
    "    data['Name'].append(name)\n",
    "    pdf.load(pg+1)\n",
    "    label = pdf.pq('LTTextLineHorizontal:contains(\"Editable Details\")')\n",
    "    label.text()\n",
    "    lc = float(label.attr('x0'))\n",
    "    bc = float(label.attr('y0'))\n",
    "    email = pdf.pq('LTTextLineHorizontal:overlaps_bbox(\"%s, %s, %s, %s\")'%(lc+100, bc-20, lc+260, bc)).text()\n",
    "    data['Email'].append(email)\n",
    "    mobile = email = pdf.pq('LTTextLineHorizontal:in_bbox(\"%s, %s, %s, %s\")'%(lc+20, bc-40, lc+300, bc-20)).text()\n",
    "    data['Mobile'].append(mobile)\n",
    "    label = pdf.pq('LTTextLineHorizontal:contains(\"Bank Details\")')\n",
    "#     label.text()\n",
    "    lc = float(label.attr('x0'))\n",
    "    bc = float(label.attr('y0'))\n",
    "    branch = pdf.pq('LTTextLineHorizontal:overlaps_bbox(\"%s, %s, %s, %s\")'%(lc+100, bc+20, lc+250, bc+50)).text()\n",
    "    data['Branch'].append(branch)\n",
    "#     print(data)\n",
    "    \n",
    "for i in range(0, 43, 2):\n",
    "    print(i)\n",
    "    scrape(i)\n",
    "    \n",
    "# data"
   ]
  },
  {
   "cell_type": "code",
   "execution_count": 109,
   "metadata": {
    "collapsed": true
   },
   "outputs": [],
   "source": [
    "df = pd.DataFrame(data)"
   ]
  },
  {
   "cell_type": "code",
   "execution_count": 110,
   "metadata": {},
   "outputs": [
    {
     "name": "stdout",
     "output_type": "stream",
     "text": [
      "21\n",
      "21\n",
      "21\n",
      "21\n",
      "['Ekta Raj', 'Moh Arshad Ansari', 'Pratyush', 'Vipin Dixit', 'Kotaiah Uppalapati', 'Shashi Ranjan', 'Rohit Kumar Kant', 'Sameer Shekhar', 'Kumar Gaurav', 'Lalit Yadav', 'Sumeet Kumar', 'Mukul Sudha', 'Pradeep Kumar Gour', 'Sagorika Mallick', 'Saket Keshav', 'Adil Jamal', 'Anchal Patel', 'Praduman Kumar Shah', 'Anupama Kumari', 'Rishabh Singh', 'Rishav Verma']\n"
     ]
    },
    {
     "ename": "TypeError",
     "evalue": "'NoneType' object is not subscriptable",
     "output_type": "error",
     "traceback": [
      "\u001b[1;31m---------------------------------------------------------------------------\u001b[0m",
      "\u001b[1;31mTypeError\u001b[0m                                 Traceback (most recent call last)",
      "\u001b[1;32m<ipython-input-110-0df7f9c32186>\u001b[0m in \u001b[0;36m<module>\u001b[1;34m()\u001b[0m\n\u001b[0;32m      3\u001b[0m \u001b[0mprint\u001b[0m\u001b[1;33m(\u001b[0m\u001b[0mlen\u001b[0m\u001b[1;33m(\u001b[0m\u001b[0mdata\u001b[0m\u001b[1;33m[\u001b[0m\u001b[1;34m'Mobile'\u001b[0m\u001b[1;33m]\u001b[0m\u001b[1;33m)\u001b[0m\u001b[1;33m)\u001b[0m\u001b[1;33m\u001b[0m\u001b[0m\n\u001b[0;32m      4\u001b[0m \u001b[0mprint\u001b[0m\u001b[1;33m(\u001b[0m\u001b[0mlen\u001b[0m\u001b[1;33m(\u001b[0m\u001b[0mdata\u001b[0m\u001b[1;33m[\u001b[0m\u001b[1;34m'Branch'\u001b[0m\u001b[1;33m]\u001b[0m\u001b[1;33m)\u001b[0m\u001b[1;33m)\u001b[0m\u001b[1;33m\u001b[0m\u001b[0m\n\u001b[1;32m----> 5\u001b[1;33m \u001b[0mprint\u001b[0m\u001b[1;33m(\u001b[0m\u001b[0mdata\u001b[0m\u001b[1;33m[\u001b[0m\u001b[1;34m'Name'\u001b[0m\u001b[1;33m]\u001b[0m\u001b[1;33m)\u001b[0m\u001b[1;33m[\u001b[0m\u001b[1;33m-\u001b[0m\u001b[1;36m1\u001b[0m\u001b[1;33m]\u001b[0m\u001b[1;33m\u001b[0m\u001b[0m\n\u001b[0m",
      "\u001b[1;31mTypeError\u001b[0m: 'NoneType' object is not subscriptable"
     ]
    }
   ],
   "source": [
    "print(len(data['Name']))\n",
    "print(len(data['Email']))\n",
    "print(len(data['Mobile']))\n",
    "print(len(data['Branch']))\n",
    "print(data['Name'])[-1]"
   ]
  },
  {
   "cell_type": "code",
   "execution_count": null,
   "metadata": {
    "collapsed": true
   },
   "outputs": [],
   "source": [
    "data['Name'] = data['Name'][:-1]"
   ]
  },
  {
   "cell_type": "code",
   "execution_count": 111,
   "metadata": {},
   "outputs": [
    {
     "name": "stdout",
     "output_type": "stream",
     "text": [
      "21\n",
      "21\n",
      "21\n",
      "21\n"
     ]
    }
   ],
   "source": [
    "print(len(data['Name']))\n",
    "print(len(data['Email']))\n",
    "print(len(data['Mobile']))\n",
    "print(len(data['Branch']))"
   ]
  },
  {
   "cell_type": "code",
   "execution_count": 87,
   "metadata": {},
   "outputs": [],
   "source": [
    "df = pd.DataFrame(data)"
   ]
  },
  {
   "cell_type": "code",
   "execution_count": null,
   "metadata": {},
   "outputs": [],
   "source": [
    "df"
   ]
  },
  {
   "cell_type": "code",
   "execution_count": 73,
   "metadata": {
    "collapsed": true
   },
   "outputs": [],
   "source": [
    "df_copy = pd.DataFrame.copy(df)"
   ]
  },
  {
   "cell_type": "code",
   "execution_count": null,
   "metadata": {
    "collapsed": true
   },
   "outputs": [],
   "source": [
    "scrape(863)"
   ]
  },
  {
   "cell_type": "code",
   "execution_count": null,
   "metadata": {
    "collapsed": true
   },
   "outputs": [],
   "source": [
    "data"
   ]
  },
  {
   "cell_type": "code",
   "execution_count": null,
   "metadata": {
    "collapsed": true
   },
   "outputs": [],
   "source": [
    "for i in range(865, 1937, 2):\n",
    "    scrape(i)\n",
    "    print(i)"
   ]
  },
  {
   "cell_type": "code",
   "execution_count": 88,
   "metadata": {},
   "outputs": [
    {
     "name": "stdout",
     "output_type": "stream",
     "text": [
      "26\n",
      "26\n",
      "26\n",
      "26\n"
     ]
    }
   ],
   "source": [
    "print(len(data['Name']))\n",
    "print(len(data['Email']))\n",
    "print(len(data['Mobile']))\n",
    "print(len(data['Branch']))"
   ]
  },
  {
   "cell_type": "code",
   "execution_count": null,
   "metadata": {
    "collapsed": true
   },
   "outputs": [],
   "source": [
    "data['Name'][-1]"
   ]
  },
  {
   "cell_type": "code",
   "execution_count": null,
   "metadata": {
    "collapsed": true
   },
   "outputs": [],
   "source": [
    "data['Email'][-1]"
   ]
  },
  {
   "cell_type": "code",
   "execution_count": null,
   "metadata": {
    "collapsed": true
   },
   "outputs": [],
   "source": [
    "data['Mobile'][-1]"
   ]
  },
  {
   "cell_type": "code",
   "execution_count": null,
   "metadata": {
    "collapsed": true
   },
   "outputs": [],
   "source": [
    "data.dtypes"
   ]
  },
  {
   "cell_type": "code",
   "execution_count": null,
   "metadata": {
    "collapsed": true
   },
   "outputs": [],
   "source": [
    "type(data['Mobile'][0])"
   ]
  },
  {
   "cell_type": "code",
   "execution_count": null,
   "metadata": {
    "collapsed": true
   },
   "outputs": [],
   "source": [
    "data['Mobile'][-1] = '8084192158'"
   ]
  },
  {
   "cell_type": "code",
   "execution_count": 89,
   "metadata": {},
   "outputs": [
    {
     "name": "stdout",
     "output_type": "stream",
     "text": [
      "26\n",
      "26\n",
      "26\n",
      "26\n"
     ]
    }
   ],
   "source": [
    "print(len(data['Name']))\n",
    "print(len(data['Email']))\n",
    "print(len(data['Mobile']))\n",
    "print(len(data['Branch']))"
   ]
  },
  {
   "cell_type": "code",
   "execution_count": null,
   "metadata": {
    "collapsed": true
   },
   "outputs": [],
   "source": [
    "data['Mobile'][-2]"
   ]
  },
  {
   "cell_type": "code",
   "execution_count": null,
   "metadata": {
    "collapsed": true
   },
   "outputs": [],
   "source": [
    "scrape(1906)"
   ]
  },
  {
   "cell_type": "code",
   "execution_count": null,
   "metadata": {
    "collapsed": true
   },
   "outputs": [],
   "source": [
    "data['Name'][-1]"
   ]
  },
  {
   "cell_type": "code",
   "execution_count": null,
   "metadata": {
    "collapsed": true
   },
   "outputs": [],
   "source": [
    "data['Email'][-1]"
   ]
  },
  {
   "cell_type": "code",
   "execution_count": null,
   "metadata": {
    "collapsed": true
   },
   "outputs": [],
   "source": [
    "data['Mobile'][-1]"
   ]
  },
  {
   "cell_type": "code",
   "execution_count": null,
   "metadata": {
    "collapsed": true
   },
   "outputs": [],
   "source": [
    "df = pd.DataFrame(data)\n",
    "df"
   ]
  },
  {
   "cell_type": "code",
   "execution_count": null,
   "metadata": {
    "collapsed": true
   },
   "outputs": [],
   "source": [
    "df_copy2 = pd.DataFrame.copy(df)"
   ]
  },
  {
   "cell_type": "code",
   "execution_count": null,
   "metadata": {
    "collapsed": true
   },
   "outputs": [],
   "source": [
    "for i in range(1908, 1937, 2):\n",
    "    scrape(i)\n",
    "    print(i)"
   ]
  },
  {
   "cell_type": "code",
   "execution_count": null,
   "metadata": {
    "collapsed": true
   },
   "outputs": [],
   "source": [
    "print(len(data['Name']))\n",
    "print(len(data['Email']))\n",
    "print(len(data['Mobile']))\n",
    "print(len(data['Branch']))"
   ]
  },
  {
   "cell_type": "code",
   "execution_count": null,
   "metadata": {
    "collapsed": true
   },
   "outputs": [],
   "source": [
    "data['Name'][-1]"
   ]
  },
  {
   "cell_type": "code",
   "execution_count": null,
   "metadata": {
    "collapsed": true
   },
   "outputs": [],
   "source": [
    "data['Mobile'][-1]"
   ]
  },
  {
   "cell_type": "code",
   "execution_count": null,
   "metadata": {
    "collapsed": true
   },
   "outputs": [],
   "source": [
    "df = pd.DataFrame(data)"
   ]
  },
  {
   "cell_type": "code",
   "execution_count": null,
   "metadata": {
    "collapsed": true
   },
   "outputs": [],
   "source": [
    "df"
   ]
  },
  {
   "cell_type": "code",
   "execution_count": 112,
   "metadata": {},
   "outputs": [
    {
     "data": {
      "text/plain": [
       "['Name', 'Branch', 'Email', 'Mobile']"
      ]
     },
     "execution_count": 112,
     "metadata": {},
     "output_type": "execute_result"
    }
   ],
   "source": [
    "cols = df.columns.tolist()\n",
    "cols = cols[-1:] + cols[:-1]\n",
    "cols"
   ]
  },
  {
   "cell_type": "code",
   "execution_count": 113,
   "metadata": {},
   "outputs": [
    {
     "data": {
      "text/html": [
       "<div>\n",
       "<style>\n",
       "    .dataframe thead tr:only-child th {\n",
       "        text-align: right;\n",
       "    }\n",
       "\n",
       "    .dataframe thead th {\n",
       "        text-align: left;\n",
       "    }\n",
       "\n",
       "    .dataframe tbody tr th {\n",
       "        vertical-align: top;\n",
       "    }\n",
       "</style>\n",
       "<table border=\"1\" class=\"dataframe\">\n",
       "  <thead>\n",
       "    <tr style=\"text-align: right;\">\n",
       "      <th></th>\n",
       "      <th>Name</th>\n",
       "      <th>Branch</th>\n",
       "      <th>Email</th>\n",
       "      <th>Mobile</th>\n",
       "    </tr>\n",
       "  </thead>\n",
       "  <tbody>\n",
       "    <tr>\n",
       "      <th>0</th>\n",
       "      <td>Ekta Raj</td>\n",
       "      <td>Petroleum Engineering</td>\n",
       "      <td>ektaraj155@gmail.com</td>\n",
       "      <td>8409657641</td>\n",
       "    </tr>\n",
       "    <tr>\n",
       "      <th>1</th>\n",
       "      <td>Moh Arshad Ansari</td>\n",
       "      <td>Environmental Engineering</td>\n",
       "      <td>arshansari8086@gmail.com</td>\n",
       "      <td>8009239561</td>\n",
       "    </tr>\n",
       "    <tr>\n",
       "      <th>2</th>\n",
       "      <td>Pratyush</td>\n",
       "      <td>Environmental Engineering</td>\n",
       "      <td>kumarpratyush1997@gmail.com Parent Email</td>\n",
       "      <td>7277409129</td>\n",
       "    </tr>\n",
       "    <tr>\n",
       "      <th>3</th>\n",
       "      <td>Vipin Dixit</td>\n",
       "      <td>Environmental Engineering</td>\n",
       "      <td>dixitvipin191@gmail.com</td>\n",
       "      <td>9708552930</td>\n",
       "    </tr>\n",
       "    <tr>\n",
       "      <th>4</th>\n",
       "      <td>Kotaiah Uppalapati</td>\n",
       "      <td>Environmental Engineering</td>\n",
       "      <td>kotiuppalapati119@gmail.com Parent Email</td>\n",
       "      <td>8298870781</td>\n",
       "    </tr>\n",
       "    <tr>\n",
       "      <th>5</th>\n",
       "      <td>Shashi Ranjan</td>\n",
       "      <td>Environmental Engineering</td>\n",
       "      <td>shashiranjanms30@gmail.com Parent Email</td>\n",
       "      <td>9097290650</td>\n",
       "    </tr>\n",
       "    <tr>\n",
       "      <th>6</th>\n",
       "      <td>Rohit Kumar Kant</td>\n",
       "      <td>Environmental Engineering</td>\n",
       "      <td>rohitkant45@gmail.com</td>\n",
       "      <td>9955546872</td>\n",
       "    </tr>\n",
       "    <tr>\n",
       "      <th>7</th>\n",
       "      <td>Sameer Shekhar</td>\n",
       "      <td>Environmental Engineering</td>\n",
       "      <td>sam_shekhar67@rediffmail.com Parent Email</td>\n",
       "      <td>8298082250</td>\n",
       "    </tr>\n",
       "    <tr>\n",
       "      <th>8</th>\n",
       "      <td>Kumar Gaurav</td>\n",
       "      <td>Environmental Engineering</td>\n",
       "      <td>krgaurav120143@gmail.com</td>\n",
       "      <td>9006785916</td>\n",
       "    </tr>\n",
       "    <tr>\n",
       "      <th>9</th>\n",
       "      <td>Lalit Yadav</td>\n",
       "      <td>Environmental Engineering</td>\n",
       "      <td>erlalit123@gmail.com</td>\n",
       "      <td>7766043106</td>\n",
       "    </tr>\n",
       "    <tr>\n",
       "      <th>10</th>\n",
       "      <td>Sumeet Kumar</td>\n",
       "      <td>Environmental Engineering</td>\n",
       "      <td>sumeetkumarlohani@gmail.com Parent Email</td>\n",
       "      <td>8252652647</td>\n",
       "    </tr>\n",
       "    <tr>\n",
       "      <th>11</th>\n",
       "      <td>Mukul Sudha</td>\n",
       "      <td>Environmental Engineering</td>\n",
       "      <td>mukulsudha2@gmail.com</td>\n",
       "      <td>7545826657</td>\n",
       "    </tr>\n",
       "    <tr>\n",
       "      <th>12</th>\n",
       "      <td>Pradeep Kumar Gour</td>\n",
       "      <td>Environmental Engineering</td>\n",
       "      <td>happysinghpkg@gmail.com</td>\n",
       "      <td>7079932393</td>\n",
       "    </tr>\n",
       "    <tr>\n",
       "      <th>13</th>\n",
       "      <td>Sagorika Mallick</td>\n",
       "      <td>Environmental Engineering</td>\n",
       "      <td>sagorikamallick@gmail.com</td>\n",
       "      <td>7739109890</td>\n",
       "    </tr>\n",
       "    <tr>\n",
       "      <th>14</th>\n",
       "      <td>Saket Keshav</td>\n",
       "      <td>Environmental Engineering</td>\n",
       "      <td>saketkeshav@gmail.com</td>\n",
       "      <td>9334727503</td>\n",
       "    </tr>\n",
       "    <tr>\n",
       "      <th>15</th>\n",
       "      <td>Adil Jamal</td>\n",
       "      <td>Environmental Engineering</td>\n",
       "      <td>adil.jamal152@gmail.com</td>\n",
       "      <td>9097067557</td>\n",
       "    </tr>\n",
       "    <tr>\n",
       "      <th>16</th>\n",
       "      <td>Anchal Patel</td>\n",
       "      <td>Environmental Engineering</td>\n",
       "      <td>anchalpatel010796@gmail.com Parent Email</td>\n",
       "      <td>8877928466</td>\n",
       "    </tr>\n",
       "    <tr>\n",
       "      <th>17</th>\n",
       "      <td>Praduman Kumar Shah</td>\n",
       "      <td>Environmental Engineering</td>\n",
       "      <td>prad1449@gmail.com</td>\n",
       "      <td>9771230601</td>\n",
       "    </tr>\n",
       "    <tr>\n",
       "      <th>18</th>\n",
       "      <td>Anupama Kumari</td>\n",
       "      <td>Environmental Engineering</td>\n",
       "      <td>anupama0022@gmail.com</td>\n",
       "      <td>9576574989</td>\n",
       "    </tr>\n",
       "    <tr>\n",
       "      <th>19</th>\n",
       "      <td>Rishabh Singh</td>\n",
       "      <td>Environmental Engineering</td>\n",
       "      <td>rishabh@ese.ism.ac.in</td>\n",
       "      <td>7545833690</td>\n",
       "    </tr>\n",
       "    <tr>\n",
       "      <th>20</th>\n",
       "      <td>Rishav Verma</td>\n",
       "      <td>Environmental Engineering</td>\n",
       "      <td>rishav.verma5@gmail.com</td>\n",
       "      <td>9504974197</td>\n",
       "    </tr>\n",
       "  </tbody>\n",
       "</table>\n",
       "</div>"
      ],
      "text/plain": [
       "                   Name                     Branch  \\\n",
       "0              Ekta Raj      Petroleum Engineering   \n",
       "1     Moh Arshad Ansari  Environmental Engineering   \n",
       "2              Pratyush  Environmental Engineering   \n",
       "3           Vipin Dixit  Environmental Engineering   \n",
       "4    Kotaiah Uppalapati  Environmental Engineering   \n",
       "5         Shashi Ranjan  Environmental Engineering   \n",
       "6      Rohit Kumar Kant  Environmental Engineering   \n",
       "7        Sameer Shekhar  Environmental Engineering   \n",
       "8          Kumar Gaurav  Environmental Engineering   \n",
       "9           Lalit Yadav  Environmental Engineering   \n",
       "10         Sumeet Kumar  Environmental Engineering   \n",
       "11          Mukul Sudha  Environmental Engineering   \n",
       "12   Pradeep Kumar Gour  Environmental Engineering   \n",
       "13     Sagorika Mallick  Environmental Engineering   \n",
       "14         Saket Keshav  Environmental Engineering   \n",
       "15           Adil Jamal  Environmental Engineering   \n",
       "16         Anchal Patel  Environmental Engineering   \n",
       "17  Praduman Kumar Shah  Environmental Engineering   \n",
       "18       Anupama Kumari  Environmental Engineering   \n",
       "19        Rishabh Singh  Environmental Engineering   \n",
       "20         Rishav Verma  Environmental Engineering   \n",
       "\n",
       "                                        Email      Mobile  \n",
       "0                        ektaraj155@gmail.com  8409657641  \n",
       "1                    arshansari8086@gmail.com  8009239561  \n",
       "2    kumarpratyush1997@gmail.com Parent Email  7277409129  \n",
       "3                     dixitvipin191@gmail.com  9708552930  \n",
       "4    kotiuppalapati119@gmail.com Parent Email  8298870781  \n",
       "5     shashiranjanms30@gmail.com Parent Email  9097290650  \n",
       "6                       rohitkant45@gmail.com  9955546872  \n",
       "7   sam_shekhar67@rediffmail.com Parent Email  8298082250  \n",
       "8                    krgaurav120143@gmail.com  9006785916  \n",
       "9                        erlalit123@gmail.com  7766043106  \n",
       "10   sumeetkumarlohani@gmail.com Parent Email  8252652647  \n",
       "11                      mukulsudha2@gmail.com  7545826657  \n",
       "12                    happysinghpkg@gmail.com  7079932393  \n",
       "13                  sagorikamallick@gmail.com  7739109890  \n",
       "14                      saketkeshav@gmail.com  9334727503  \n",
       "15                    adil.jamal152@gmail.com  9097067557  \n",
       "16   anchalpatel010796@gmail.com Parent Email  8877928466  \n",
       "17                         prad1449@gmail.com  9771230601  \n",
       "18                      anupama0022@gmail.com  9576574989  \n",
       "19                      rishabh@ese.ism.ac.in  7545833690  \n",
       "20                    rishav.verma5@gmail.com  9504974197  "
      ]
     },
     "execution_count": 113,
     "metadata": {},
     "output_type": "execute_result"
    }
   ],
   "source": [
    "df = df[cols]\n",
    "df"
   ]
  },
  {
   "cell_type": "code",
   "execution_count": null,
   "metadata": {
    "collapsed": true
   },
   "outputs": [],
   "source": [
    "df_copy3 = pd.DataFrame.copy(df)"
   ]
  },
  {
   "cell_type": "code",
   "execution_count": null,
   "metadata": {
    "collapsed": true
   },
   "outputs": [],
   "source": [
    "df_copy3.shape"
   ]
  },
  {
   "cell_type": "code",
   "execution_count": 114,
   "metadata": {},
   "outputs": [],
   "source": [
    "df.Email = df.Email.str.replace(\"Parent Email\", \"\")"
   ]
  },
  {
   "cell_type": "code",
   "execution_count": 115,
   "metadata": {},
   "outputs": [
    {
     "data": {
      "text/html": [
       "<div>\n",
       "<style>\n",
       "    .dataframe thead tr:only-child th {\n",
       "        text-align: right;\n",
       "    }\n",
       "\n",
       "    .dataframe thead th {\n",
       "        text-align: left;\n",
       "    }\n",
       "\n",
       "    .dataframe tbody tr th {\n",
       "        vertical-align: top;\n",
       "    }\n",
       "</style>\n",
       "<table border=\"1\" class=\"dataframe\">\n",
       "  <thead>\n",
       "    <tr style=\"text-align: right;\">\n",
       "      <th></th>\n",
       "      <th>Name</th>\n",
       "      <th>Branch</th>\n",
       "      <th>Email</th>\n",
       "      <th>Mobile</th>\n",
       "    </tr>\n",
       "  </thead>\n",
       "  <tbody>\n",
       "    <tr>\n",
       "      <th>0</th>\n",
       "      <td>Ekta Raj</td>\n",
       "      <td>Petroleum Engineering</td>\n",
       "      <td>ektaraj155@gmail.com</td>\n",
       "      <td>8409657641</td>\n",
       "    </tr>\n",
       "    <tr>\n",
       "      <th>1</th>\n",
       "      <td>Moh Arshad Ansari</td>\n",
       "      <td>Environmental Engineering</td>\n",
       "      <td>arshansari8086@gmail.com</td>\n",
       "      <td>8009239561</td>\n",
       "    </tr>\n",
       "    <tr>\n",
       "      <th>2</th>\n",
       "      <td>Pratyush</td>\n",
       "      <td>Environmental Engineering</td>\n",
       "      <td>kumarpratyush1997@gmail.com</td>\n",
       "      <td>7277409129</td>\n",
       "    </tr>\n",
       "    <tr>\n",
       "      <th>3</th>\n",
       "      <td>Vipin Dixit</td>\n",
       "      <td>Environmental Engineering</td>\n",
       "      <td>dixitvipin191@gmail.com</td>\n",
       "      <td>9708552930</td>\n",
       "    </tr>\n",
       "    <tr>\n",
       "      <th>4</th>\n",
       "      <td>Kotaiah Uppalapati</td>\n",
       "      <td>Environmental Engineering</td>\n",
       "      <td>kotiuppalapati119@gmail.com</td>\n",
       "      <td>8298870781</td>\n",
       "    </tr>\n",
       "  </tbody>\n",
       "</table>\n",
       "</div>"
      ],
      "text/plain": [
       "                 Name                     Branch  \\\n",
       "0            Ekta Raj      Petroleum Engineering   \n",
       "1   Moh Arshad Ansari  Environmental Engineering   \n",
       "2            Pratyush  Environmental Engineering   \n",
       "3         Vipin Dixit  Environmental Engineering   \n",
       "4  Kotaiah Uppalapati  Environmental Engineering   \n",
       "\n",
       "                          Email      Mobile  \n",
       "0          ektaraj155@gmail.com  8409657641  \n",
       "1      arshansari8086@gmail.com  8009239561  \n",
       "2  kumarpratyush1997@gmail.com   7277409129  \n",
       "3       dixitvipin191@gmail.com  9708552930  \n",
       "4  kotiuppalapati119@gmail.com   8298870781  "
      ]
     },
     "execution_count": 115,
     "metadata": {},
     "output_type": "execute_result"
    }
   ],
   "source": [
    "df.head()"
   ]
  },
  {
   "cell_type": "code",
   "execution_count": 116,
   "metadata": {},
   "outputs": [],
   "source": [
    "df.drop('Branch', axis=1, inplace=True)"
   ]
  },
  {
   "cell_type": "code",
   "execution_count": 117,
   "metadata": {},
   "outputs": [
    {
     "data": {
      "text/html": [
       "<div>\n",
       "<style>\n",
       "    .dataframe thead tr:only-child th {\n",
       "        text-align: right;\n",
       "    }\n",
       "\n",
       "    .dataframe thead th {\n",
       "        text-align: left;\n",
       "    }\n",
       "\n",
       "    .dataframe tbody tr th {\n",
       "        vertical-align: top;\n",
       "    }\n",
       "</style>\n",
       "<table border=\"1\" class=\"dataframe\">\n",
       "  <thead>\n",
       "    <tr style=\"text-align: right;\">\n",
       "      <th></th>\n",
       "      <th>Name</th>\n",
       "      <th>Email</th>\n",
       "      <th>Mobile</th>\n",
       "    </tr>\n",
       "  </thead>\n",
       "  <tbody>\n",
       "    <tr>\n",
       "      <th>0</th>\n",
       "      <td>Ekta Raj</td>\n",
       "      <td>ektaraj155@gmail.com</td>\n",
       "      <td>8409657641</td>\n",
       "    </tr>\n",
       "    <tr>\n",
       "      <th>1</th>\n",
       "      <td>Moh Arshad Ansari</td>\n",
       "      <td>arshansari8086@gmail.com</td>\n",
       "      <td>8009239561</td>\n",
       "    </tr>\n",
       "    <tr>\n",
       "      <th>2</th>\n",
       "      <td>Pratyush</td>\n",
       "      <td>kumarpratyush1997@gmail.com</td>\n",
       "      <td>7277409129</td>\n",
       "    </tr>\n",
       "    <tr>\n",
       "      <th>3</th>\n",
       "      <td>Vipin Dixit</td>\n",
       "      <td>dixitvipin191@gmail.com</td>\n",
       "      <td>9708552930</td>\n",
       "    </tr>\n",
       "    <tr>\n",
       "      <th>4</th>\n",
       "      <td>Kotaiah Uppalapati</td>\n",
       "      <td>kotiuppalapati119@gmail.com</td>\n",
       "      <td>8298870781</td>\n",
       "    </tr>\n",
       "    <tr>\n",
       "      <th>5</th>\n",
       "      <td>Shashi Ranjan</td>\n",
       "      <td>shashiranjanms30@gmail.com</td>\n",
       "      <td>9097290650</td>\n",
       "    </tr>\n",
       "    <tr>\n",
       "      <th>6</th>\n",
       "      <td>Rohit Kumar Kant</td>\n",
       "      <td>rohitkant45@gmail.com</td>\n",
       "      <td>9955546872</td>\n",
       "    </tr>\n",
       "    <tr>\n",
       "      <th>7</th>\n",
       "      <td>Sameer Shekhar</td>\n",
       "      <td>sam_shekhar67@rediffmail.com</td>\n",
       "      <td>8298082250</td>\n",
       "    </tr>\n",
       "    <tr>\n",
       "      <th>8</th>\n",
       "      <td>Kumar Gaurav</td>\n",
       "      <td>krgaurav120143@gmail.com</td>\n",
       "      <td>9006785916</td>\n",
       "    </tr>\n",
       "    <tr>\n",
       "      <th>9</th>\n",
       "      <td>Lalit Yadav</td>\n",
       "      <td>erlalit123@gmail.com</td>\n",
       "      <td>7766043106</td>\n",
       "    </tr>\n",
       "    <tr>\n",
       "      <th>10</th>\n",
       "      <td>Sumeet Kumar</td>\n",
       "      <td>sumeetkumarlohani@gmail.com</td>\n",
       "      <td>8252652647</td>\n",
       "    </tr>\n",
       "    <tr>\n",
       "      <th>11</th>\n",
       "      <td>Mukul Sudha</td>\n",
       "      <td>mukulsudha2@gmail.com</td>\n",
       "      <td>7545826657</td>\n",
       "    </tr>\n",
       "    <tr>\n",
       "      <th>12</th>\n",
       "      <td>Pradeep Kumar Gour</td>\n",
       "      <td>happysinghpkg@gmail.com</td>\n",
       "      <td>7079932393</td>\n",
       "    </tr>\n",
       "    <tr>\n",
       "      <th>13</th>\n",
       "      <td>Sagorika Mallick</td>\n",
       "      <td>sagorikamallick@gmail.com</td>\n",
       "      <td>7739109890</td>\n",
       "    </tr>\n",
       "    <tr>\n",
       "      <th>14</th>\n",
       "      <td>Saket Keshav</td>\n",
       "      <td>saketkeshav@gmail.com</td>\n",
       "      <td>9334727503</td>\n",
       "    </tr>\n",
       "    <tr>\n",
       "      <th>15</th>\n",
       "      <td>Adil Jamal</td>\n",
       "      <td>adil.jamal152@gmail.com</td>\n",
       "      <td>9097067557</td>\n",
       "    </tr>\n",
       "    <tr>\n",
       "      <th>16</th>\n",
       "      <td>Anchal Patel</td>\n",
       "      <td>anchalpatel010796@gmail.com</td>\n",
       "      <td>8877928466</td>\n",
       "    </tr>\n",
       "    <tr>\n",
       "      <th>17</th>\n",
       "      <td>Praduman Kumar Shah</td>\n",
       "      <td>prad1449@gmail.com</td>\n",
       "      <td>9771230601</td>\n",
       "    </tr>\n",
       "    <tr>\n",
       "      <th>18</th>\n",
       "      <td>Anupama Kumari</td>\n",
       "      <td>anupama0022@gmail.com</td>\n",
       "      <td>9576574989</td>\n",
       "    </tr>\n",
       "    <tr>\n",
       "      <th>19</th>\n",
       "      <td>Rishabh Singh</td>\n",
       "      <td>rishabh@ese.ism.ac.in</td>\n",
       "      <td>7545833690</td>\n",
       "    </tr>\n",
       "    <tr>\n",
       "      <th>20</th>\n",
       "      <td>Rishav Verma</td>\n",
       "      <td>rishav.verma5@gmail.com</td>\n",
       "      <td>9504974197</td>\n",
       "    </tr>\n",
       "  </tbody>\n",
       "</table>\n",
       "</div>"
      ],
      "text/plain": [
       "                   Name                          Email      Mobile\n",
       "0              Ekta Raj           ektaraj155@gmail.com  8409657641\n",
       "1     Moh Arshad Ansari       arshansari8086@gmail.com  8009239561\n",
       "2              Pratyush   kumarpratyush1997@gmail.com   7277409129\n",
       "3           Vipin Dixit        dixitvipin191@gmail.com  9708552930\n",
       "4    Kotaiah Uppalapati   kotiuppalapati119@gmail.com   8298870781\n",
       "5         Shashi Ranjan    shashiranjanms30@gmail.com   9097290650\n",
       "6      Rohit Kumar Kant          rohitkant45@gmail.com  9955546872\n",
       "7        Sameer Shekhar  sam_shekhar67@rediffmail.com   8298082250\n",
       "8          Kumar Gaurav       krgaurav120143@gmail.com  9006785916\n",
       "9           Lalit Yadav           erlalit123@gmail.com  7766043106\n",
       "10         Sumeet Kumar   sumeetkumarlohani@gmail.com   8252652647\n",
       "11          Mukul Sudha          mukulsudha2@gmail.com  7545826657\n",
       "12   Pradeep Kumar Gour        happysinghpkg@gmail.com  7079932393\n",
       "13     Sagorika Mallick      sagorikamallick@gmail.com  7739109890\n",
       "14         Saket Keshav          saketkeshav@gmail.com  9334727503\n",
       "15           Adil Jamal        adil.jamal152@gmail.com  9097067557\n",
       "16         Anchal Patel   anchalpatel010796@gmail.com   8877928466\n",
       "17  Praduman Kumar Shah             prad1449@gmail.com  9771230601\n",
       "18       Anupama Kumari          anupama0022@gmail.com  9576574989\n",
       "19        Rishabh Singh          rishabh@ese.ism.ac.in  7545833690\n",
       "20         Rishav Verma        rishav.verma5@gmail.com  9504974197"
      ]
     },
     "execution_count": 117,
     "metadata": {},
     "output_type": "execute_result"
    }
   ],
   "source": [
    "df"
   ]
  },
  {
   "cell_type": "code",
   "execution_count": 118,
   "metadata": {
    "collapsed": true
   },
   "outputs": [],
   "source": [
    "writer = pd.ExcelWriter('3env.xlsx', engine='xlsxwriter')\n",
    "df.to_excel(writer, sheet_name='Sheet 1')\n",
    "writer.save()"
   ]
  },
  {
   "cell_type": "code",
   "execution_count": null,
   "metadata": {
    "collapsed": true
   },
   "outputs": [],
   "source": []
  }
 ],
 "metadata": {
  "kernelspec": {
   "display_name": "Python 3",
   "language": "python",
   "name": "python3"
  },
  "language_info": {
   "codemirror_mode": {
    "name": "ipython",
    "version": 3
   },
   "file_extension": ".py",
   "mimetype": "text/x-python",
   "name": "python",
   "nbconvert_exporter": "python",
   "pygments_lexer": "ipython3",
   "version": "3.6.1"
  }
 },
 "nbformat": 4,
 "nbformat_minor": 2
}
