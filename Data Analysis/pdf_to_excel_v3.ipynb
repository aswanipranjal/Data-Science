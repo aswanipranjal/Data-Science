{
 "cells": [
  {
   "cell_type": "code",
   "execution_count": 36,
   "metadata": {},
   "outputs": [],
   "source": [
    "import pdfquery\n",
    "pdf = pdfquery.PDFQuery('Merged0101.pdf')\n",
    "pdf.load(2)"
   ]
  },
  {
   "cell_type": "code",
   "execution_count": 37,
   "metadata": {},
   "outputs": [
    {
     "data": {
      "text/plain": [
       "'Rajat Kumar Jain'"
      ]
     },
     "execution_count": 37,
     "metadata": {},
     "output_type": "execute_result"
    }
   ],
   "source": [
    "label = pdf.pq('LTTextLineHorizontal:contains(\"Personal Details\")')\n",
    "left_corner = float(label.attr('x0'))\n",
    "bottom_corner = float(label.attr('y0'))\n",
    "name = pdf.pq('LTTextLineHorizontal:in_bbox(\"%s, %s, %s, %s\")'%(left_corner, bottom_corner-20, left_corner+250, bottom_corner)).text()\n",
    "name"
   ]
  },
  {
   "cell_type": "code",
   "execution_count": 44,
   "metadata": {},
   "outputs": [
    {
     "data": {
      "text/plain": [
       "'mukulv11@gmail.com'"
      ]
     },
     "execution_count": 44,
     "metadata": {},
     "output_type": "execute_result"
    }
   ],
   "source": [
    "pdf.load(5)\n",
    "label = pdf.pq('LTTextLineHorizontal:contains(\"Editable Details\")')\n",
    "label.text()\n",
    "lc = float(label.attr('x0'))\n",
    "bc = float(label.attr('y0'))\n",
    "email = pdf.pq('LTTextLineHorizontal:overlaps_bbox(\"%s, %s, %s, %s\")'%(lc+100, bc-20, lc+260, bc)).text()\n",
    "email"
   ]
  },
  {
   "cell_type": "code",
   "execution_count": 45,
   "metadata": {},
   "outputs": [
    {
     "data": {
      "text/plain": [
       "'8292003625'"
      ]
     },
     "execution_count": 45,
     "metadata": {},
     "output_type": "execute_result"
    }
   ],
   "source": [
    "mobile = email = pdf.pq('LTTextLineHorizontal:in_bbox(\"%s, %s, %s, %s\")'%(lc+20, bc-40, lc+300, bc-20)).text()\n",
    "mobile"
   ]
  },
  {
   "cell_type": "code",
   "execution_count": 48,
   "metadata": {},
   "outputs": [
    {
     "data": {
      "text/plain": [
       "'Electrical Engineering Electrical Engineering'"
      ]
     },
     "execution_count": 48,
     "metadata": {},
     "output_type": "execute_result"
    }
   ],
   "source": [
    "label = pdf.pq('LTTextLineHorizontal:contains(\"Bank Details\")')\n",
    "label.text()\n",
    "lc = float(label.attr('x0'))\n",
    "bc = float(label.attr('y0'))\n",
    "branch = pdf.pq('LTTextLineHorizontal:in_bbox(\"%s, %s, %s, %s\")'%(lc+20, bc+20, lc+250, bc+70)).text()\n",
    "branch"
   ]
  },
  {
   "cell_type": "code",
   "execution_count": null,
   "metadata": {},
   "outputs": [],
   "source": [
    "import pandas as pd\n",
    "df = pd.DataFrame()\n",
    "data = dict()\n",
    "data['Name'] = []\n",
    "data['Email'] = []\n",
    "data['Mobile'] = []\n",
    "data['Branch'] = []\n",
    "pdf = pdfquery.PDFQuery('Merged0101.pdf')\n",
    "def scrape(pg):\n",
    "    pdf.load(pg)\n",
    "    label = pdf.pq('LTTextLineHorizontal:contains(\"Personal Details\")')\n",
    "    left_corner = float(label.attr('x0'))\n",
    "    bottom_corner = float(label.attr('y0'))\n",
    "    name = pdf.pq('LTTextLineHorizontal:in_bbox(\"%s, %s, %s, %s\")'%(left_corner, bottom_corner-20, left_corner+250, bottom_corner)).text()\n",
    "#     name\n",
    "    data['Name'].append(name)\n",
    "    pdf.load(pg+1)\n",
    "    label = pdf.pq('LTTextLineHorizontal:contains(\"Editable Details\")')\n",
    "    label.text()\n",
    "    lc = float(label.attr('x0'))\n",
    "    bc = float(label.attr('y0'))\n",
    "    email = pdf.pq('LTTextLineHorizontal:overlaps_bbox(\"%s, %s, %s, %s\")'%(lc+100, bc-20, lc+260, bc)).text()\n",
    "    data['Email'].append(email)\n",
    "    mobile = email = pdf.pq('LTTextLineHorizontal:in_bbox(\"%s, %s, %s, %s\")'%(lc+20, bc-40, lc+300, bc-20)).text()\n",
    "    data['Mobile'].append(mobile)\n",
    "    label = pdf.pq('LTTextLineHorizontal:contains(\"Bank Details\")')\n",
    "#     label.text()\n",
    "    lc = float(label.attr('x0'))\n",
    "    bc = float(label.attr('y0'))\n",
    "    branch = pdf.pq('LTTextLineHorizontal:overlaps_bbox(\"%s, %s, %s, %s\")'%(lc+100, bc+20, lc+250, bc+50)).text()\n",
    "    data['Branch'].append(branch)\n",
    "#     print(data)\n",
    "    \n",
    "for i in range(0, 11, 2):\n",
    "    print(i)\n",
    "    scrape(i)\n",
    "    \n",
    "data"
   ]
  },
  {
   "cell_type": "code",
   "execution_count": null,
   "metadata": {
    "collapsed": true
   },
   "outputs": [],
   "source": [
    "df = pd.DataFrame(data)"
   ]
  },
  {
   "cell_type": "code",
   "execution_count": null,
   "metadata": {},
   "outputs": [],
   "source": [
    "df"
   ]
  },
  {
   "cell_type": "code",
   "execution_count": null,
   "metadata": {
    "collapsed": true
   },
   "outputs": [],
   "source": []
  }
 ],
 "metadata": {
  "kernelspec": {
   "display_name": "Python 3",
   "language": "python",
   "name": "python3"
  },
  "language_info": {
   "codemirror_mode": {
    "name": "ipython",
    "version": 3
   },
   "file_extension": ".py",
   "mimetype": "text/x-python",
   "name": "python",
   "nbconvert_exporter": "python",
   "pygments_lexer": "ipython3",
   "version": "3.6.1"
  }
 },
 "nbformat": 4,
 "nbformat_minor": 2
}
