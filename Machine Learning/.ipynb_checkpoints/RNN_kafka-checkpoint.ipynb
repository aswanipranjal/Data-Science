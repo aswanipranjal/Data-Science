{
 "cells": [
  {
   "cell_type": "code",
   "execution_count": 4,
   "metadata": {},
   "outputs": [
    {
     "data": {
      "text/plain": [
       "8563"
      ]
     },
     "execution_count": 4,
     "metadata": {},
     "output_type": "execute_result"
    }
   ],
   "source": [
    "# data = open('kafka.txt',  'r').read()\n",
    "# Temporarily opening 'potha.txt'\n",
    "data = open('potha.txt', 'r').read()\n",
    "\n",
    "chars = list(set(data))\n",
    "data_size, vocab_size = len(data), len(chars)\n",
    "data_size"
   ]
  },
  {
   "cell_type": "code",
   "execution_count": 5,
   "metadata": {},
   "outputs": [
    {
     "data": {
      "text/plain": [
       "44"
      ]
     },
     "execution_count": 5,
     "metadata": {},
     "output_type": "execute_result"
    }
   ],
   "source": [
    "vocab_size"
   ]
  },
  {
   "cell_type": "code",
   "execution_count": 7,
   "metadata": {},
   "outputs": [
    {
     "name": "stdout",
     "output_type": "stream",
     "text": [
      "{'s': 0, '(': 1, 'S': 2, 'z': 3, '-': 4, 'p': 5, 'd': 6, 'x': 7, 'f': 8, '.': 9, ',': 10, \"'\": 11, 'n': 12, '\\n': 13, 'q': 14, 'I': 15, 'G': 16, 'k': 17, 'j': 18, 'y': 19, 'A': 20, 'u': 21, ' ': 22, 'M': 23, 'h': 24, 'b': 25, 't': 26, 'a': 27, 'r': 28, 'T': 29, 'R': 30, 'l': 31, ')': 32, 'E': 33, 'm': 34, 'c': 35, 'g': 36, 'w': 37, 'e': 38, 'O': 39, 'o': 40, 'i': 41, 'D': 42, 'v': 43}\n",
      "{0: 's', 1: '(', 2: 'S', 3: 'z', 4: '-', 5: 'p', 6: 'd', 7: 'x', 8: 'f', 9: '.', 10: ',', 11: \"'\", 12: 'n', 13: '\\n', 14: 'q', 15: 'I', 16: 'G', 17: 'k', 18: 'j', 19: 'y', 20: 'A', 21: 'u', 22: ' ', 23: 'M', 24: 'h', 25: 'b', 26: 't', 27: 'a', 28: 'r', 29: 'T', 30: 'R', 31: 'l', 32: ')', 33: 'E', 34: 'm', 35: 'c', 36: 'g', 37: 'w', 38: 'e', 39: 'O', 40: 'o', 41: 'i', 42: 'D', 43: 'v'}\n"
     ]
    }
   ],
   "source": [
    "char_to_ix = {ch:i for i, ch in enumerate(chars)}\n",
    "ix_to_char = {i:ch for i, ch in enumerate(chars)}\n",
    "print(char_to_ix)\n",
    "print(ix_to_char)"
   ]
  },
  {
   "cell_type": "code",
   "execution_count": 9,
   "metadata": {},
   "outputs": [
    {
     "name": "stdout",
     "output_type": "stream",
     "text": [
      "[ 0.  0.  0.  0.  0.  0.  0.  0.  0.  0.  0.  0.  0.  0.  0.  0.  0.  0.\n",
      "  0.  0.  0.  0.  0.  0.  0.  0.  0.  1.  0.  0.  0.  0.  0.  0.  0.  0.\n",
      "  0.  0.  0.  0.  0.  0.  0.  0.]\n"
     ]
    }
   ],
   "source": [
    "import numpy as np\n",
    "vector_for_char_a = np.zeros((vocab_size, 1))\n",
    "vector_for_char_a[char_to_ix['a']] = 1\n",
    "print(vector_for_char_a.ravel())"
   ]
  },
  {
   "cell_type": "markdown",
   "metadata": {},
   "source": [
    "## Define the network"
   ]
  },
  {
   "cell_type": "code",
   "execution_count": 10,
   "metadata": {
    "collapsed": true
   },
   "outputs": [],
   "source": [
    "# hyperparameters\n",
    "hidden_size = 100\n",
    "seq_length = 25\n",
    "learning_rate = 1e-1"
   ]
  },
  {
   "cell_type": "code",
   "execution_count": 11,
   "metadata": {
    "collapsed": true
   },
   "outputs": [],
   "source": [
    "# model parameters\n",
    "wxh = np.random.randn(hidden_size, vocab_size) * 0.01 # input to hidden state\n",
    "whh = np.random.randn(hidden_size, hidden_size) * 0.01 # hidden state to next hidden state\n",
    "why = np.random.randn(vocab_size, hidden_size) * 0.01 # hidden state to output state\n",
    "bh = np.zeros((hidden_size, 1)) # hidden bias\n",
    "by = np.zeros((vocab_size, 1)) # output bias"
   ]
  },
  {
   "cell_type": "code",
   "execution_count": 12,
   "metadata": {
    "collapsed": true
   },
   "outputs": [],
   "source": [
    "def loss_function(inputs, targets, hprev):\n",
    "    xs, hs, ys, ps = {}, {}, {}, {}\n",
    "    # xs stores the one-hot encoded values of the input characters for each of the 25 time steps\n",
    "    # hs stores the hidden state ouptuts\n",
    "    # ys stores the target values\n",
    "    # ps stores the outputs of ys and converts them to normalized probabilities for chars\n",
    "    hs[-1] = np.copy(hprev)\n",
    "    # init loss\n",
    "    loss = 0\n",
    "    \n",
    "    # forward pass\n",
    "    for t in range(len(inputs)):\n",
    "        xs[t] = np.zeros((vocab_size, 1))\n",
    "        xs[t][inputs[t]] = 1 # inside that t-th input we use\n",
    "        hs[t] = np.tanh(np.dot(wxh, xs[t]) + np.dot(whh, hs[t-1]))\n",
    "        ys[t] = np.dot(why, hs[t]) + by\n",
    "        ps[t] = np.exp(ys[t]) / np.sum(np.exp(ys[t]))\n",
    "        loss += -np.log(ps[t][targets[t], 0]) # softmax cross-entropy function\n",
    "        \n",
    "    # backward pass\n",
    "    dwxh, dwhh, dwhy = np.zeros_like(wxh), np.zeros_like(whh), np.zeros_like(why)\n",
    "    dbh, dby = np.zeros_like(bh), np.zeros_like(by)\n",
    "    dhnext = np.zeros_like(hs[0])\n",
    "    \n",
    "    for t in reversed(range(len(inputs))):\n",
    "        # output probabilities\n",
    "        dy = np.copy(ps[t])\n",
    "        # derive our first gradient\n",
    "        dy[targets[t]] -= 1 # backprop into y\n",
    "        # compute output gradient - output times hidden states transpose\n",
    "        dwhy += np.dot(dy, hs[t].T)\n",
    "        # derivative of output bias\n",
    "        dby += dy\n",
    "        # backpropagation\n",
    "        dh = np.dot(why.T, dy) + dhnext      # backpropagate into h\n",
    "        dhraw = (1 - hs[t] * hs[t]) * dh     # backpropagate througn tanh\n",
    "        dbh += dhraw                         # derivative of hidden bias\n",
    "        dwxh += np.dot(dhraw, xs[t].T)       # derivative of input layer to the hidden layer\n",
    "        dwhh += np.dot(dhraw, hs[t-1].T)     # derivative of hidden layer to the hidden layer\n",
    "        dhnext = np.dot(whh.T, dhraw)\n",
    "        \n",
    "    for dparam in [dwxh, dwhh, dwhy, dbh, dby]:\n",
    "        np.clip(dparam, -5, 5, out=dparam)   # clip to mitigate exploding gradients\n",
    "        \n",
    "    return loss, swxh, dwhh, dwhy, dbh, dby, hs[len(inputs)-1]"
   ]
  },
  {
   "cell_type": "code",
   "execution_count": null,
   "metadata": {
    "collapsed": true
   },
   "outputs": [],
   "source": []
  }
 ],
 "metadata": {
  "kernelspec": {
   "display_name": "Python 3",
   "language": "python",
   "name": "python3"
  },
  "language_info": {
   "codemirror_mode": {
    "name": "ipython",
    "version": 3
   },
   "file_extension": ".py",
   "mimetype": "text/x-python",
   "name": "python",
   "nbconvert_exporter": "python",
   "pygments_lexer": "ipython3",
   "version": "3.6.1"
  }
 },
 "nbformat": 4,
 "nbformat_minor": 2
}
