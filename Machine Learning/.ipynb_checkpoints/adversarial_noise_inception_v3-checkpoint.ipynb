{
 "cells": [
  {
   "cell_type": "code",
   "execution_count": 1,
   "metadata": {
    "collapsed": true
   },
   "outputs": [],
   "source": [
    "%matplotlib inline\n",
    "import matplotlib.pyplot as plt\n",
    "import tensorflow as tf\n",
    "import numpy as np\n",
    "import os\n",
    "\n",
    "import inception"
   ]
  },
  {
   "cell_type": "code",
   "execution_count": 2,
   "metadata": {},
   "outputs": [
    {
     "data": {
      "text/plain": [
       "'1.1.0'"
      ]
     },
     "execution_count": 2,
     "metadata": {},
     "output_type": "execute_result"
    }
   ],
   "source": [
    "tf.__version__"
   ]
  },
  {
   "cell_type": "code",
   "execution_count": 4,
   "metadata": {},
   "outputs": [
    {
     "name": "stdout",
     "output_type": "stream",
     "text": [
      "Downloading Inception v3 Model ...\n",
      "Data has apparently already been downloaded and unpacked.\n"
     ]
    }
   ],
   "source": [
    "inception.data_dir = 'C:/Users/Aman Deep Singh/Documents/Python/Data/Inception v3/inception/'\n",
    "inception.maybe_download()"
   ]
  },
  {
   "cell_type": "code",
   "execution_count": 5,
   "metadata": {
    "collapsed": true
   },
   "outputs": [],
   "source": [
    "model = inception.Inception()"
   ]
  },
  {
   "cell_type": "code",
   "execution_count": 7,
   "metadata": {
    "collapsed": true
   },
   "outputs": [],
   "source": [
    "resized_image = model.resized_image\n",
    "y_pred = model.y_pred\n",
    "y_logits = model.y_logits"
   ]
  },
  {
   "cell_type": "code",
   "execution_count": 8,
   "metadata": {
    "collapsed": true
   },
   "outputs": [],
   "source": [
    "with model.graph.as_default():\n",
    "    pl_cls_target = tf.placeholder(dtype=tf.int32)\n",
    "    loss = tf.nn.sparse_softmax_cross_entropy_with_logits(logits=y_logits, labels=[pl_cls_target])\n",
    "    gradient = tf.gradients(loss, resized_image)"
   ]
  },
  {
   "cell_type": "code",
   "execution_count": 9,
   "metadata": {
    "collapsed": true
   },
   "outputs": [],
   "source": [
    "session = tf.Session(graph=model.graph)"
   ]
  },
  {
   "cell_type": "code",
   "execution_count": 10,
   "metadata": {
    "collapsed": true
   },
   "outputs": [],
   "source": [
    "def find_adversary_noise(image_path, cls_target, noise_limit=3.0, required_score=0.99, max_iterations=100):\n",
    "    feed_dict = model._create_feed_dict(image_path=image_path)\n",
    "    pred, image = session.run([y_pred, resized_image], feed_dict=feed_dict)\n",
    "    pred = np.squeeze(pred)\n",
    "    cls_source = np.argmax(pred)\n",
    "    score_source_org = pred.max()\n",
    "    name_source = model.name_lookup.cls_to_name(cls_source, only_first_name=True)\n",
    "    name_target = model.name_lookup.cls_to_name(cls_target, only_first_name=True)\n",
    "    \n",
    "    noise = 0\n",
    "    for i in range(max_iterations):\n",
    "        print('Iteration: ', i)\n",
    "        noisy_image = image + noise\n",
    "        noisy_image = np.clip(a=noisy_image, a_min=0.0, a_max=255.0)\n",
    "        feed_dict = {model.tensor_name_resized_image: noisy_image,\n",
    "                     pl_cls_target: cls_target}\n",
    "        pred, grad = session.run([y_pred, gradient], feed_dict=feed_dict)\n",
    "        pred = np.squeeze(pred)\n",
    "        score_source = pred[cls_source]\n",
    "        score_target = pred[cls_target]\n",
    "        grad = np.array(grad).squeeze()\n",
    "        grad_absmax = np.abs(grad).max()\n",
    "        \n",
    "        if grad_absmax < 1e-10:\n",
    "            grad_absmax = 1e-10\n",
    "            \n",
    "        step_size = 7 / grad_absmax\n",
    "\n",
    "        # Print the score etc. for the source-class.\n",
    "        msg = \"Source score: {0:>7.2%}, class-number: {1:>4}, class-name: {2}\"\n",
    "        print(msg.format(score_source, cls_source, name_source))\n",
    "\n",
    "        # Print the score etc. for the target-class.\n",
    "        msg = \"Target score: {0:>7.2%}, class-number: {1:>4}, class-name: {2}\"\n",
    "        print(msg.format(score_target, cls_target, name_target))\n",
    "\n",
    "        # Print statistics for the gradient.\n",
    "        msg = \"Gradient min: {0:>9.6f}, max: {1:>9.6f}, stepsize: {2:>9.2f}\"\n",
    "        print(msg.format(grad.min(), grad.max(), step_size))\n",
    "\n",
    "        # Newline.\n",
    "        print()\n",
    "        \n",
    "        if score_target < required_score:\n",
    "            noise -= step_size * grad\n",
    "            noise = np.clip(a=noise, a_min=-noise_limit, a_max=noise_limit)\n",
    "        else:\n",
    "            break\n",
    "            \n",
    "    return image.squeeze(), noisy_image.squeeze(), noise, name_source, name_target, score_source, score_source_org, score_target"
   ]
  },
  {
   "cell_type": "code",
   "execution_count": 11,
   "metadata": {
    "collapsed": true
   },
   "outputs": [],
   "source": [
    "def normalize_image(x):\n",
    "    x_min = x.min()\n",
    "    x_max = x.max()\n",
    "    x_norm = (x - x_min) / (x_max - x_min)\n",
    "    return x_norm"
   ]
  },
  {
   "cell_type": "code",
   "execution_count": 12,
   "metadata": {
    "collapsed": true
   },
   "outputs": [],
   "source": [
    "def plot_images(image, noise, noisy_image, name_source, name_target, score_source, score_source_org, score_target):\n",
    "    \"\"\"\n",
    "    Plot the image, the noisy image and the noise.\n",
    "    Also shows the class-names and scores.\n",
    "\n",
    "    Note that the noise is amplified to use the full range of\n",
    "    colours, otherwise if the noise is very low it would be\n",
    "    hard to see.\n",
    "\n",
    "    image: Original input image.\n",
    "    noise: Noise that has been added to the image.\n",
    "    noisy_image: Input image + noise.\n",
    "    name_source: Name of the source-class.\n",
    "    name_target: Name of the target-class.\n",
    "    score_source: Score for the source-class.\n",
    "    score_source_org: Original score for the source-class.\n",
    "    score_target: Score for the target-class.\n",
    "    \"\"\"\n",
    "    \n",
    "    # Create figure with sub-plots.\n",
    "    fig, axes = plt.subplots(1, 3, figsize=(10,10))\n",
    "\n",
    "    # Adjust vertical spacing.\n",
    "    fig.subplots_adjust(hspace=0.1, wspace=0.1)\n",
    "\n",
    "    # Use interpolation to smooth pixels?\n",
    "    smooth = True\n",
    "    \n",
    "    # Interpolation type.\n",
    "    if smooth:\n",
    "        interpolation = 'spline16'\n",
    "    else:\n",
    "        interpolation = 'nearest'\n",
    "\n",
    "    # Plot the original image.\n",
    "    # Note that the pixel-values are normalized to the [0.0, 1.0]\n",
    "    # range by dividing with 255.\n",
    "    ax = axes.flat[0]\n",
    "    ax.imshow(image / 255.0, interpolation=interpolation)\n",
    "    msg = \"Original Image:\\n{0} ({1:.2%})\"\n",
    "    xlabel = msg.format(name_source, score_source_org)\n",
    "    ax.set_xlabel(xlabel)\n",
    "\n",
    "    # Plot the noisy image.\n",
    "    ax = axes.flat[1]\n",
    "    ax.imshow(noisy_image / 255.0, interpolation=interpolation)\n",
    "    msg = \"Image + Noise:\\n{0} ({1:.2%})\\n{2} ({3:.2%})\"\n",
    "    xlabel = msg.format(name_source, score_source, name_target, score_target)\n",
    "    ax.set_xlabel(xlabel)\n",
    "\n",
    "    # Plot the noise.\n",
    "    # The colours are amplified otherwise they would be hard to see.\n",
    "    ax = axes.flat[2]\n",
    "    ax.imshow(normalize_image(noise), interpolation=interpolation)\n",
    "    xlabel = \"Amplified Noise\"\n",
    "    ax.set_xlabel(xlabel)\n",
    "\n",
    "    # Remove ticks from all the plots.\n",
    "    for ax in axes.flat:\n",
    "        ax.set_xticks([])\n",
    "        ax.set_yticks([])\n",
    "    \n",
    "    # Ensure the plot is shown correctly with multiple plots\n",
    "    # in a single Notebook cell.\n",
    "    plt.show()"
   ]
  },
  {
   "cell_type": "code",
   "execution_count": 13,
   "metadata": {
    "collapsed": true
   },
   "outputs": [],
   "source": [
    "def adversary_example(image_path, cls_target,\n",
    "                      noise_limit, required_score):\n",
    "    \"\"\"\n",
    "    Find and plot adversarial noise for the given image.\n",
    "    \n",
    "    image_path: File-path to the input-image (must be *.jpg).\n",
    "    cls_target: Target class-number (integer between 1-1000).\n",
    "    noise_limit: Limit for pixel-values in the noise.\n",
    "    required_score: Stop when target-class score reaches this.\n",
    "    \"\"\"\n",
    "\n",
    "    # Find the adversarial noise.\n",
    "    image, noisy_image, noise, name_source, name_target, score_source, score_source_org, score_target = find_adversary_noise(image_path=image_path,\n",
    "                                                                                                                             cls_target=cls_target,\n",
    "                                                                                                                             noise_limit=noise_limit,\n",
    "                                                                                                                             required_score=required_score)\n",
    "\n",
    "    # Plot the image and the noise.\n",
    "    plot_images(image=image, noise=noise, noisy_image=noisy_image,\n",
    "                name_source=name_source, name_target=name_target,\n",
    "                score_source=score_source,\n",
    "                score_source_org=score_source_org,\n",
    "                score_target=score_target)\n",
    "\n",
    "    # Print some statistics for the noise.\n",
    "    msg = \"Noise min: {0:.3f}, max: {1:.3f}, mean: {2:.3f}, std: {3:.3f}\"\n",
    "    print(msg.format(noise.min(), noise.max(),\n",
    "                     noise.mean(), noise.std()))"
   ]
  },
  {
   "cell_type": "code",
   "execution_count": 14,
   "metadata": {
    "collapsed": true
   },
   "outputs": [],
   "source": [
    "image_path = 'C:/Users/Aman Deep Singh/Documents/Python/Data/Inception v3/inception/images/parrot_cropped1.jpg'"
   ]
  },
  {
   "cell_type": "code",
   "execution_count": null,
   "metadata": {
    "collapsed": true
   },
   "outputs": [],
   "source": [
    "adversary_example(image_path=image_path,\n",
    "                  cls_target=300,\n",
    "                  noise_limit=3.0,\n",
    "                  required_score=0.99)"
   ]
  }
 ],
 "metadata": {
  "kernelspec": {
   "display_name": "Python 3",
   "language": "python",
   "name": "python3"
  },
  "language_info": {
   "codemirror_mode": {
    "name": "ipython",
    "version": 3
   },
   "file_extension": ".py",
   "mimetype": "text/x-python",
   "name": "python",
   "nbconvert_exporter": "python",
   "pygments_lexer": "ipython3",
   "version": "3.6.1"
  }
 },
 "nbformat": 4,
 "nbformat_minor": 2
}
