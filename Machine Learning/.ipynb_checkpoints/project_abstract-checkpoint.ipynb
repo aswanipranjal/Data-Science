{
 "cells": [
  {
   "cell_type": "markdown",
   "metadata": {},
   "source": [
    "<h1> Autonomous remote controlled car\n",
    "---\n",
    "(Abstract)\n",
    "(Pipeline)\n",
    "    (Data Collection)\n",
    "    (Preprocessing)\n",
    "    (Sequence)\n",
    "    (Training)\n",
    "    (Hardware limitations/GPU support)\n",
    "    (Post procesing)\n",
    "    (Inference)\n",
    "    (Online Learning / Q-Learning)\n",
    "    (Further improvements if successful)\n",
    "(Error Handling)\n",
    "(Alternatives)\n",
    "\n",
    "<h2> The idea\n",
    "The project aims to modify a pre-built remote controlled car into a full fledged autonomous car with monocular vision capable of driving itself to a given destination safely and intelligently avoiding obstacles"
   ]
  }
 ],
 "metadata": {
  "kernelspec": {
   "display_name": "Python 3",
   "language": "python",
   "name": "python3"
  },
  "language_info": {
   "codemirror_mode": {
    "name": "ipython",
    "version": 3
   },
   "file_extension": ".py",
   "mimetype": "text/x-python",
   "name": "python",
   "nbconvert_exporter": "python",
   "pygments_lexer": "ipython3",
   "version": "3.6.1"
  }
 },
 "nbformat": 4,
 "nbformat_minor": 2
}
