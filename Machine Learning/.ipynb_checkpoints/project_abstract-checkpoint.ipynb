{
 "cells": [
  {
   "cell_type": "markdown",
   "metadata": {},
   "source": [
    "<h1> Autonomous remote controlled car\n",
    "---\n",
    "(Abstract)\n",
    "(Pipeline)\n",
    "    (Data Collection)\n",
    "    (Preprocessing)\n",
    "    (Sequence)\n",
    "    (Training)\n",
    "    (Hardware limitations/GPU support)\n",
    "    (Post procesing)\n",
    "    (Inference)\n",
    "    (Online Learning / Q-Learning)\n",
    "    (Further improvements if successful)\n",
    "(Error Handling)\n",
    "(Alternatives)\n",
    "\n",
    "<h2> The Idea\n",
    "The project aims to modify a pre-built remote controlled car into a full fledged autonomous car with monocular vision capable of driving itself to a given destination safely and intelligently avoiding obstacles and minimizing the risk involved. The project uses multiple convolutional neural networks to analyse the environment and predict the direction ---?"
   ]
  },
  {
   "cell_type": "markdown",
   "metadata": {},
   "source": [
    "<h2> How we plan to do it </h2>\n"
   ]
  },
  {
   "cell_type": "markdown",
   "metadata": {},
   "source": [
    "<h2> Workflow </h2>\n",
    "---\n",
    "The workflow involves three major steps\n",
    "1. Establishing a connection\n",
    "    \n",
    "2. Testing in a simulated environment\n",
    "    \n",
    "3. Integration"
   ]
  },
  {
   "cell_type": "markdown",
   "metadata": {},
   "source": [
    "<h2> Tech we use </h2>\n",
    "<h3> Software </h3>\n",
    "Python will be primarily used or creating, training and testing the neural networks\n",
    "The following existing python libraries will be used:\n",
    "1. OpenCV\n",
    "OpenCV is an image recognition and computer vision library made in C++, but we will use a Python wrapper for it to make things simpler. Edge detection and interpolation algorithms will be used to detect lanes and edges and preprocess images for the convolutional neural network. OpenCV will also be used to reduce the dimensionality of the dataset. Camera input will be scaled down to a manageable number of pixels. The neural networks will not benefit from RGB images as we are using them to detect shapes and obstacles, so the input images will be converted to grayscale from RGB to reduce the size of the dataset by three times.\n",
    "2. NumPy\n",
    "NumPy is a high performance numerical computation and linear algebra library built in C++. We will use this for matrix multiplications and speeding up computations in the preprocessing phase as NumPy arrays are substantially faster than native Python lists"
   ]
  }
 ],
 "metadata": {
  "kernelspec": {
   "display_name": "Python 3",
   "language": "python",
   "name": "python3"
  },
  "language_info": {
   "codemirror_mode": {
    "name": "ipython",
    "version": 3
   },
   "file_extension": ".py",
   "mimetype": "text/x-python",
   "name": "python",
   "nbconvert_exporter": "python",
   "pygments_lexer": "ipython3",
   "version": "3.6.1"
  }
 },
 "nbformat": 4,
 "nbformat_minor": 2
}
