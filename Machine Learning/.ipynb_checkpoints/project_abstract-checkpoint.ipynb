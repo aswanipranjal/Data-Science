{
 "cells": [
  {
   "cell_type": "markdown",
   "metadata": {},
   "source": [
    "<h1> Autonomous remote controlled car\n",
    "---\n",
    "(Abstract)\n",
    "(Pipeline)\n",
    "    (Data Collection)\n",
    "    (Preprocessing PCA, )\n",
    "    (Sequence)\n",
    "    (Training)\n",
    "    (Hardware limitations/GPU support)\n",
    "    (Post procesing)\n",
    "    (Inference)\n",
    "    (Online Learning / Q-Learning)\n",
    "    (Further improvements if successful)\n",
    "(Error Handling)\n",
    "(Alternatives)\n",
    "\n",
    "<h2> The Idea\n",
    "The project aims to modify a pre-built remote controlled car into a full fledged autonomous car with monocular vision capable of driving itself to a given destination safely and intelligently avoiding obstacles and minimizing the risk involved. The project uses multiple convolutional neural networks to analyse the environment and predict the direction ---?"
   ]
  },
  {
   "cell_type": "markdown",
   "metadata": {},
   "source": [
    "<h2> How we plan to do it </h2>\n"
   ]
  },
  {
   "cell_type": "markdown",
   "metadata": {},
   "source": [
    "<h2> Workflow </h2>\n",
    "---\n",
    "The workflow involves three major steps\n",
    "1. Establishing a connection\n",
    "    \n",
    "2. Creating the model\n",
    "After the hardware has been set up, we will set up the environment. Two different kinds of environments will be created. The first one will be an artificial environment where lane markers will be set up for the car to drive along. There will be traffic lights or 'Stop' signs where the car will be expected to stop until the light turns green. Obstacles will be set up along the path to simulate real world hindrances which the car will meander around after it is fully trained. The second environment will be the open world where there will be no lane markers or signs. The car will be given a destination or a general direction in which it should travel without colliding into obstacles. We will work on the first environment first. \n",
    "The machine learning pipeline will be as follows:\n",
    "a. Collecting data\n",
    "Once we have built the environment, the camera will be fit onto the car and it will be run on the track several times to collect training data as images and their corresponding labels (the keypresses or direction in that particular frame). \n",
    "b. Preprocessing\n",
    "This training data will then be downsampled using OpenCV to a manageable number of pixels (say 60 x 80). The convolutional neural networks will not benefit from RGB images, so they will be converted to grayscale images to reduce dimensionality by three times. For the first attempt, basic sobel edge detection will be used to detect lanes and these processed images will be fed into the convolutional neural networks. If we get decent processing cycles (processing images atleast at 30Hz) we will continue with this approach. Otherwise, we will drop the edge detection algorithm as it is a costly process and feed the raw input images into the neural networks. If we still don't get decent feed rates, we will apply PCA (Principal Component Analysis) to the entire training dataset and try to reduce the dimensionality of the dataset and see if we get better results. For this, we will use the Scikit-learn library. Overall, we want to minimize the dimensions of the training set and also minimize the number of operations we do to preprocess the dataset, because we will also have to do the exact same operations on the test set in real time when we are testing our model. We would ideally like to keep the framerate within the 20-25fps range. Anything below 15fps will be pretty much useless.\n",
    "c. Creating the model\n",
    "\n",
    "\n",
    "2b. Testing in a simulated environment\n",
    "    \n",
    "3. Integration"
   ]
  },
  {
   "cell_type": "markdown",
   "metadata": {},
   "source": [
    "<h2> Tech we use </h2>\n",
    "<h3> Software </h3>\n",
    "Python will be primarily used or creating, training and testing the neural networks\n",
    "The following existing python libraries will be used:\n",
    "1. Tensorflow\n",
    "Tensorflow is an open source machine learning library by Google and most of the work will be done using this framework. It has a programmatic approach, contrasting the scripting approach of Python in general, that is, the code is not read line by line, but instead a computation graph is created and the entire model is run all at once. This approach of Tensorflow allows it to deliver very high performance which is invaluable for machine learning applications. An ensemble of convolutional neural networks will be created and trained on the collected image dataset and outputs of all of them will be weighted and the final output will be computed as a majority voting system\n",
    "1. OpenCV\n",
    "OpenCV is an image recognition and computer vision library made in C++, but we will use a Python wrapper for it to make things simpler. Edge detection and interpolation algorithms will be used to detect lanes and edges and preprocess images for the convolutional neural network. OpenCV will also be used to reduce the dimensionality of the dataset. Camera input will be scaled down to a manageable number of pixels. The neural networks will not benefit from RGB images as we are using them to detect shapes and obstacles, so the input images will be converted to grayscale from RGB to reduce the size of the dataset by three times.\n",
    "2. NumPy\n",
    "NumPy is a high performance numerical computation and linear algebra library built in C++. We will use this for matrix multiplications and speeding up computations in the preprocessing phase as NumPy arrays are substantially faster than native Python lists\n",
    "3. Pandas\n",
    "Pandas is a data analysis library which will be used only in the preprocessing phase to analyse possibilities and aspects which we might improve in."
   ]
  }
 ],
 "metadata": {
  "kernelspec": {
   "display_name": "Python 3",
   "language": "python",
   "name": "python3"
  },
  "language_info": {
   "codemirror_mode": {
    "name": "ipython",
    "version": 3
   },
   "file_extension": ".py",
   "mimetype": "text/x-python",
   "name": "python",
   "nbconvert_exporter": "python",
   "pygments_lexer": "ipython3",
   "version": "3.6.1"
  }
 },
 "nbformat": 4,
 "nbformat_minor": 2
}
