{
 "cells": [
  {
   "cell_type": "code",
   "execution_count": 3,
   "metadata": {},
   "outputs": [],
   "source": [
    "%matplotlib inline\n",
    "import matplotlib.pyplot as plt\n",
    "import tensorflow as tf\n",
    "import numpy as np\n",
    "import time\n",
    "from datetime import timedelta\n",
    "import os\n",
    "\n",
    "import inception\n",
    "\n",
    "import prettytensor as pt"
   ]
  },
  {
   "cell_type": "code",
   "execution_count": 5,
   "metadata": {},
   "outputs": [],
   "source": [
    "import cifar10"
   ]
  },
  {
   "cell_type": "code",
   "execution_count": 6,
   "metadata": {
    "collapsed": true
   },
   "outputs": [],
   "source": [
    "from cifar10 import num_classes"
   ]
  },
  {
   "cell_type": "code",
   "execution_count": 9,
   "metadata": {
    "collapsed": true
   },
   "outputs": [],
   "source": [
    "# Reuse existing data in 'Practical ML' (abandoned) repository\n",
    "cifar10.data_path = \"C:/Users/Aman Deep Singh/Documents/Python/Practical ML/data/CIFAR-10\""
   ]
  },
  {
   "cell_type": "code",
   "execution_count": 10,
   "metadata": {},
   "outputs": [
    {
     "name": "stdout",
     "output_type": "stream",
     "text": [
      "Data has apparently already been downloaded and unpacked.\n"
     ]
    }
   ],
   "source": [
    "cifar10.maybe_download_and_extract()"
   ]
  },
  {
   "cell_type": "code",
   "execution_count": 11,
   "metadata": {},
   "outputs": [
    {
     "name": "stdout",
     "output_type": "stream",
     "text": [
      "Loading data: C:/Users/Aman Deep Singh/Documents/Python/Practical ML/data/CIFAR-10\\cifar-10-batches-py/batches.meta\n"
     ]
    },
    {
     "data": {
      "text/plain": [
       "['airplane',\n",
       " 'automobile',\n",
       " 'bird',\n",
       " 'cat',\n",
       " 'deer',\n",
       " 'dog',\n",
       " 'frog',\n",
       " 'horse',\n",
       " 'ship',\n",
       " 'truck']"
      ]
     },
     "execution_count": 11,
     "metadata": {},
     "output_type": "execute_result"
    }
   ],
   "source": [
    "class_names = cifar10.load_class_names()\n",
    "class_names"
   ]
  },
  {
   "cell_type": "code",
   "execution_count": 12,
   "metadata": {},
   "outputs": [
    {
     "name": "stdout",
     "output_type": "stream",
     "text": [
      "Loading data: C:/Users/Aman Deep Singh/Documents/Python/Practical ML/data/CIFAR-10\\cifar-10-batches-py/data_batch_1\n",
      "Loading data: C:/Users/Aman Deep Singh/Documents/Python/Practical ML/data/CIFAR-10\\cifar-10-batches-py/data_batch_2\n",
      "Loading data: C:/Users/Aman Deep Singh/Documents/Python/Practical ML/data/CIFAR-10\\cifar-10-batches-py/data_batch_3\n",
      "Loading data: C:/Users/Aman Deep Singh/Documents/Python/Practical ML/data/CIFAR-10\\cifar-10-batches-py/data_batch_4\n",
      "Loading data: C:/Users/Aman Deep Singh/Documents/Python/Practical ML/data/CIFAR-10\\cifar-10-batches-py/data_batch_5\n"
     ]
    }
   ],
   "source": [
    "images_train, cls_train, labels_train = cifar10.load_training_data()"
   ]
  },
  {
   "cell_type": "code",
   "execution_count": 13,
   "metadata": {},
   "outputs": [
    {
     "name": "stdout",
     "output_type": "stream",
     "text": [
      "Loading data: C:/Users/Aman Deep Singh/Documents/Python/Practical ML/data/CIFAR-10\\cifar-10-batches-py/test_batch\n"
     ]
    }
   ],
   "source": [
    "images_test, cls_test, labels_test = cifar10.load_test_data()"
   ]
  },
  {
   "cell_type": "code",
   "execution_count": 14,
   "metadata": {},
   "outputs": [
    {
     "name": "stdout",
     "output_type": "stream",
     "text": [
      "Size of:\n",
      "-Training-set:\t\t50000\n",
      "-Test-set:\t\t10000\n"
     ]
    }
   ],
   "source": [
    "print('Size of:')\n",
    "print(f'-Training-set:\\t\\t{len(images_train)}')\n",
    "print(f'-Test-set:\\t\\t{len(images_test)}')"
   ]
  },
  {
   "cell_type": "code",
   "execution_count": null,
   "metadata": {
    "collapsed": true
   },
   "outputs": [],
   "source": [
    "def plot_images(images, cls_true, cls_pred=None, smooth=True):\n",
    "    assert len(images) == len(cls_true)\n",
    "    \n",
    "    fig, axes = plt.subplots(3, 3)\n",
    "    if cls_pred is None:\n",
    "        hspace = 0.3\n",
    "    else:\n",
    "        hspace = 0.6\n",
    "    fig.subplots_adjust(hspace=hspace, wspace=0.3)\n",
    "    \n",
    "    if smooth:\n",
    "        interpolation = 'spline16'\n",
    "    else:\n",
    "        interpolation = 'nearest'\n",
    "        \n",
    "    for i, ax in enumerate(axes.flat):\n",
    "        if i < len(images):\n",
    "            ax.imshow(images[i], interpolation=interpolation)\n",
    "            cls_true_name = class_names[cls_true[i]]\n",
    "            if cls_pred is None:\n",
    "                xlabel = f'True: {cls_true_name}'\n",
    "            else:\n",
    "                cls_pred_name = class_names[cls_pred[i]]\n",
    "                xlabel = f'True: {cls_true_name}\\nPred: {cls_pred_name}'\n",
    "            ax.set_xlabel(xlabel)\n",
    "        ax.set_xticks([])\n",
    "        ax.set_yticks([])\n",
    "    plt.show()"
   ]
  }
 ],
 "metadata": {
  "kernelspec": {
   "display_name": "Python 3",
   "language": "python",
   "name": "python3"
  },
  "language_info": {
   "codemirror_mode": {
    "name": "ipython",
    "version": 3
   },
   "file_extension": ".py",
   "mimetype": "text/x-python",
   "name": "python",
   "nbconvert_exporter": "python",
   "pygments_lexer": "ipython3",
   "version": "3.6.1"
  }
 },
 "nbformat": 4,
 "nbformat_minor": 2
}
