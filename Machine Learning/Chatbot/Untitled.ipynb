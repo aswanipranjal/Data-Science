{
 "cells": [
  {
   "cell_type": "code",
   "execution_count": 1,
   "metadata": {
    "collapsed": true
   },
   "outputs": [],
   "source": [
    "import sqlite3\n",
    "import json\n",
    "from datetime import datetime\n",
    "\n",
    "timeframe = '2009-07'"
   ]
  },
  {
   "cell_type": "code",
   "execution_count": 2,
   "metadata": {
    "collapsed": true
   },
   "outputs": [],
   "source": [
    "sql_transaction = []\n",
    "connection = sqlite3.connect('{}.db'.format(timeframe))\n",
    "c = connection.cursor()"
   ]
  },
  {
   "cell_type": "code",
   "execution_count": 4,
   "metadata": {},
   "outputs": [],
   "source": [
    "def create_table():\n",
    "    c.execute(\"\"\"CREATE TABLE IF NOT EXISTS parent_reply\n",
    "    (parent_id TEXT PRIMARY KEY, comment_id TEXT UNIQUE, parent TEXT, \n",
    "    comment TEXT, subreddit TEXT, unix INT, score INT)\"\"\")"
   ]
  },
  {
   "cell_type": "code",
   "execution_count": 7,
   "metadata": {
    "collapsed": true
   },
   "outputs": [],
   "source": [
    "def format_data(data):\n",
    "    data = data.replace(\"\\n\", \" newlinechar \").replace(\"\\r\", \" newlinechar \").replace('\"', \"'\")\n",
    "    return data"
   ]
  },
  {
   "cell_type": "code",
   "execution_count": 8,
   "metadata": {
    "collapsed": true
   },
   "outputs": [],
   "source": [
    "def find_parent(pid):\n",
    "    try:\n",
    "        sql = \"SELECT comment FROM parent_reply WHERE comment_id = '{}' LIMIT 1\".format(pid)\n",
    "        c.execute(sql)\n",
    "        result = c.fetchone()\n",
    "        if result != None:\n",
    "            return result[0]\n",
    "        else:\n",
    "            return False\n",
    "    except Exception as e:\n",
    "        # print(\"find_parent\", e)\n",
    "        return False;"
   ]
  },
  {
   "cell_type": "code",
   "execution_count": 5,
   "metadata": {
    "collapsed": true
   },
   "outputs": [],
   "source": [
    "if __name__ == \"__main__\":\n",
    "    create_table()\n",
    "    row_counter = 0\n",
    "    paired_rows = 0\n",
    "    \n",
    "    with open(\"C:/Users/Aman Deep Singh/Documents/Python/Data Science/Machine Learning/Chatbot/RC_{}\".format(timeframe), buffer=1000) as f:\n",
    "        for row in f:\n",
    "            row_counter += 1\n",
    "            row = json.loads(row)\n",
    "            parent_id = row['parent_id']\n",
    "            body = format_data(row['body'])\n",
    "            created_utc = row['created_utc']\n",
    "            score = row['score']\n",
    "            subreddit = row['subreddit']\n",
    "            \n",
    "            parent_data = find_parent(parent_id)"
   ]
  },
  {
   "cell_type": "code",
   "execution_count": null,
   "metadata": {
    "collapsed": true
   },
   "outputs": [],
   "source": []
  }
 ],
 "metadata": {
  "kernelspec": {
   "display_name": "Python 3",
   "language": "python",
   "name": "python3"
  },
  "language_info": {
   "codemirror_mode": {
    "name": "ipython",
    "version": 3
   },
   "file_extension": ".py",
   "mimetype": "text/x-python",
   "name": "python",
   "nbconvert_exporter": "python",
   "pygments_lexer": "ipython3",
   "version": "3.6.1"
  }
 },
 "nbformat": 4,
 "nbformat_minor": 2
}
