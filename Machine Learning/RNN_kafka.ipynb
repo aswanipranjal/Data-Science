{
 "cells": [
  {
   "cell_type": "code",
   "execution_count": 1,
   "metadata": {},
   "outputs": [
    {
     "data": {
      "text/plain": [
       "8563"
      ]
     },
     "execution_count": 1,
     "metadata": {},
     "output_type": "execute_result"
    }
   ],
   "source": [
    "# data = open('kafka.txt',  'r').read()\n",
    "# Temporarily opening 'potha.txt'\n",
    "data = open('potha.txt', 'r').read()\n",
    "\n",
    "chars = list(set(data))\n",
    "data_size, vocab_size = len(data), len(chars)\n",
    "data_size"
   ]
  },
  {
   "cell_type": "code",
   "execution_count": 2,
   "metadata": {},
   "outputs": [
    {
     "data": {
      "text/plain": [
       "44"
      ]
     },
     "execution_count": 2,
     "metadata": {},
     "output_type": "execute_result"
    }
   ],
   "source": [
    "vocab_size"
   ]
  },
  {
   "cell_type": "code",
   "execution_count": 3,
   "metadata": {},
   "outputs": [
    {
     "name": "stdout",
     "output_type": "stream",
     "text": [
      "{\"'\": 0, 'r': 1, 'D': 2, 's': 3, 'x': 4, 'G': 5, 'f': 6, 'z': 7, 'b': 8, ' ': 9, 'i': 10, 't': 11, 'M': 12, 'O': 13, ')': 14, 'j': 15, 'y': 16, 'k': 17, 'E': 18, 'v': 19, 'u': 20, 'l': 21, 'g': 22, 'a': 23, 'c': 24, 'S': 25, 'p': 26, 'R': 27, '.': 28, 'I': 29, '(': 30, '-': 31, ',': 32, 'e': 33, 'd': 34, 'T': 35, 'q': 36, 'm': 37, 'n': 38, '\\n': 39, 'A': 40, 'o': 41, 'w': 42, 'h': 43}\n",
      "{0: \"'\", 1: 'r', 2: 'D', 3: 's', 4: 'x', 5: 'G', 6: 'f', 7: 'z', 8: 'b', 9: ' ', 10: 'i', 11: 't', 12: 'M', 13: 'O', 14: ')', 15: 'j', 16: 'y', 17: 'k', 18: 'E', 19: 'v', 20: 'u', 21: 'l', 22: 'g', 23: 'a', 24: 'c', 25: 'S', 26: 'p', 27: 'R', 28: '.', 29: 'I', 30: '(', 31: '-', 32: ',', 33: 'e', 34: 'd', 35: 'T', 36: 'q', 37: 'm', 38: 'n', 39: '\\n', 40: 'A', 41: 'o', 42: 'w', 43: 'h'}\n"
     ]
    }
   ],
   "source": [
    "char_to_ix = {ch:i for i, ch in enumerate(chars)}\n",
    "ix_to_char = {i:ch for i, ch in enumerate(chars)}\n",
    "print(char_to_ix)\n",
    "print(ix_to_char)"
   ]
  },
  {
   "cell_type": "code",
   "execution_count": 4,
   "metadata": {},
   "outputs": [
    {
     "name": "stdout",
     "output_type": "stream",
     "text": [
      "[ 0.  0.  0.  0.  0.  0.  0.  0.  0.  0.  0.  0.  0.  0.  0.  0.  0.  0.\n",
      "  0.  0.  0.  0.  0.  1.  0.  0.  0.  0.  0.  0.  0.  0.  0.  0.  0.  0.\n",
      "  0.  0.  0.  0.  0.  0.  0.  0.]\n"
     ]
    }
   ],
   "source": [
    "import numpy as np\n",
    "vector_for_char_a = np.zeros((vocab_size, 1))\n",
    "vector_for_char_a[char_to_ix['a']] = 1\n",
    "print(vector_for_char_a.ravel())"
   ]
  },
  {
   "cell_type": "markdown",
   "metadata": {},
   "source": [
    "## Define the network"
   ]
  },
  {
   "cell_type": "code",
   "execution_count": 5,
   "metadata": {
    "collapsed": true
   },
   "outputs": [],
   "source": [
    "# hyperparameters\n",
    "hidden_size = 100\n",
    "seq_length = 25\n",
    "learning_rate = 1e-1"
   ]
  },
  {
   "cell_type": "code",
   "execution_count": 6,
   "metadata": {
    "collapsed": true
   },
   "outputs": [],
   "source": [
    "# model parameters\n",
    "wxh = np.random.randn(hidden_size, vocab_size) * 0.01 # input to hidden state\n",
    "whh = np.random.randn(hidden_size, hidden_size) * 0.01 # hidden state to next hidden state\n",
    "why = np.random.randn(vocab_size, hidden_size) * 0.01 # hidden state to output state\n",
    "bh = np.zeros((hidden_size, 1)) # hidden bias\n",
    "by = np.zeros((vocab_size, 1)) # output bias"
   ]
  },
  {
   "cell_type": "code",
   "execution_count": 7,
   "metadata": {
    "collapsed": true
   },
   "outputs": [],
   "source": [
    "def loss_function(inputs, targets, hprev):\n",
    "    # hprev is the hidden state from previous time step\n",
    "    xs, hs, ys, ps = {}, {}, {}, {}\n",
    "    # xs stores the one-hot encoded values of the input characters for each of the 25 time steps\n",
    "    # hs stores the hidden state ouptuts\n",
    "    # ys stores the target values\n",
    "    # ps stores the outputs of ys and converts them to normalized probabilities for chars\n",
    "    hs[-1] = np.copy(hprev)\n",
    "    # init loss\n",
    "    loss = 0\n",
    "    \n",
    "    # forward pass\n",
    "    for t in range(len(inputs)):\n",
    "        xs[t] = np.zeros((vocab_size, 1))\n",
    "        xs[t][inputs[t]] = 1 # inside that t-th input we use\n",
    "        hs[t] = np.tanh(np.dot(wxh, xs[t]) + np.dot(whh, hs[t-1]) + bh)\n",
    "        ys[t] = np.dot(why, hs[t]) + by\n",
    "        ps[t] = np.exp(ys[t]) / np.sum(np.exp(ys[t]))\n",
    "        loss += -np.log(ps[t][targets[t], 0]) # softmax cross-entropy function\n",
    "        \n",
    "    # backward pass\n",
    "    dwxh, dwhh, dwhy = np.zeros_like(wxh), np.zeros_like(whh), np.zeros_like(why)\n",
    "    dbh, dby = np.zeros_like(bh), np.zeros_like(by)\n",
    "    dhnext = np.zeros_like(hs[0])\n",
    "    \n",
    "    for t in reversed(range(len(inputs))):\n",
    "        # output probabilities\n",
    "        dy = np.copy(ps[t])\n",
    "        # derive our first gradient\n",
    "        dy[targets[t]] -= 1 # backprop into y\n",
    "        # compute output gradient - output times hidden states transpose\n",
    "        dwhy += np.dot(dy, hs[t].T)\n",
    "        # derivative of output bias\n",
    "        dby += dy\n",
    "        # backpropagation\n",
    "        dh = np.dot(why.T, dy) + dhnext      # backpropagate into h\n",
    "        dhraw = (1 - hs[t] * hs[t]) * dh     # backpropagate througn tanh\n",
    "        dbh += dhraw                         # derivative of hidden bias\n",
    "        dwxh += np.dot(dhraw, xs[t].T)       # derivative of input layer to the hidden layer\n",
    "        dwhh += np.dot(dhraw, hs[t-1].T)     # derivative of hidden layer to the hidden layer\n",
    "        dhnext = np.dot(whh.T, dhraw)\n",
    "        \n",
    "    for dparam in [dwxh, dwhh, dwhy, dbh, dby]:\n",
    "        np.clip(dparam, -5, 5, out=dparam)   # clip to mitigate exploding gradients\n",
    "        \n",
    "    return loss, swxh, dwhh, dwhy, dbh, dby, hs[len(inputs)-1]"
   ]
  },
  {
   "cell_type": "code",
   "execution_count": 8,
   "metadata": {
    "collapsed": true
   },
   "outputs": [],
   "source": [
    "def sample(h, seed_ix, n):\n",
    "    \"\"\"\n",
    "    sample a sequence of integers from the model\n",
    "    h is the memory state\n",
    "    seed_ix is the seed letter for the first time step\n",
    "    n is how many characters to predict\n",
    "    \"\"\"\n",
    "    \n",
    "    x = np.zeros((vocab_size, 1))\n",
    "    x[seed_ix] = 1\n",
    "    ixes = []\n",
    "    \n",
    "    for t in range(n):\n",
    "        h = np.tanh(np.dot(wxh, x) + np.dot(whh, h) + bh)\n",
    "        y = np.dot(why, h) + by\n",
    "        p = np.exp(y) / np.sum(np.exp(y))\n",
    "        ix = np.random.choice(range(vocab_size), p=p.ravel())\n",
    "        x = np.zeros((vocab_size, 1))\n",
    "        x[ix] = 1\n",
    "        ixes.append(ix)\n",
    "        \n",
    "    txt = '----\\n'.join(ix_to_char[ix] for ix in ixes)\n",
    "    print(txt)\n",
    "    \n",
    "# Reset RNN memory\n",
    "# hprev = np.zeros((hidden_size, 1))\n",
    "# predict the next 200 characters given 'a'\n",
    "# sample(hprev, char_to_ix['a'], 200)"
   ]
  },
  {
   "cell_type": "code",
   "execution_count": null,
   "metadata": {
    "collapsed": true
   },
   "outputs": [],
   "source": []
  }
 ],
 "metadata": {
  "kernelspec": {
   "display_name": "Python 3",
   "language": "python",
   "name": "python3"
  },
  "language_info": {
   "codemirror_mode": {
    "name": "ipython",
    "version": 3
   },
   "file_extension": ".py",
   "mimetype": "text/x-python",
   "name": "python",
   "nbconvert_exporter": "python",
   "pygments_lexer": "ipython3",
   "version": "3.6.1"
  }
 },
 "nbformat": 4,
 "nbformat_minor": 2
}
