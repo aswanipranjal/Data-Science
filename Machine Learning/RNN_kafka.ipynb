{
 "cells": [
  {
   "cell_type": "code",
   "execution_count": null,
   "metadata": {},
   "outputs": [],
   "source": [
    "# data = open('kafka.txt',  'r').read()\n",
    "# Temporarily opening 'potha.txt'\n",
    "data = open('potha.txt', 'r').read()\n",
    "\n",
    "chars = list(set(data))\n",
    "data_size, vocab_size = len(data), len(chars)\n",
    "data_size"
   ]
  },
  {
   "cell_type": "code",
   "execution_count": null,
   "metadata": {},
   "outputs": [],
   "source": [
    "vocab_size"
   ]
  },
  {
   "cell_type": "code",
   "execution_count": null,
   "metadata": {},
   "outputs": [],
   "source": [
    "char_to_ix = {ch:i for i, ch in enumerate(chars)}\n",
    "ix_to_char = {i:ch for i, ch in enumerate(chars)}\n",
    "print(char_to_ix)\n",
    "print(ix_to_char)"
   ]
  },
  {
   "cell_type": "code",
   "execution_count": null,
   "metadata": {},
   "outputs": [],
   "source": [
    "import numpy as np\n",
    "vector_for_char_a = np.zeros((vocab_size, 1))\n",
    "vector_for_char_a[char_to_ix['a']] = 1\n",
    "print(vector_for_char_a.ravel())"
   ]
  },
  {
   "cell_type": "markdown",
   "metadata": {},
   "source": [
    "## Define the network"
   ]
  },
  {
   "cell_type": "code",
   "execution_count": null,
   "metadata": {
    "collapsed": true
   },
   "outputs": [],
   "source": [
    "# hyperparameters\n",
    "hidden_size = 100\n",
    "seq_length = 25\n",
    "learning_rate = 1e-1"
   ]
  },
  {
   "cell_type": "code",
   "execution_count": null,
   "metadata": {
    "collapsed": true
   },
   "outputs": [],
   "source": [
    "# model parameters\n",
    "wxh = np.random.randn(hidden_size, vocab_size) * 0.01 # input to hidden state\n",
    "whh = np.random.randn(hidden_size, hidden_size) * 0.01 # hidden state to next hidden state\n",
    "why = np.random.randn(vocab_size, hidden_size) * 0.01 # hidden state to output state\n",
    "bh = np.zeros((hidden_size, 1)) # hidden bias\n",
    "by = np.zeros((vocab_size, 1)) # output bias"
   ]
  },
  {
   "cell_type": "code",
   "execution_count": null,
   "metadata": {
    "collapsed": true
   },
   "outputs": [],
   "source": [
    "def loss_function(inputs, targets, hprev):\n",
    "    # hprev is the hidden state from previous time step\n",
    "    xs, hs, ys, ps = {}, {}, {}, {}\n",
    "    # xs stores the one-hot encoded values of the input characters for each of the 25 time steps\n",
    "    # hs stores the hidden state ouptuts\n",
    "    # ys stores the target values\n",
    "    # ps stores the outputs of ys and converts them to normalized probabilities for chars\n",
    "    hs[-1] = np.copy(hprev)\n",
    "    # init loss\n",
    "    loss = 0\n",
    "    \n",
    "    # forward pass\n",
    "    for t in range(len(inputs)):\n",
    "        xs[t] = np.zeros((vocab_size, 1))\n",
    "        xs[t][inputs[t]] = 1 # inside that t-th input we use\n",
    "        hs[t] = np.tanh(np.dot(wxh, xs[t]) + np.dot(whh, hs[t-1]) + bh)\n",
    "        ys[t] = np.dot(why, hs[t]) + by\n",
    "        ps[t] = np.exp(ys[t]) / np.sum(np.exp(ys[t]))\n",
    "        loss += -np.log(ps[t][targets[t], 0]) # softmax cross-entropy function\n",
    "        \n",
    "    # backward pass\n",
    "    dwxh, dwhh, dwhy = np.zeros_like(wxh), np.zeros_like(whh), np.zeros_like(why)\n",
    "    dbh, dby = np.zeros_like(bh), np.zeros_like(by)\n",
    "    dhnext = np.zeros_like(hs[0])\n",
    "    \n",
    "    for t in reversed(range(len(inputs))):\n",
    "        # output probabilities\n",
    "        dy = np.copy(ps[t])\n",
    "        # derive our first gradient\n",
    "        dy[targets[t]] -= 1 # backprop into y\n",
    "        # compute output gradient - output times hidden states transpose\n",
    "        dwhy += np.dot(dy, hs[t].T)\n",
    "        # derivative of output bias\n",
    "        dby += dy\n",
    "        # backpropagation\n",
    "        dh = np.dot(why.T, dy) + dhnext      # backpropagate into h\n",
    "        dhraw = (1 - hs[t] * hs[t]) * dh     # backpropagate througn tanh\n",
    "        dbh += dhraw                         # derivative of hidden bias\n",
    "        dwxh += np.dot(dhraw, xs[t].T)       # derivative of input layer to the hidden layer\n",
    "        dwhh += np.dot(dhraw, hs[t-1].T)     # derivative of hidden layer to the hidden layer\n",
    "        dhnext = np.dot(whh.T, dhraw)\n",
    "        \n",
    "    for dparam in [dwxh, dwhh, dwhy, dbh, dby]:\n",
    "        np.clip(dparam, -5, 5, out=dparam)   # clip to mitigate exploding gradients\n",
    "        \n",
    "    return loss, dwxh, dwhh, dwhy, dbh, dby, hs[len(inputs)-1]"
   ]
  },
  {
   "cell_type": "code",
   "execution_count": null,
   "metadata": {
    "collapsed": true
   },
   "outputs": [],
   "source": [
    "def sample(h, seed_ix, n):\n",
    "    \"\"\"\n",
    "    sample a sequence of integers from the model\n",
    "    h is the memory state\n",
    "    seed_ix is the seed letter for the first time step\n",
    "    n is how many characters to predict\n",
    "    \"\"\"+\n",
    "    \n",
    "    x = np.zeros((vocab_size, 1))\n",
    "    x[seed_ix] = 1\n",
    "    ixes = []\n",
    "    \n",
    "    for t in range(n):\n",
    "        h = np.tanh(np.dot(wxh, x) + np.dot(whh, h) + bh)\n",
    "        y = np.dot(why, h) + by\n",
    "        p = np.exp(y) / np.sum(np.exp(y))\n",
    "        ix = np.random.choice(range(vocab_size), p=p.ravel())\n",
    "        x = np.zeros((vocab_size, 1))\n",
    "        x[ix] = 1\n",
    "        ixes.append(ix)\n",
    "        \n",
    "    txt = ''.join(ix_to_char[ix] for ix in ixes)\n",
    "    print(txt)\n",
    "    \n",
    "# Reset RNN memory\n",
    "# hprev = np.zeros((hidden_size, 1))\n",
    "# predict the next 200 characters given 'a'\n",
    "# sample(hprev, char_to_ix['a'], 200)"
   ]
  },
  {
   "cell_type": "markdown",
   "metadata": {},
   "source": [
    "## Training\n",
    "1. Feed the network with portion of the file. Size of chunk is seq_length\n",
    "2. Use the loss function to: <br>\n",
    "    a. Do forward pass to calculate all parameters for the model for a given input and target pairs <br>\n",
    "    b. Do backward pass to calculate all gradients <br>\n",
    "3. Print a sentence from a random seed using the parameters of the network\n",
    "4. Update the model  using the Adaptive Gradient technique Adagrad"
   ]
  },
  {
   "cell_type": "code",
   "execution_count": null,
   "metadata": {},
   "outputs": [],
   "source": [
    "p = 0\n",
    "inputs = [char_to_ix[ch] for ch in data[p:p+seq_length]]\n",
    "print(\"Inputs \", inputs)\n",
    "targets = [char_to_ix[ch] for ch in data[p+1:p+seq_length+1]]\n",
    "print(\"Targets \", targets)"
   ]
  },
  {
   "cell_type": "code",
   "execution_count": null,
   "metadata": {},
   "outputs": [],
   "source": [
    "n, p = 0, 0\n",
    "mwxh, mwhh, mwhy = np.zeros_like(wxh), np.zeros_like(whh), np.zeros_like(why)\n",
    "mbh, mby = np.zeros_like(bh), np.zeros_like(by)\n",
    "smooth_loss = -np.log(1.0/vocab_size) * seq_length\n",
    "while n <= 1000*100:\n",
    "    if (p+seq_length+1 >= len(data)) or (n == 0):\n",
    "        hprev = np.zeros((hidden_size, 1)) # reset RNN memory\n",
    "        p = 0 # go  from start of data\n",
    "    inputs = [char_to_ix[ch] for ch in data[p:p+seq_length]]\n",
    "    targets = [char_to_ix[ch] for ch in data[p+1:p+seq_length+1]]\n",
    "    \n",
    "    loss, dwxh, dwhh, dwhy, dbh, dby, hprev = loss_function(inputs, targets, hprev)\n",
    "    smooth_loss = smooth_loss * 0.999 + loss * 0.001\n",
    "    \n",
    "    if n % 1000 == 0:\n",
    "        print('Iter ', n, 'loss: ', smooth_loss)\n",
    "        sample(hprev, inputs[0], 200)\n",
    "        \n",
    "    for param, dparam, mem in zip([wxh, whh, why, bh, by], [dwxh, dwhh, dwhy, dbh, dby], [mwxh, mwhh, mwhy, mbh, mby]):\n",
    "        mem += dparam * dparam\n",
    "        param += -learning_rate * dparam / np.sqrt(mem + 1e-8)\n",
    "        \n",
    "    p += seq_length # move data pointer\n",
    "    n += 1          # iteration counter"
   ]
  },
  {
   "cell_type": "code",
   "execution_count": null,
   "metadata": {
    "collapsed": true
   },
   "outputs": [],
   "source": []
  }
 ],
 "metadata": {
  "kernelspec": {
   "display_name": "Python 3",
   "language": "python",
   "name": "python3"
  },
  "language_info": {
   "codemirror_mode": {
    "name": "ipython",
    "version": 3
   },
   "file_extension": ".py",
   "mimetype": "text/x-python",
   "name": "python",
   "nbconvert_exporter": "python",
   "pygments_lexer": "ipython3",
   "version": "3.6.1"
  }
 },
 "nbformat": 4,
 "nbformat_minor": 2
}
