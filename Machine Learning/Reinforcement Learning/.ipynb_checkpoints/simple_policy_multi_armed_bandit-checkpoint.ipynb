{
 "cells": [
  {
   "cell_type": "code",
   "execution_count": 1,
   "metadata": {
    "collapsed": true
   },
   "outputs": [],
   "source": [
    "import tensorflow as tf\n",
    "import tensorflow.contrib.slim as slim\n",
    "import numpy as np"
   ]
  },
  {
   "cell_type": "code",
   "execution_count": 2,
   "metadata": {
    "collapsed": true
   },
   "outputs": [],
   "source": [
    "bandit_arms = [0.2, 0, -0.2, -2]\n",
    "num_arms = len(bandit_arms)\n",
    "def pull_bandit(bandit):\n",
    "    result = np.random.randn(1)\n",
    "    if result > bandit:\n",
    "        # positive reward\n",
    "        return 1\n",
    "    else:\n",
    "        # negative reward\n",
    "        return -1"
   ]
  },
  {
   "cell_type": "code",
   "execution_count": 3,
   "metadata": {
    "collapsed": true
   },
   "outputs": [],
   "source": [
    "tf.reset_default_graph()\n",
    "\n",
    "weights = tf.Variable(tf.ones([num_arms]))\n",
    "outputs = tf.nn.softmax(weights)\n",
    "\n",
    "reward_holder = tf.placeholder(shape=[1], dtype=tf.float32)\n",
    "action_holder = tf.placeholder(shape=[1], dtype=tf.int32)\n",
    "\n",
    "responsible_output = tf.slice(outputs, action_holder, [1])\n",
    "loss = -(tf.log(responsible_output) * reward_holder)\n",
    "optimizer = tf.train.AdamOptimizer(learning_rate=1e-3)\n",
    "update = optimizer.minimize(loss)"
   ]
  },
  {
   "cell_type": "code",
   "execution_count": 4,
   "metadata": {},
   "outputs": [
    {
     "name": "stdout",
     "output_type": "stream",
     "text": [
      "Running reward for the 4 arms of the bandi: [ 1.  0.  0.  0.]\n",
      "Running reward for the 4 arms of the bandi: [-1. -4.  9.  7.]\n",
      "Running reward for the 4 arms of the bandi: [  4.  -3.   8.  26.]\n",
      "Running reward for the 4 arms of the bandi: [ -1.   5.   9.  38.]\n",
      "Running reward for the 4 arms of the bandi: [ -7.   5.  13.  52.]\n",
      "Running reward for the 4 arms of the bandi: [ -7.   2.   7.  63.]\n",
      "Running reward for the 4 arms of the bandi: [ -9.   5.   8.  75.]\n",
      "Running reward for the 4 arms of the bandi: [-13.   6.   4.  92.]\n",
      "Running reward for the 4 arms of the bandi: [ -19.    8.    9.  109.]\n",
      "Running reward for the 4 arms of the bandi: [ -25.   10.   10.  122.]\n",
      "Running reward for the 4 arms of the bandi: [ -27.   12.   11.  137.]\n",
      "Running reward for the 4 arms of the bandi: [ -31.    9.   11.  154.]\n",
      "Running reward for the 4 arms of the bandi: [ -31.    8.   20.  170.]\n",
      "Running reward for the 4 arms of the bandi: [ -32.   13.   16.  186.]\n",
      "Running reward for the 4 arms of the bandi: [ -36.   11.   20.  210.]\n",
      "Running reward for the 4 arms of the bandi: [ -41.   11.   25.  228.]\n",
      "Running reward for the 4 arms of the bandi: [ -39.   12.   25.  247.]\n",
      "Running reward for the 4 arms of the bandi: [ -42.   11.   28.  266.]\n",
      "Running reward for the 4 arms of the bandi: [ -43.    9.   30.  289.]\n",
      "Running reward for the 4 arms of the bandi: [ -47.   13.   34.  309.]\n",
      "The agent thinks arm 4 is the most promising...\n",
      "...and it was right!\n"
     ]
    }
   ],
   "source": [
    "total_episodes = 1000\n",
    "total_reward = np.zeros(num_arms)\n",
    "\n",
    "init = tf.global_variables_initializer()\n",
    "\n",
    "with tf.Session() as sess:\n",
    "    sess.run(init)\n",
    "    i = 0\n",
    "    while i < total_episodes:\n",
    "        # choose action according to boltzmann distribution\n",
    "        actions = sess.run(outputs)\n",
    "        a = np.random.choice(actions, p=actions)\n",
    "        action = np.argmax(actions == a)\n",
    "        reward = pull_bandit(bandit_arms[action])\n",
    "        _, resp, ww = sess.run([update, responsible_output, weights], feed_dict={reward_holder:[reward], action_holder:[action]})\n",
    "        \n",
    "        total_reward[action] += reward\n",
    "        if i % 50 == 0:\n",
    "            print('Running reward for the ' + str(num_arms) + ' arms of the bandi: ' + str(total_reward))\n",
    "        i += 1\n",
    "\n",
    "print('The agent thinks arm ' + str(np.argmax(ww) + 1) + ' is the most promising...')\n",
    "if np.argmax(ww) == np.argmax(-np.array(bandit_arms)):\n",
    "    print('...and it was right!')\n",
    "else:\n",
    "    print('...but it was wrong!')"
   ]
  }
 ],
 "metadata": {
  "kernelspec": {
   "display_name": "Python 3",
   "language": "python",
   "name": "python3"
  },
  "language_info": {
   "codemirror_mode": {
    "name": "ipython",
    "version": 3
   },
   "file_extension": ".py",
   "mimetype": "text/x-python",
   "name": "python",
   "nbconvert_exporter": "python",
   "pygments_lexer": "ipython3",
   "version": "3.6.1"
  }
 },
 "nbformat": 4,
 "nbformat_minor": 2
}
