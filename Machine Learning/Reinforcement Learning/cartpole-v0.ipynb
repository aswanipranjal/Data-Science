{
 "cells": [
  {
   "cell_type": "code",
   "execution_count": 1,
   "metadata": {},
   "outputs": [
    {
     "name": "stdout",
     "output_type": "stream",
     "text": [
      "curses is not supported on this machine (please install/reinstall curses for an optimal experience)\n"
     ]
    }
   ],
   "source": [
    "import gym\n",
    "import random\n",
    "import numpy as np\n",
    "import tflearn\n",
    "from tflearn.layers.core import input_data, dropout, fully_connected\n",
    "from tflearn.layers.estimator import regression\n",
    "from statistics import mean, median\n",
    "from collections import Counter"
   ]
  },
  {
   "cell_type": "code",
   "execution_count": 3,
   "metadata": {},
   "outputs": [
    {
     "name": "stderr",
     "output_type": "stream",
     "text": [
      "[2018-01-22 12:03:50,837] Making new env: CartPole-v0\n"
     ]
    },
    {
     "data": {
      "text/plain": [
       "array([-0.0431187 , -0.0063828 , -0.00725993,  0.02318852])"
      ]
     },
     "execution_count": 3,
     "metadata": {},
     "output_type": "execute_result"
    }
   ],
   "source": [
    "lr = 1e-3\n",
    "env = gym.make('CartPole-v0')\n",
    "env.reset()"
   ]
  },
  {
   "cell_type": "code",
   "execution_count": 4,
   "metadata": {
    "collapsed": true
   },
   "outputs": [],
   "source": [
    "goal_steps = 500\n",
    "score_requirement = 50\n",
    "initial_games = 10000"
   ]
  },
  {
   "cell_type": "code",
   "execution_count": 5,
   "metadata": {
    "collapsed": true
   },
   "outputs": [],
   "source": [
    "def some_random_games_first():\n",
    "    for episode in range(5):\n",
    "        env.reset()\n",
    "        for t in range(goal_steps):\n",
    "            env.render()\n",
    "            # takes a random action from the action space\n",
    "            action = env.action_space.sample()\n",
    "            observation, reward, done, info = env.step(action)\n",
    "            if done:\n",
    "                break"
   ]
  },
  {
   "cell_type": "code",
   "execution_count": 6,
   "metadata": {
    "collapsed": true
   },
   "outputs": [],
   "source": [
    "some_random_games_first()"
   ]
  },
  {
   "cell_type": "code",
   "execution_count": null,
   "metadata": {
    "collapsed": true
   },
   "outputs": [],
   "source": [
    "# generate training samples\n",
    "def initial_population():\n",
    "    # stores the observations that a random move made\n",
    "    training_data = []\n",
    "    scores = []\n",
    "    # appends the data only if the corresponding score happens to be above 50\n",
    "    accepted_scores = []\n",
    "    for i in range(initial_games):\n",
    "        score = 0\n",
    "        # store game memory as we will not know until the end of the game whether or not we beat the required score\n",
    "        game_memory = []\n",
    "        prev_observation = None\n",
    "        # iterate through the plausible steps\n",
    "        for j in range(goal_steps):\n",
    "            action = random.randrange(0, 2) # generates a 0 or a 1\n",
    "            observation, reward, done, info = env.step(action)\n",
    "            \n",
    "            if prev_observation:\n",
    "                # basically looks at the previous frame and stores the current action and if the score is high enough,\n",
    "                # it will be appended to the training data as we looked at the previous frame and did something on\n",
    "                # this frame that increased our score, and we would like our neural network to learn this mapping\n",
    "                game_memory.append([prev_observation, action])\n",
    "                \n",
    "            prev_observation = observation\n",
    "            score += reward\n",
    "            if done:\n",
    "                break\n",
    "        \n",
    "        if score >= score_requirement:\n",
    "            accepted_scores.append(score)\n",
    "            # converting output into a one-hot vector for training\n",
    "            for data in game_memory:\n",
    "                if data[1] == 1:\n",
    "                    output = [0, 1]\n",
    "                elif data[1] == 0:\n",
    "                    output = [1, 0]\n",
    "                    \n",
    "                # appends the observation and the given output(in one-hot vector format)\n",
    "                training_data.append(data[0], output)\n",
    "                \n",
    "        env.reset()\n",
    "        scores.append(score)\n",
    "    \n",
    "    training_data_save = np.array(training_data)\n",
    "    np.save('cartpole-v0_training_data.npy', training_data_save)\n",
    "    \n",
    "    print('Average accepted score: ', mean(accepted_scores))\n",
    "    print('Median accepted score: ', median(accepted_scores))\n",
    "    print(Counter(accepted_scores))\n",
    "    \n",
    "    return training_data"
   ]
  }
 ],
 "metadata": {
  "kernelspec": {
   "display_name": "Python 3",
   "language": "python",
   "name": "python3"
  },
  "language_info": {
   "codemirror_mode": {
    "name": "ipython",
    "version": 3
   },
   "file_extension": ".py",
   "mimetype": "text/x-python",
   "name": "python",
   "nbconvert_exporter": "python",
   "pygments_lexer": "ipython3",
   "version": "3.6.1"
  }
 },
 "nbformat": 4,
 "nbformat_minor": 2
}
