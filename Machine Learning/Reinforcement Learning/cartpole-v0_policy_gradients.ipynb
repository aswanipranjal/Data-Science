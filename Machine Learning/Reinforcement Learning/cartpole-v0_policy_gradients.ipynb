{
 "cells": [
  {
   "cell_type": "code",
   "execution_count": 1,
   "metadata": {
    "collapsed": true
   },
   "outputs": [],
   "source": [
    "from __future__ import division\n",
    "\n",
    "import numpy as np\n",
    "try:\n",
    "    import cPickle as pickle\n",
    "except:\n",
    "    import pickle\n",
    "import tensorflow as tf\n",
    "%matplotlib inline\n",
    "import matplotlib.pyplot as plt\n",
    "import math"
   ]
  },
  {
   "cell_type": "code",
   "execution_count": 2,
   "metadata": {},
   "outputs": [
    {
     "name": "stderr",
     "output_type": "stream",
     "text": [
      "[2018-01-31 22:31:51,529] Making new env: CartPole-v0\n"
     ]
    }
   ],
   "source": [
    "import gym\n",
    "env = gym.make('CartPole-v0')"
   ]
  },
  {
   "cell_type": "code",
   "execution_count": 3,
   "metadata": {},
   "outputs": [
    {
     "name": "stdout",
     "output_type": "stream",
     "text": [
      "Reward for this episode was: 45.0\n",
      "Reward for this episode was: 12.0\n",
      "Reward for this episode was: 13.0\n",
      "Reward for this episode was: 21.0\n",
      "Reward for this episode was: 24.0\n",
      "Reward for this episode was: 18.0\n",
      "Reward for this episode was: 9.0\n",
      "Reward for this episode was: 24.0\n",
      "Reward for this episode was: 12.0\n",
      "Reward for this episode was: 36.0\n"
     ]
    }
   ],
   "source": [
    "env.reset()\n",
    "random_episodes = 0\n",
    "reward_sum = 0\n",
    "while random_episodes < 10:\n",
    "    env.render()\n",
    "    observation, reward, done, _ = env.step(np.random.randint(0, 2))\n",
    "    reward_sum += reward\n",
    "    if done:\n",
    "        random_episodes += 1\n",
    "        print('Reward for this episode was:', reward_sum)\n",
    "        reward_sum = 0\n",
    "        env.reset()"
   ]
  },
  {
   "cell_type": "code",
   "execution_count": 4,
   "metadata": {
    "collapsed": true
   },
   "outputs": [],
   "source": [
    "# hyperparameters\n",
    "H = 10 # number of hidden layer neurons\n",
    "batch_size = 5 # how many episodes to do a param update after\n",
    "learning_rate = 1e-2\n",
    "gamma = 0.99 # discount factor\n",
    "\n",
    "D = 4 # input dimensionality"
   ]
  },
  {
   "cell_type": "code",
   "execution_count": 5,
   "metadata": {
    "collapsed": true
   },
   "outputs": [],
   "source": [
    "tf.reset_default_graph()\n",
    "\n",
    "observations = tf.placeholder(tf.float32, [None, D], name='input_x')\n",
    "W1 = tf.get_variable('W1', shape=[D, H], initializer=tf.contrib.layers.xavier_initializer())\n",
    "layer1 = tf.nn.relu(tf.matmul(observations, W1))\n",
    "W2 = tf.get_variable('W2', shape=[H, 1], initializer=tf.contrib.layers.xavier_initializer())\n",
    "score = tf.matmul(layer1, W2)\n",
    "probability = tf.nn.sigmoid(score)\n",
    "\n",
    "tvars = tf.trainable_variables()\n",
    "input_y = tf.placeholder(tf.float32, [None, 1], name='input_y')\n",
    "advantages = tf.placeholder(tf.float32, name='reward_signal')\n",
    "\n",
    "loglik = tf.log(input_y * (input_y - probability) + (1 - input_y) * (input_y + probability))\n",
    "loss = -tf.reduce_mean(loglik * advantages)\n",
    "new_grads = tf.gradients(loss, tvars)\n",
    "\n",
    "adam = tf.train.AdamOptimizer(learning_rate=learning_rate)\n",
    "W1Grad = tf.placeholder(tf.float32, name='batch_grad1')\n",
    "W2Grad = tf.placeholder(tf.float32, name='batch_grad2')\n",
    "batch_grad = [W1Grad, W2Grad]\n",
    "update_grads = adam.apply_gradients(zip(batch_grad, tvars))"
   ]
  },
  {
   "cell_type": "code",
   "execution_count": 6,
   "metadata": {
    "collapsed": true
   },
   "outputs": [],
   "source": [
    "def discount_rewards(r):\n",
    "    discounted_r = np.zeros_like(r)\n",
    "    running_add = 0\n",
    "    for t in reversed(range(0, r.size)):\n",
    "        running_add = running_add * gamma + r[t]\n",
    "        discounted_r[t] = running_add\n",
    "    return discounted_r"
   ]
  },
  {
   "cell_type": "code",
   "execution_count": null,
   "metadata": {
    "collapsed": true
   },
   "outputs": [],
   "source": [
    "# Running the agent\n",
    "xs, hs, dlogps, drs, ys, tfps = [], [], [], [], [], []\n",
    "running_reward = None\n",
    "reward_sum = 0\n",
    "episode_number = 1\n",
    "total_episodes = 10000\n",
    "init = tf.global_variables_initializer()\n",
    "\n",
    "with tf.Session() as sess:\n",
    "    rendering = False\n",
    "    sess.run(init)\n",
    "    observation = env.reset()\n",
    "    \n",
    "    grad_buffer = sess.run(tvars)\n",
    "    for ix, grad in enumerate(grad_buffer):\n",
    "        grad_buffer[ix] = grad * 0\n",
    "        \n",
    "    while episode_number <= total_episodes:\n",
    "        if reward_sum / batch_size > 100 or rendering == True:\n",
    "            env.render()\n",
    "            rendering = True\n",
    "            \n",
    "        x = np.reshape(observation, [1, D])\n",
    "        \n",
    "        tfprob = sess.run(probability, feed_dict={observations: x})\n",
    "        action = 1 if np.random.uniform() < tfprob else 0\n",
    "        \n",
    "        xs.append(x)\n",
    "        y = 1 if action == 0 else 0\n",
    "        ys.append(y)\n",
    "        \n",
    "        observation, reward, done, info = env.step(action)\n",
    "        reward_sum += reward\n",
    "        \n",
    "        drs.append(reward)\n",
    "        \n",
    "        if done:\n",
    "            episode_number += 1\n",
    "            epx = np.vstack(xs)\n",
    "            epy = np.vstack(ys)\n",
    "            epr = np.vstack(drs)\n",
    "            tfp = tfps\n",
    "            xs, hs, dlogps, drs, ys, tfps = [], [], [], [], [], []\n",
    "            \n",
    "            discounted_epr = discount_rewards(epr)\n",
    "            discounted_epr -= np.mean(discounted_epr)\n",
    "            discounted_epr //= np.std(discounted_epr)\n",
    "            \n",
    "            tGrad = sess.run(new_grads, feed_dict={observations: epx, input_y: epy, advantages: discounted_epr})\n",
    "            for ix, grad in enumerate(tGrad):\n",
    "                grad_buffer[ix] += grad\n",
    "                \n",
    "            if episode_number % batch_size == 0:\n",
    "                sess.run(update_grads, feed_dict={W1Grad: grad_buffer[0], W2Grad: grad_buffer[1]})\n",
    "                for ix, grad in enumerate(grad_buffer):\n",
    "                    grad_buffer[ix] = grad * 0\n",
    "                    \n",
    "                running_reward = reward_sum if running_reward is None else running_reward * 0.99 + reward_sum * 0.01\n",
    "                "
   ]
  }
 ],
 "metadata": {
  "kernelspec": {
   "display_name": "Python 3",
   "language": "python",
   "name": "python3"
  },
  "language_info": {
   "codemirror_mode": {
    "name": "ipython",
    "version": 3
   },
   "file_extension": ".py",
   "mimetype": "text/x-python",
   "name": "python",
   "nbconvert_exporter": "python",
   "pygments_lexer": "ipython3",
   "version": "3.6.1"
  }
 },
 "nbformat": 4,
 "nbformat_minor": 2
}
