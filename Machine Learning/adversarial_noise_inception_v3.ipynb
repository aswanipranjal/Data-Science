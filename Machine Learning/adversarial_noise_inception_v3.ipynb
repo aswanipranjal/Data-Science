{
 "cells": [
  {
   "cell_type": "code",
   "execution_count": 1,
   "metadata": {
    "collapsed": true
   },
   "outputs": [],
   "source": [
    "%matplotlib inline\n",
    "import matplotlib.pyplot as plt\n",
    "import tensorflow as tf\n",
    "import numpy as np\n",
    "import os\n",
    "\n",
    "import inception"
   ]
  },
  {
   "cell_type": "code",
   "execution_count": 2,
   "metadata": {},
   "outputs": [
    {
     "data": {
      "text/plain": [
       "'1.1.0'"
      ]
     },
     "execution_count": 2,
     "metadata": {},
     "output_type": "execute_result"
    }
   ],
   "source": [
    "tf.__version__"
   ]
  },
  {
   "cell_type": "code",
   "execution_count": 4,
   "metadata": {},
   "outputs": [
    {
     "name": "stdout",
     "output_type": "stream",
     "text": [
      "Downloading Inception v3 Model ...\n",
      "Data has apparently already been downloaded and unpacked.\n"
     ]
    }
   ],
   "source": [
    "inception.data_dir = 'C:/Users/Aman Deep Singh/Documents/Python/Data/Inception v3/inception/'\n",
    "inception.maybe_download()"
   ]
  },
  {
   "cell_type": "code",
   "execution_count": 5,
   "metadata": {
    "collapsed": true
   },
   "outputs": [],
   "source": [
    "model = inception.Inception()"
   ]
  },
  {
   "cell_type": "code",
   "execution_count": 7,
   "metadata": {
    "collapsed": true
   },
   "outputs": [],
   "source": [
    "resized_image = model.resized_image\n",
    "y_pred = model.y_pred\n",
    "y_logits = model.y_logits"
   ]
  },
  {
   "cell_type": "code",
   "execution_count": 8,
   "metadata": {
    "collapsed": true
   },
   "outputs": [],
   "source": [
    "with model.graph.as_default():\n",
    "    pl_cls_target = tf.placeholder(dtype=tf.int32)\n",
    "    loss = tf.nn.sparse_softmax_cross_entropy_with_logits(logits=y_logits, labels=[pl_cls_target])\n",
    "    gradient = tf.gradients(loss, resized_image)"
   ]
  },
  {
   "cell_type": "code",
   "execution_count": 9,
   "metadata": {
    "collapsed": true
   },
   "outputs": [],
   "source": [
    "session = tf.Session(graph=model.graph)"
   ]
  },
  {
   "cell_type": "code",
   "execution_count": 10,
   "metadata": {
    "collapsed": true
   },
   "outputs": [],
   "source": [
    "def find_adversary_noise(image_path, cls_target, noise_limit=3.0, required_score=0.99, max_iterations=100):\n",
    "    feed_dict = model._create_feed_dict(image_path=image_path)\n",
    "    pred, image = session.run([y_pred, resized_image], feed_dict=feed_dict)\n",
    "    pred = np.squeeze(pred)\n",
    "    cls_source = np.argmax(pred)\n",
    "    score_source_org = pred.max()\n",
    "    name_source = model.name_lookup.cls_to_name(cls_source, only_first_name=True)\n",
    "    name_target = model.name_lookup.cls_to_name(cls_target, only_first_name=True)\n",
    "    \n",
    "    noise = 0\n",
    "    for i in range(max_iterations):\n",
    "        print('Iteration: ', i)\n",
    "        noisy_image = image + noise\n",
    "        noisy_image = np.clip(a=noisy_image, a_min=0.0, a_max=255.0)\n",
    "        feed_dict = {model.tensor_name_resized_image: noisy_image,\n",
    "                     pl_cls_target: cls_target}\n",
    "        pred, grad = session.run([y_pred, gradient], feed_dict=feed_dict)\n",
    "        pred = np.squeeze(pred)\n",
    "        score_source = pred[cls_source]\n",
    "        score_target = pred[cls_target]\n",
    "        grad = np.array(grad).squeeze()\n",
    "        grad_absmax = np.abs(grad).max()\n",
    "        \n",
    "        if grad_absmax < 1e-10:\n",
    "            grad_absmax = 1e-10\n",
    "            \n",
    "        step_size = 7 / grad_absmax\n",
    "\n",
    "        # Print the score etc. for the source-class.\n",
    "        msg = \"Source score: {0:>7.2%}, class-number: {1:>4}, class-name: {2}\"\n",
    "        print(msg.format(score_source, cls_source, name_source))\n",
    "\n",
    "        # Print the score etc. for the target-class.\n",
    "        msg = \"Target score: {0:>7.2%}, class-number: {1:>4}, class-name: {2}\"\n",
    "        print(msg.format(score_target, cls_target, name_target))\n",
    "\n",
    "        # Print statistics for the gradient.\n",
    "        msg = \"Gradient min: {0:>9.6f}, max: {1:>9.6f}, stepsize: {2:>9.2f}\"\n",
    "        print(msg.format(grad.min(), grad.max(), step_size))\n",
    "\n",
    "        # Newline.\n",
    "        print()\n",
    "        \n",
    "        if score_target < required_score:\n",
    "            noise -= step_size * grad\n",
    "            noise = np.clip(a=noise, a_min=-noise_limit, a_max=noise_limit)\n",
    "        else:\n",
    "            break\n",
    "            \n",
    "    return image.squeeze(), noisy_image.squeeze(), noise, name_source, name_target, score_source, score_source_org, score_target"
   ]
  },
  {
   "cell_type": "code",
   "execution_count": null,
   "metadata": {
    "collapsed": true
   },
   "outputs": [],
   "source": []
  }
 ],
 "metadata": {
  "kernelspec": {
   "display_name": "Python 3",
   "language": "python",
   "name": "python3"
  },
  "language_info": {
   "codemirror_mode": {
    "name": "ipython",
    "version": 3
   },
   "file_extension": ".py",
   "mimetype": "text/x-python",
   "name": "python",
   "nbconvert_exporter": "python",
   "pygments_lexer": "ipython3",
   "version": "3.6.1"
  }
 },
 "nbformat": 4,
 "nbformat_minor": 2
}
